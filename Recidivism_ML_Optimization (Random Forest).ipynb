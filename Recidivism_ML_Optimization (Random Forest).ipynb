{
 "cells": [
  {
   "cell_type": "markdown",
   "id": "5d1b856f",
   "metadata": {},
   "source": [
    "# Recidivision Prediction: Machine Learning Optimization"
   ]
  },
  {
   "cell_type": "markdown",
   "id": "99b41247",
   "metadata": {},
   "source": [
    "## Importing Libraries and Dataset"
   ]
  },
  {
   "cell_type": "code",
   "execution_count": 1,
   "id": "ac7a7bde",
   "metadata": {},
   "outputs": [],
   "source": [
    "# Import Libraries\n",
    "import pandas as pd\n",
    "import numpy as np\n",
    "from sklearn.model_selection import train_test_split\n",
    "from sklearn.preprocessing import StandardScaler\n",
    "from sklearn.metrics import confusion_matrix, accuracy_score, classification_report\n",
    "from sklearn.ensemble import RandomForestClassifier\n",
    "import tensorflow as tf"
   ]
  },
  {
   "cell_type": "code",
   "execution_count": 2,
   "id": "58184fb9",
   "metadata": {},
   "outputs": [
    {
     "data": {
      "text/html": [
       "<div>\n",
       "<style scoped>\n",
       "    .dataframe tbody tr th:only-of-type {\n",
       "        vertical-align: middle;\n",
       "    }\n",
       "\n",
       "    .dataframe tbody tr th {\n",
       "        vertical-align: top;\n",
       "    }\n",
       "\n",
       "    .dataframe thead th {\n",
       "        text-align: right;\n",
       "    }\n",
       "</style>\n",
       "<table border=\"1\" class=\"dataframe\">\n",
       "  <thead>\n",
       "    <tr style=\"text-align: right;\">\n",
       "      <th></th>\n",
       "      <th>Race_Asian</th>\n",
       "      <th>Race_Black</th>\n",
       "      <th>Race_Hispanic</th>\n",
       "      <th>Race_Native</th>\n",
       "      <th>Race_White</th>\n",
       "      <th>Age_25-34</th>\n",
       "      <th>Age_35-44</th>\n",
       "      <th>Age_45-54</th>\n",
       "      <th>Age_55 and Older</th>\n",
       "      <th>Age_Under 25</th>\n",
       "      <th>...</th>\n",
       "      <th>Offense Type_Property</th>\n",
       "      <th>Offense Type_Public Order</th>\n",
       "      <th>Offense Type_Violent</th>\n",
       "      <th>Release Type_Discharged End of Sentence</th>\n",
       "      <th>Release Type_Other</th>\n",
       "      <th>Release Type_Parole</th>\n",
       "      <th>Release Type_Paroled to Detainer</th>\n",
       "      <th>Release Type_Special Sentence</th>\n",
       "      <th>Year Released</th>\n",
       "      <th>Recidivism</th>\n",
       "    </tr>\n",
       "  </thead>\n",
       "  <tbody>\n",
       "    <tr>\n",
       "      <th>0</th>\n",
       "      <td>0</td>\n",
       "      <td>0</td>\n",
       "      <td>0</td>\n",
       "      <td>0</td>\n",
       "      <td>1</td>\n",
       "      <td>0</td>\n",
       "      <td>0</td>\n",
       "      <td>0</td>\n",
       "      <td>0</td>\n",
       "      <td>1</td>\n",
       "      <td>...</td>\n",
       "      <td>0</td>\n",
       "      <td>0</td>\n",
       "      <td>1</td>\n",
       "      <td>0</td>\n",
       "      <td>0</td>\n",
       "      <td>1</td>\n",
       "      <td>0</td>\n",
       "      <td>0</td>\n",
       "      <td>2010</td>\n",
       "      <td>1</td>\n",
       "    </tr>\n",
       "    <tr>\n",
       "      <th>1</th>\n",
       "      <td>0</td>\n",
       "      <td>0</td>\n",
       "      <td>0</td>\n",
       "      <td>0</td>\n",
       "      <td>1</td>\n",
       "      <td>0</td>\n",
       "      <td>0</td>\n",
       "      <td>0</td>\n",
       "      <td>1</td>\n",
       "      <td>0</td>\n",
       "      <td>...</td>\n",
       "      <td>0</td>\n",
       "      <td>1</td>\n",
       "      <td>0</td>\n",
       "      <td>0</td>\n",
       "      <td>0</td>\n",
       "      <td>1</td>\n",
       "      <td>0</td>\n",
       "      <td>0</td>\n",
       "      <td>2010</td>\n",
       "      <td>1</td>\n",
       "    </tr>\n",
       "    <tr>\n",
       "      <th>2</th>\n",
       "      <td>0</td>\n",
       "      <td>0</td>\n",
       "      <td>0</td>\n",
       "      <td>0</td>\n",
       "      <td>1</td>\n",
       "      <td>1</td>\n",
       "      <td>0</td>\n",
       "      <td>0</td>\n",
       "      <td>0</td>\n",
       "      <td>0</td>\n",
       "      <td>...</td>\n",
       "      <td>1</td>\n",
       "      <td>0</td>\n",
       "      <td>0</td>\n",
       "      <td>0</td>\n",
       "      <td>0</td>\n",
       "      <td>1</td>\n",
       "      <td>0</td>\n",
       "      <td>0</td>\n",
       "      <td>2010</td>\n",
       "      <td>1</td>\n",
       "    </tr>\n",
       "    <tr>\n",
       "      <th>3</th>\n",
       "      <td>0</td>\n",
       "      <td>0</td>\n",
       "      <td>0</td>\n",
       "      <td>0</td>\n",
       "      <td>1</td>\n",
       "      <td>0</td>\n",
       "      <td>0</td>\n",
       "      <td>0</td>\n",
       "      <td>1</td>\n",
       "      <td>0</td>\n",
       "      <td>...</td>\n",
       "      <td>0</td>\n",
       "      <td>0</td>\n",
       "      <td>0</td>\n",
       "      <td>0</td>\n",
       "      <td>0</td>\n",
       "      <td>1</td>\n",
       "      <td>0</td>\n",
       "      <td>0</td>\n",
       "      <td>2010</td>\n",
       "      <td>1</td>\n",
       "    </tr>\n",
       "    <tr>\n",
       "      <th>4</th>\n",
       "      <td>0</td>\n",
       "      <td>1</td>\n",
       "      <td>0</td>\n",
       "      <td>0</td>\n",
       "      <td>0</td>\n",
       "      <td>1</td>\n",
       "      <td>0</td>\n",
       "      <td>0</td>\n",
       "      <td>0</td>\n",
       "      <td>0</td>\n",
       "      <td>...</td>\n",
       "      <td>0</td>\n",
       "      <td>0</td>\n",
       "      <td>0</td>\n",
       "      <td>0</td>\n",
       "      <td>0</td>\n",
       "      <td>1</td>\n",
       "      <td>0</td>\n",
       "      <td>0</td>\n",
       "      <td>2010</td>\n",
       "      <td>1</td>\n",
       "    </tr>\n",
       "  </tbody>\n",
       "</table>\n",
       "<p>5 rows × 37 columns</p>\n",
       "</div>"
      ],
      "text/plain": [
       "   Race_Asian  Race_Black  Race_Hispanic  Race_Native  Race_White  Age_25-34  \\\n",
       "0           0           0              0            0           1          0   \n",
       "1           0           0              0            0           1          0   \n",
       "2           0           0              0            0           1          1   \n",
       "3           0           0              0            0           1          0   \n",
       "4           0           1              0            0           0          1   \n",
       "\n",
       "   Age_35-44  Age_45-54  Age_55 and Older  Age_Under 25  ...  \\\n",
       "0          0          0                 0             1  ...   \n",
       "1          0          0                 1             0  ...   \n",
       "2          0          0                 0             0  ...   \n",
       "3          0          0                 1             0  ...   \n",
       "4          0          0                 0             0  ...   \n",
       "\n",
       "   Offense Type_Property  Offense Type_Public Order  Offense Type_Violent  \\\n",
       "0                      0                          0                     1   \n",
       "1                      0                          1                     0   \n",
       "2                      1                          0                     0   \n",
       "3                      0                          0                     0   \n",
       "4                      0                          0                     0   \n",
       "\n",
       "   Release Type_Discharged End of Sentence  Release Type_Other  \\\n",
       "0                                        0                   0   \n",
       "1                                        0                   0   \n",
       "2                                        0                   0   \n",
       "3                                        0                   0   \n",
       "4                                        0                   0   \n",
       "\n",
       "   Release Type_Parole  Release Type_Paroled to Detainer  \\\n",
       "0                    1                                 0   \n",
       "1                    1                                 0   \n",
       "2                    1                                 0   \n",
       "3                    1                                 0   \n",
       "4                    1                                 0   \n",
       "\n",
       "   Release Type_Special Sentence  Year Released  Recidivism  \n",
       "0                              0           2010           1  \n",
       "1                              0           2010           1  \n",
       "2                              0           2010           1  \n",
       "3                              0           2010           1  \n",
       "4                              0           2010           1  \n",
       "\n",
       "[5 rows x 37 columns]"
      ]
     },
     "execution_count": 2,
     "metadata": {},
     "output_type": "execute_result"
    }
   ],
   "source": [
    "# Reading the clean data csv file\n",
    "df = pd.read_csv('Resources/Recidivism_Cleaned.csv', index_col=0)\n",
    "df.head()"
   ]
  },
  {
   "cell_type": "markdown",
   "id": "bb4be20a",
   "metadata": {},
   "source": [
    "## Machine Learning: Random Forest"
   ]
  },
  {
   "cell_type": "markdown",
   "id": "74dc91e2",
   "metadata": {},
   "source": [
    "### Splitting Data and Scaling"
   ]
  },
  {
   "cell_type": "code",
   "execution_count": 4,
   "id": "e6269d85",
   "metadata": {},
   "outputs": [],
   "source": [
    "# Split our preprocessed data into our features and target arrays, also dropped Year Released to make the model more general\n",
    "y = df.Recidivism\n",
    "X = df.drop(columns=[\"Recidivism\"])\n",
    "\n",
    "# Split the preprocessed data into a training and testing dataset\n",
    "X_train, X_test, y_train, y_test = train_test_split(X, y, random_state=21, stratify=y, test_size=0.2)"
   ]
  },
  {
   "cell_type": "code",
   "execution_count": 5,
   "id": "1fcd59fa",
   "metadata": {},
   "outputs": [],
   "source": [
    "# Create a StandardScaler instances\n",
    "scaler = StandardScaler()\n",
    "\n",
    "# Fit the StandardScaler\n",
    "X_scaler = scaler.fit(X_train)\n",
    "\n",
    "# Scale the data\n",
    "X_train_scaled = X_scaler.transform(X_train)\n",
    "X_test_scaled = X_scaler.transform(X_test)"
   ]
  },
  {
   "cell_type": "markdown",
   "id": "6e7f0edf",
   "metadata": {},
   "source": [
    "### Model"
   ]
  },
  {
   "cell_type": "code",
   "execution_count": 6,
   "id": "b03aff7c",
   "metadata": {},
   "outputs": [],
   "source": [
    "# Create a random forest classifier\n",
    "rf_model = RandomForestClassifier(n_estimators=500, random_state=78)"
   ]
  },
  {
   "cell_type": "code",
   "execution_count": 7,
   "id": "18211915",
   "metadata": {},
   "outputs": [],
   "source": [
    "# Fitting the model\n",
    "rf_model = rf_model.fit(X_train_scaled, y_train)"
   ]
  },
  {
   "cell_type": "code",
   "execution_count": 8,
   "id": "3dcc94d0",
   "metadata": {},
   "outputs": [],
   "source": [
    "# Making predictions using the testing data\n",
    "predictions = rf_model.predict(X_test_scaled)"
   ]
  },
  {
   "cell_type": "code",
   "execution_count": 9,
   "id": "bd5385da",
   "metadata": {},
   "outputs": [
    {
     "data": {
      "text/html": [
       "<div>\n",
       "<style scoped>\n",
       "    .dataframe tbody tr th:only-of-type {\n",
       "        vertical-align: middle;\n",
       "    }\n",
       "\n",
       "    .dataframe tbody tr th {\n",
       "        vertical-align: top;\n",
       "    }\n",
       "\n",
       "    .dataframe thead th {\n",
       "        text-align: right;\n",
       "    }\n",
       "</style>\n",
       "<table border=\"1\" class=\"dataframe\">\n",
       "  <thead>\n",
       "    <tr style=\"text-align: right;\">\n",
       "      <th></th>\n",
       "      <th>Predicted 0</th>\n",
       "      <th>Predicted 1</th>\n",
       "    </tr>\n",
       "  </thead>\n",
       "  <tbody>\n",
       "    <tr>\n",
       "      <th>Actual 0</th>\n",
       "      <td>2942</td>\n",
       "      <td>519</td>\n",
       "    </tr>\n",
       "    <tr>\n",
       "      <th>Actual 1</th>\n",
       "      <td>1328</td>\n",
       "      <td>408</td>\n",
       "    </tr>\n",
       "  </tbody>\n",
       "</table>\n",
       "</div>"
      ],
      "text/plain": [
       "          Predicted 0  Predicted 1\n",
       "Actual 0         2942          519\n",
       "Actual 1         1328          408"
      ]
     },
     "execution_count": 9,
     "metadata": {},
     "output_type": "execute_result"
    }
   ],
   "source": [
    "# Calculating the confusion matrix.\n",
    "cm = confusion_matrix(y_test, predictions)\n",
    "\n",
    "# Create a DataFrame from the confusion matrix.\n",
    "cm_df = pd.DataFrame(\n",
    "    cm, index=[\"Actual 0\", \"Actual 1\"], columns=[\"Predicted 0\", \"Predicted 1\"])\n",
    "\n",
    "cm_df"
   ]
  },
  {
   "cell_type": "code",
   "execution_count": 10,
   "id": "88b3dab8",
   "metadata": {},
   "outputs": [],
   "source": [
    "# Calculating the accuracy score.\n",
    "acc_score = accuracy_score(y_test, predictions)"
   ]
  },
  {
   "cell_type": "code",
   "execution_count": 11,
   "id": "e4b77ecf",
   "metadata": {},
   "outputs": [
    {
     "name": "stdout",
     "output_type": "stream",
     "text": [
      "Confusion Matrix\n"
     ]
    },
    {
     "data": {
      "text/html": [
       "<div>\n",
       "<style scoped>\n",
       "    .dataframe tbody tr th:only-of-type {\n",
       "        vertical-align: middle;\n",
       "    }\n",
       "\n",
       "    .dataframe tbody tr th {\n",
       "        vertical-align: top;\n",
       "    }\n",
       "\n",
       "    .dataframe thead th {\n",
       "        text-align: right;\n",
       "    }\n",
       "</style>\n",
       "<table border=\"1\" class=\"dataframe\">\n",
       "  <thead>\n",
       "    <tr style=\"text-align: right;\">\n",
       "      <th></th>\n",
       "      <th>Predicted 0</th>\n",
       "      <th>Predicted 1</th>\n",
       "    </tr>\n",
       "  </thead>\n",
       "  <tbody>\n",
       "    <tr>\n",
       "      <th>Actual 0</th>\n",
       "      <td>2942</td>\n",
       "      <td>519</td>\n",
       "    </tr>\n",
       "    <tr>\n",
       "      <th>Actual 1</th>\n",
       "      <td>1328</td>\n",
       "      <td>408</td>\n",
       "    </tr>\n",
       "  </tbody>\n",
       "</table>\n",
       "</div>"
      ],
      "text/plain": [
       "          Predicted 0  Predicted 1\n",
       "Actual 0         2942          519\n",
       "Actual 1         1328          408"
      ]
     },
     "metadata": {},
     "output_type": "display_data"
    },
    {
     "name": "stdout",
     "output_type": "stream",
     "text": [
      "Accuracy Score : 0.6446026553781028\n",
      "Classification Report\n",
      "              precision    recall  f1-score   support\n",
      "\n",
      "           0       0.69      0.85      0.76      3461\n",
      "           1       0.44      0.24      0.31      1736\n",
      "\n",
      "    accuracy                           0.64      5197\n",
      "   macro avg       0.56      0.54      0.53      5197\n",
      "weighted avg       0.61      0.64      0.61      5197\n",
      "\n"
     ]
    }
   ],
   "source": [
    "# Displaying results\n",
    "print(\"Confusion Matrix\")\n",
    "display(cm_df)\n",
    "print(f\"Accuracy Score : {acc_score}\")\n",
    "print(\"Classification Report\")\n",
    "print(classification_report(y_test, predictions))"
   ]
  },
  {
   "cell_type": "code",
   "execution_count": 12,
   "id": "9072f275",
   "metadata": {},
   "outputs": [
    {
     "data": {
      "text/plain": [
       "array([9.14098472e-03, 3.74122409e-02, 2.57830948e-02, 1.99667664e-02,\n",
       "       3.95307398e-02, 3.47762090e-02, 3.18477427e-02, 2.82668340e-02,\n",
       "       2.52225920e-02, 3.36013058e-02, 2.06055823e-04, 3.21966958e-02,\n",
       "       1.75658924e-02, 3.00930207e-02, 3.35878114e-02, 6.43390390e-03,\n",
       "       1.49705236e-02, 1.17258617e-03, 6.95077283e-04, 1.55480661e-05,\n",
       "       1.70648793e-05, 6.88104941e-03, 1.00760368e-04, 1.48603869e-05,\n",
       "       5.51059385e-03, 2.78367659e-02, 1.77859444e-02, 2.82166985e-02,\n",
       "       2.22474747e-02, 3.33974027e-02, 3.01605959e-02, 1.90943516e-02,\n",
       "       4.16146508e-02, 8.10411306e-03, 2.14676034e-02, 3.15064445e-01])"
      ]
     },
     "execution_count": 12,
     "metadata": {},
     "output_type": "execute_result"
    }
   ],
   "source": [
    "# Calculate feature importance in the Random Forest model.\n",
    "importances = rf_model.feature_importances_\n",
    "importances"
   ]
  },
  {
   "cell_type": "code",
   "execution_count": 13,
   "id": "8e44a028",
   "metadata": {},
   "outputs": [
    {
     "data": {
      "text/plain": [
       "[(0.31506444493442526, 'Year Released'),\n",
       " (0.041614650800273593, 'Release Type_Parole'),\n",
       " (0.03953073978985592, 'Race_White'),\n",
       " (0.03741224094652659, 'Race_Black'),\n",
       " (0.03477620896912591, 'Age_25-34'),\n",
       " (0.033601305754229205, 'Age_Under 25'),\n",
       " (0.03358781141985302, 'Offense Classification_D Felony'),\n",
       " (0.0333974027153254, 'Offense Type_Violent'),\n",
       " (0.03219669581626255, 'Offense Classification_Aggravated Misdemeanor'),\n",
       " (0.031847742667953254, 'Age_35-44'),\n",
       " (0.03016059591665257, 'Release Type_Discharged End of Sentence'),\n",
       " (0.030093020651878688, 'Offense Classification_C Felony'),\n",
       " (0.028266833973299033, 'Age_45-54'),\n",
       " (0.028216698486691085, 'Offense Type_Property'),\n",
       " (0.02783676591343954, 'Offense Type_Drug'),\n",
       " (0.02578309479717107, 'Race_Hispanic'),\n",
       " (0.025222592035642175, 'Age_55 and Older'),\n",
       " (0.022247474687413244, 'Offense Type_Public Order'),\n",
       " (0.0214676034431688, 'Release Type_Special Sentence'),\n",
       " (0.019966766392880992, 'Race_Native'),\n",
       " (0.019094351607100293, 'Release Type_Other'),\n",
       " (0.017785944405879148, 'Offense Type_Other'),\n",
       " (0.017565892370916034, 'Offense Classification_B Felony'),\n",
       " (0.014970523580495195,\n",
       "  'Offense Classification_Felony - Enhancement to Original Penalty'),\n",
       " (0.009140984718248254, 'Race_Asian'),\n",
       " (0.008104113057841537, 'Release Type_Paroled to Detainer'),\n",
       " (0.006881049413771533, 'Offense Classification_Serious Misdemeanor'),\n",
       " (0.006433903903107147, 'Offense Classification_Felony - Enhanced'),\n",
       " (0.005510593853971064, 'Offense Classification_Special Sentence 2005'),\n",
       " (0.001172586170908109, 'Offense Classification_Felony - Mandatory Minimum'),\n",
       " (0.0006950772829139526, 'Offense Classification_Other Felony'),\n",
       " (0.00020605582281733642, 'Offense Classification_A Felony'),\n",
       " (0.00010076036759773645,\n",
       "  'Offense Classification_Sexual Predator Community Supervision'),\n",
       " (1.7064879309125954e-05, 'Offense Classification_Other Misdemeanor'),\n",
       " (1.554806613038691e-05, 'Offense Classification_Other Felony (Old Code)'),\n",
       " (1.4860386925208145e-05, 'Offense Classification_Simple Misdemeanor')]"
      ]
     },
     "execution_count": 13,
     "metadata": {},
     "output_type": "execute_result"
    }
   ],
   "source": [
    "# We can sort the features by their importance.\n",
    "sorted(zip(rf_model.feature_importances_, X.columns), reverse=True)"
   ]
  }
 ],
 "metadata": {
  "kernelspec": {
   "display_name": "mlnev",
   "language": "python",
   "name": "mlnev"
  },
  "language_info": {
   "codemirror_mode": {
    "name": "ipython",
    "version": 3
   },
   "file_extension": ".py",
   "mimetype": "text/x-python",
   "name": "python",
   "nbconvert_exporter": "python",
   "pygments_lexer": "ipython3",
   "version": "3.7.13"
  }
 },
 "nbformat": 4,
 "nbformat_minor": 5
}
