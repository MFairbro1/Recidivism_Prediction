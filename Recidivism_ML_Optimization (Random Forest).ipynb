{
 "cells": [
  {
   "cell_type": "markdown",
   "id": "5d1b856f",
   "metadata": {},
   "source": [
    "# Recidivision Prediction: Machine Learning Optimization"
   ]
  },
  {
   "cell_type": "markdown",
   "id": "99b41247",
   "metadata": {},
   "source": [
    "## Importing Libraries and Dataset"
   ]
  },
  {
   "cell_type": "code",
   "execution_count": 14,
   "id": "ac7a7bde",
   "metadata": {},
   "outputs": [],
   "source": [
    "# Import Libraries\n",
    "import pandas as pd\n",
    "import numpy as np\n",
    "from sklearn.model_selection import train_test_split\n",
    "from sklearn.preprocessing import StandardScaler\n",
    "from sklearn.metrics import confusion_matrix, accuracy_score, classification_report\n",
    "from sklearn.ensemble import RandomForestClassifier\n",
    "import tensorflow as tf"
   ]
  },
  {
   "cell_type": "code",
   "execution_count": 3,
   "id": "58184fb9",
   "metadata": {},
   "outputs": [
    {
     "data": {
      "text/html": [
       "<div>\n",
       "<style scoped>\n",
       "    .dataframe tbody tr th:only-of-type {\n",
       "        vertical-align: middle;\n",
       "    }\n",
       "\n",
       "    .dataframe tbody tr th {\n",
       "        vertical-align: top;\n",
       "    }\n",
       "\n",
       "    .dataframe thead th {\n",
       "        text-align: right;\n",
       "    }\n",
       "</style>\n",
       "<table border=\"1\" class=\"dataframe\">\n",
       "  <thead>\n",
       "    <tr style=\"text-align: right;\">\n",
       "      <th></th>\n",
       "      <th>Race_Asian</th>\n",
       "      <th>Race_Black</th>\n",
       "      <th>Race_Hispanic</th>\n",
       "      <th>Race_Native</th>\n",
       "      <th>Race_White</th>\n",
       "      <th>Age_25-34</th>\n",
       "      <th>Age_35-44</th>\n",
       "      <th>Age_45-54</th>\n",
       "      <th>Age_55 and Older</th>\n",
       "      <th>Age_Under 25</th>\n",
       "      <th>...</th>\n",
       "      <th>Offense Type_Property</th>\n",
       "      <th>Offense Type_Public Order</th>\n",
       "      <th>Offense Type_Violent</th>\n",
       "      <th>Release Type_Discharged End of Sentence</th>\n",
       "      <th>Release Type_Other</th>\n",
       "      <th>Release Type_Parole</th>\n",
       "      <th>Release Type_Paroled to Detainer</th>\n",
       "      <th>Release Type_Special Sentence</th>\n",
       "      <th>Year Released</th>\n",
       "      <th>Recidivism</th>\n",
       "    </tr>\n",
       "  </thead>\n",
       "  <tbody>\n",
       "    <tr>\n",
       "      <th>0</th>\n",
       "      <td>0</td>\n",
       "      <td>0</td>\n",
       "      <td>0</td>\n",
       "      <td>0</td>\n",
       "      <td>1</td>\n",
       "      <td>0</td>\n",
       "      <td>0</td>\n",
       "      <td>0</td>\n",
       "      <td>0</td>\n",
       "      <td>1</td>\n",
       "      <td>...</td>\n",
       "      <td>0</td>\n",
       "      <td>0</td>\n",
       "      <td>1</td>\n",
       "      <td>0</td>\n",
       "      <td>0</td>\n",
       "      <td>1</td>\n",
       "      <td>0</td>\n",
       "      <td>0</td>\n",
       "      <td>2010</td>\n",
       "      <td>1</td>\n",
       "    </tr>\n",
       "    <tr>\n",
       "      <th>1</th>\n",
       "      <td>0</td>\n",
       "      <td>0</td>\n",
       "      <td>0</td>\n",
       "      <td>0</td>\n",
       "      <td>1</td>\n",
       "      <td>0</td>\n",
       "      <td>0</td>\n",
       "      <td>0</td>\n",
       "      <td>1</td>\n",
       "      <td>0</td>\n",
       "      <td>...</td>\n",
       "      <td>0</td>\n",
       "      <td>1</td>\n",
       "      <td>0</td>\n",
       "      <td>0</td>\n",
       "      <td>0</td>\n",
       "      <td>1</td>\n",
       "      <td>0</td>\n",
       "      <td>0</td>\n",
       "      <td>2010</td>\n",
       "      <td>1</td>\n",
       "    </tr>\n",
       "    <tr>\n",
       "      <th>2</th>\n",
       "      <td>0</td>\n",
       "      <td>0</td>\n",
       "      <td>0</td>\n",
       "      <td>0</td>\n",
       "      <td>1</td>\n",
       "      <td>1</td>\n",
       "      <td>0</td>\n",
       "      <td>0</td>\n",
       "      <td>0</td>\n",
       "      <td>0</td>\n",
       "      <td>...</td>\n",
       "      <td>1</td>\n",
       "      <td>0</td>\n",
       "      <td>0</td>\n",
       "      <td>0</td>\n",
       "      <td>0</td>\n",
       "      <td>1</td>\n",
       "      <td>0</td>\n",
       "      <td>0</td>\n",
       "      <td>2010</td>\n",
       "      <td>1</td>\n",
       "    </tr>\n",
       "    <tr>\n",
       "      <th>3</th>\n",
       "      <td>0</td>\n",
       "      <td>0</td>\n",
       "      <td>0</td>\n",
       "      <td>0</td>\n",
       "      <td>1</td>\n",
       "      <td>0</td>\n",
       "      <td>0</td>\n",
       "      <td>0</td>\n",
       "      <td>1</td>\n",
       "      <td>0</td>\n",
       "      <td>...</td>\n",
       "      <td>0</td>\n",
       "      <td>0</td>\n",
       "      <td>0</td>\n",
       "      <td>0</td>\n",
       "      <td>0</td>\n",
       "      <td>1</td>\n",
       "      <td>0</td>\n",
       "      <td>0</td>\n",
       "      <td>2010</td>\n",
       "      <td>1</td>\n",
       "    </tr>\n",
       "    <tr>\n",
       "      <th>4</th>\n",
       "      <td>0</td>\n",
       "      <td>1</td>\n",
       "      <td>0</td>\n",
       "      <td>0</td>\n",
       "      <td>0</td>\n",
       "      <td>1</td>\n",
       "      <td>0</td>\n",
       "      <td>0</td>\n",
       "      <td>0</td>\n",
       "      <td>0</td>\n",
       "      <td>...</td>\n",
       "      <td>0</td>\n",
       "      <td>0</td>\n",
       "      <td>0</td>\n",
       "      <td>0</td>\n",
       "      <td>0</td>\n",
       "      <td>1</td>\n",
       "      <td>0</td>\n",
       "      <td>0</td>\n",
       "      <td>2010</td>\n",
       "      <td>1</td>\n",
       "    </tr>\n",
       "  </tbody>\n",
       "</table>\n",
       "<p>5 rows × 37 columns</p>\n",
       "</div>"
      ],
      "text/plain": [
       "   Race_Asian  Race_Black  Race_Hispanic  Race_Native  Race_White  Age_25-34  \\\n",
       "0           0           0              0            0           1          0   \n",
       "1           0           0              0            0           1          0   \n",
       "2           0           0              0            0           1          1   \n",
       "3           0           0              0            0           1          0   \n",
       "4           0           1              0            0           0          1   \n",
       "\n",
       "   Age_35-44  Age_45-54  Age_55 and Older  Age_Under 25  ...  \\\n",
       "0          0          0                 0             1  ...   \n",
       "1          0          0                 1             0  ...   \n",
       "2          0          0                 0             0  ...   \n",
       "3          0          0                 1             0  ...   \n",
       "4          0          0                 0             0  ...   \n",
       "\n",
       "   Offense Type_Property  Offense Type_Public Order  Offense Type_Violent  \\\n",
       "0                      0                          0                     1   \n",
       "1                      0                          1                     0   \n",
       "2                      1                          0                     0   \n",
       "3                      0                          0                     0   \n",
       "4                      0                          0                     0   \n",
       "\n",
       "   Release Type_Discharged End of Sentence  Release Type_Other  \\\n",
       "0                                        0                   0   \n",
       "1                                        0                   0   \n",
       "2                                        0                   0   \n",
       "3                                        0                   0   \n",
       "4                                        0                   0   \n",
       "\n",
       "   Release Type_Parole  Release Type_Paroled to Detainer  \\\n",
       "0                    1                                 0   \n",
       "1                    1                                 0   \n",
       "2                    1                                 0   \n",
       "3                    1                                 0   \n",
       "4                    1                                 0   \n",
       "\n",
       "   Release Type_Special Sentence  Year Released  Recidivism  \n",
       "0                              0           2010           1  \n",
       "1                              0           2010           1  \n",
       "2                              0           2010           1  \n",
       "3                              0           2010           1  \n",
       "4                              0           2010           1  \n",
       "\n",
       "[5 rows x 37 columns]"
      ]
     },
     "execution_count": 3,
     "metadata": {},
     "output_type": "execute_result"
    }
   ],
   "source": [
    "# Reading the clean data csv file\n",
    "df = pd.read_csv('Resources/Recidivism_Cleaned.csv', index_col=0)\n",
    "df.head()"
   ]
  },
  {
   "cell_type": "code",
   "execution_count": 43,
   "id": "993fc839",
   "metadata": {},
   "outputs": [
    {
     "data": {
      "text/plain": [
       "Index(['Race_Asian', 'Race_Black', 'Race_Hispanic', 'Race_Native',\n",
       "       'Race_White', 'Age_25-34', 'Age_35-44', 'Age_45-54', 'Age_55 and Older',\n",
       "       'Age_Under 25', 'Offense Classification_A Felony',\n",
       "       'Offense Classification_Aggravated Misdemeanor',\n",
       "       'Offense Classification_B Felony', 'Offense Classification_C Felony',\n",
       "       'Offense Classification_D Felony',\n",
       "       'Offense Classification_Felony - Enhanced',\n",
       "       'Offense Classification_Felony - Enhancement to Original Penalty',\n",
       "       'Offense Classification_Felony - Mandatory Minimum',\n",
       "       'Offense Classification_Other Felony',\n",
       "       'Offense Classification_Other Felony (Old Code)',\n",
       "       'Offense Classification_Other Misdemeanor',\n",
       "       'Offense Classification_Serious Misdemeanor',\n",
       "       'Offense Classification_Sexual Predator Community Supervision',\n",
       "       'Offense Classification_Simple Misdemeanor',\n",
       "       'Offense Classification_Special Sentence 2005', 'Offense Type_Drug',\n",
       "       'Offense Type_Other', 'Offense Type_Property',\n",
       "       'Offense Type_Public Order', 'Offense Type_Violent',\n",
       "       'Release Type_Discharged End of Sentence', 'Release Type_Other',\n",
       "       'Release Type_Parole', 'Release Type_Paroled to Detainer',\n",
       "       'Release Type_Special Sentence', 'Year Released', 'Recidivism'],\n",
       "      dtype='object')"
      ]
     },
     "execution_count": 43,
     "metadata": {},
     "output_type": "execute_result"
    }
   ],
   "source": [
    "# Columns in Dataset\n",
    "df.columns"
   ]
  },
  {
   "cell_type": "code",
   "execution_count": 44,
   "id": "5d6bcd98",
   "metadata": {},
   "outputs": [],
   "source": [
    "# Dropping Offence Classification Columns and Year Released Columns\n",
    "# Year Released: Because this will allow the model to be more general rather than tying it to a year\n",
    "# Offence Classification: This is a classification done by the court, and on a prisoner basis it might not contribute much to a convict's liklihood of recommiting a crime\n",
    "\n",
    "df.drop(columns=['Year Released', 'Offense Classification_A Felony',\n",
    "       'Offense Classification_Aggravated Misdemeanor',\n",
    "       'Offense Classification_B Felony', 'Offense Classification_C Felony',\n",
    "       'Offense Classification_D Felony',\n",
    "       'Offense Classification_Felony - Enhanced',\n",
    "       'Offense Classification_Felony - Enhancement to Original Penalty',\n",
    "       'Offense Classification_Felony - Mandatory Minimum',\n",
    "       'Offense Classification_Other Felony',\n",
    "       'Offense Classification_Other Felony (Old Code)',\n",
    "       'Offense Classification_Other Misdemeanor',\n",
    "       'Offense Classification_Serious Misdemeanor',\n",
    "       'Offense Classification_Sexual Predator Community Supervision',\n",
    "       'Offense Classification_Simple Misdemeanor',\n",
    "       'Offense Classification_Special Sentence 2005'], inplace = True)"
   ]
  },
  {
   "cell_type": "markdown",
   "id": "bb4be20a",
   "metadata": {},
   "source": [
    "## Machine Learning: Random Forest"
   ]
  },
  {
   "cell_type": "markdown",
   "id": "74dc91e2",
   "metadata": {},
   "source": [
    "### Splitting Data and Scaling"
   ]
  },
  {
   "cell_type": "code",
   "execution_count": 46,
   "id": "e6269d85",
   "metadata": {},
   "outputs": [],
   "source": [
    "# Split our preprocessed data into our features and target arrays, also dropped Year Released to make the model more general\n",
    "y = df.Recidivism\n",
    "X = df.drop(columns=[\"Recidivism\"])\n",
    "\n",
    "# Split the preprocessed data into a training and testing dataset\n",
    "X_train, X_test, y_train, y_test = train_test_split(X, y, random_state=21, stratify=y, test_size=0.2)"
   ]
  },
  {
   "cell_type": "code",
   "execution_count": 47,
   "id": "1fcd59fa",
   "metadata": {},
   "outputs": [],
   "source": [
    "# Create a StandardScaler instances\n",
    "scaler = StandardScaler()\n",
    "\n",
    "# Fit the StandardScaler\n",
    "X_scaler = scaler.fit(X_train)\n",
    "\n",
    "# Scale the data\n",
    "X_train_scaled = X_scaler.transform(X_train)\n",
    "X_test_scaled = X_scaler.transform(X_test)"
   ]
  },
  {
   "cell_type": "markdown",
   "id": "6e7f0edf",
   "metadata": {},
   "source": [
    "### Model"
   ]
  },
  {
   "cell_type": "code",
   "execution_count": 48,
   "id": "b03aff7c",
   "metadata": {},
   "outputs": [],
   "source": [
    "# Create a random forest classifier\n",
    "rf_model = RandomForestClassifier(n_estimators=500, random_state=78)"
   ]
  },
  {
   "cell_type": "code",
   "execution_count": 49,
   "id": "18211915",
   "metadata": {},
   "outputs": [],
   "source": [
    "# Fitting the model\n",
    "rf_model = rf_model.fit(X_train_scaled, y_train)"
   ]
  },
  {
   "cell_type": "code",
   "execution_count": 50,
   "id": "3dcc94d0",
   "metadata": {},
   "outputs": [],
   "source": [
    "# Making predictions using the testing data\n",
    "predictions = rf_model.predict(X_test_scaled)"
   ]
  },
  {
   "cell_type": "code",
   "execution_count": 51,
   "id": "bd5385da",
   "metadata": {},
   "outputs": [
    {
     "data": {
      "text/html": [
       "<div>\n",
       "<style scoped>\n",
       "    .dataframe tbody tr th:only-of-type {\n",
       "        vertical-align: middle;\n",
       "    }\n",
       "\n",
       "    .dataframe tbody tr th {\n",
       "        vertical-align: top;\n",
       "    }\n",
       "\n",
       "    .dataframe thead th {\n",
       "        text-align: right;\n",
       "    }\n",
       "</style>\n",
       "<table border=\"1\" class=\"dataframe\">\n",
       "  <thead>\n",
       "    <tr style=\"text-align: right;\">\n",
       "      <th></th>\n",
       "      <th>Predicted 0</th>\n",
       "      <th>Predicted 1</th>\n",
       "    </tr>\n",
       "  </thead>\n",
       "  <tbody>\n",
       "    <tr>\n",
       "      <th>Actual 0</th>\n",
       "      <td>3340</td>\n",
       "      <td>121</td>\n",
       "    </tr>\n",
       "    <tr>\n",
       "      <th>Actual 1</th>\n",
       "      <td>1635</td>\n",
       "      <td>101</td>\n",
       "    </tr>\n",
       "  </tbody>\n",
       "</table>\n",
       "</div>"
      ],
      "text/plain": [
       "          Predicted 0  Predicted 1\n",
       "Actual 0         3340          121\n",
       "Actual 1         1635          101"
      ]
     },
     "execution_count": 51,
     "metadata": {},
     "output_type": "execute_result"
    }
   ],
   "source": [
    "# Calculating the confusion matrix.\n",
    "cm = confusion_matrix(y_test, predictions)\n",
    "\n",
    "# Create a DataFrame from the confusion matrix.\n",
    "cm_df = pd.DataFrame(\n",
    "    cm, index=[\"Actual 0\", \"Actual 1\"], columns=[\"Predicted 0\", \"Predicted 1\"])\n",
    "\n",
    "cm_df"
   ]
  },
  {
   "cell_type": "code",
   "execution_count": 52,
   "id": "88b3dab8",
   "metadata": {},
   "outputs": [],
   "source": [
    "# Calculating the accuracy score.\n",
    "acc_score = accuracy_score(y_test, predictions)"
   ]
  },
  {
   "cell_type": "code",
   "execution_count": 53,
   "id": "e4b77ecf",
   "metadata": {},
   "outputs": [
    {
     "name": "stdout",
     "output_type": "stream",
     "text": [
      "Confusion Matrix\n"
     ]
    },
    {
     "data": {
      "text/html": [
       "<div>\n",
       "<style scoped>\n",
       "    .dataframe tbody tr th:only-of-type {\n",
       "        vertical-align: middle;\n",
       "    }\n",
       "\n",
       "    .dataframe tbody tr th {\n",
       "        vertical-align: top;\n",
       "    }\n",
       "\n",
       "    .dataframe thead th {\n",
       "        text-align: right;\n",
       "    }\n",
       "</style>\n",
       "<table border=\"1\" class=\"dataframe\">\n",
       "  <thead>\n",
       "    <tr style=\"text-align: right;\">\n",
       "      <th></th>\n",
       "      <th>Predicted 0</th>\n",
       "      <th>Predicted 1</th>\n",
       "    </tr>\n",
       "  </thead>\n",
       "  <tbody>\n",
       "    <tr>\n",
       "      <th>Actual 0</th>\n",
       "      <td>3340</td>\n",
       "      <td>121</td>\n",
       "    </tr>\n",
       "    <tr>\n",
       "      <th>Actual 1</th>\n",
       "      <td>1635</td>\n",
       "      <td>101</td>\n",
       "    </tr>\n",
       "  </tbody>\n",
       "</table>\n",
       "</div>"
      ],
      "text/plain": [
       "          Predicted 0  Predicted 1\n",
       "Actual 0         3340          121\n",
       "Actual 1         1635          101"
      ]
     },
     "metadata": {},
     "output_type": "display_data"
    },
    {
     "name": "stdout",
     "output_type": "stream",
     "text": [
      "Accuracy Score : 0.6621127573600154\n",
      "Classification Report\n",
      "              precision    recall  f1-score   support\n",
      "\n",
      "           0       0.67      0.97      0.79      3461\n",
      "           1       0.45      0.06      0.10      1736\n",
      "\n",
      "    accuracy                           0.66      5197\n",
      "   macro avg       0.56      0.51      0.45      5197\n",
      "weighted avg       0.60      0.66      0.56      5197\n",
      "\n"
     ]
    }
   ],
   "source": [
    "# Displaying results\n",
    "print(\"Confusion Matrix\")\n",
    "display(cm_df)\n",
    "print(f\"Accuracy Score : {acc_score}\")\n",
    "print(\"Classification Report\")\n",
    "print(classification_report(y_test, predictions))"
   ]
  },
  {
   "cell_type": "code",
   "execution_count": 54,
   "id": "9072f275",
   "metadata": {},
   "outputs": [
    {
     "data": {
      "text/plain": [
       "array([0.01646297, 0.04142832, 0.05478925, 0.03559421, 0.04527872,\n",
       "       0.04444153, 0.03505779, 0.04461293, 0.06043962, 0.05530215,\n",
       "       0.03692933, 0.03897954, 0.03825366, 0.0388803 , 0.07043425,\n",
       "       0.08481628, 0.06094647, 0.11459565, 0.01992377, 0.06283325])"
      ]
     },
     "execution_count": 54,
     "metadata": {},
     "output_type": "execute_result"
    }
   ],
   "source": [
    "# Calculate feature importance in the Random Forest model.\n",
    "importances = rf_model.feature_importances_\n",
    "importances"
   ]
  },
  {
   "cell_type": "code",
   "execution_count": 55,
   "id": "8e44a028",
   "metadata": {},
   "outputs": [
    {
     "data": {
      "text/plain": [
       "[(0.11459565473352971, 'Release Type_Parole'),\n",
       " (0.08481627772250461, 'Release Type_Discharged End of Sentence'),\n",
       " (0.0704342468431495, 'Offense Type_Violent'),\n",
       " (0.06283325374084335, 'Release Type_Special Sentence'),\n",
       " (0.06094647375728804, 'Release Type_Other'),\n",
       " (0.060439620594062674, 'Age_55 and Older'),\n",
       " (0.05530214870232926, 'Age_Under 25'),\n",
       " (0.05478925453270331, 'Race_Hispanic'),\n",
       " (0.04527872375673427, 'Race_White'),\n",
       " (0.04461293113608317, 'Age_45-54'),\n",
       " (0.04444153379324165, 'Age_25-34'),\n",
       " (0.04142831780211931, 'Race_Black'),\n",
       " (0.03897953789857107, 'Offense Type_Other'),\n",
       " (0.038880296326915045, 'Offense Type_Public Order'),\n",
       " (0.038253658972202106, 'Offense Type_Property'),\n",
       " (0.03692933212284219, 'Offense Type_Drug'),\n",
       " (0.0355942106526397, 'Race_Native'),\n",
       " (0.03505778801596355, 'Age_35-44'),\n",
       " (0.019923773694763974, 'Release Type_Paroled to Detainer'),\n",
       " (0.016462965201513594, 'Race_Asian')]"
      ]
     },
     "execution_count": 55,
     "metadata": {},
     "output_type": "execute_result"
    }
   ],
   "source": [
    "# We can sort the features by their importance.\n",
    "sorted(zip(rf_model.feature_importances_, X.columns), reverse=True)"
   ]
  }
 ],
 "metadata": {
  "kernelspec": {
   "display_name": "mlnev",
   "language": "python",
   "name": "mlnev"
  },
  "language_info": {
   "codemirror_mode": {
    "name": "ipython",
    "version": 3
   },
   "file_extension": ".py",
   "mimetype": "text/x-python",
   "name": "python",
   "nbconvert_exporter": "python",
   "pygments_lexer": "ipython3",
   "version": "3.7.13"
  }
 },
 "nbformat": 4,
 "nbformat_minor": 5
}
