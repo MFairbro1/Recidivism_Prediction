{
  "nbformat": 4,
  "nbformat_minor": 0,
  "metadata": {
    "colab": {
      "provenance": [],
      "collapsed_sections": []
    },
    "kernelspec": {
      "name": "python3",
      "display_name": "Python 3"
    },
    "language_info": {
      "name": "python"
    }
  },
  "cells": [
    {
      "cell_type": "code",
      "execution_count": null,
      "metadata": {
        "colab": {
          "base_uri": "https://localhost:8080/"
        },
        "id": "vYH4T3o03LQZ",
        "outputId": "a97dacb7-8209-43cb-c541-178e436c9d55"
      },
      "outputs": [
        {
          "output_type": "stream",
          "name": "stdout",
          "text": [
            "\r0% [Working]\r            \rGet:1 http://security.ubuntu.com/ubuntu bionic-security InRelease [88.7 kB]\n",
            "\r0% [Connecting to archive.ubuntu.com (91.189.91.38)] [1 InRelease 14.2 kB/88.7 \r                                                                               \rHit:2 http://archive.ubuntu.com/ubuntu bionic InRelease\n",
            "\r0% [1 InRelease 88.7 kB/88.7 kB 100%] [Connected to cloud.r-project.org (99.86.\r                                                                               \rGet:3 http://archive.ubuntu.com/ubuntu bionic-updates InRelease [88.7 kB]\n",
            "\r0% [3 InRelease 18.5 kB/88.7 kB 21%] [Connected to cloud.r-project.org (99.86.2\r0% [2 InRelease gpgv 242 kB] [3 InRelease 18.5 kB/88.7 kB 21%] [Connected to cl\r0% [2 InRelease gpgv 242 kB] [Waiting for headers] [Connected to cloud.r-projec\r                                                                               \rGet:4 http://archive.ubuntu.com/ubuntu bionic-backports InRelease [74.6 kB]\n",
            "\r0% [2 InRelease gpgv 242 kB] [4 InRelease 9,844 B/74.6 kB 13%] [Connected to cl\r0% [2 InRelease gpgv 242 kB] [Connected to cloud.r-project.org (99.86.224.108)]\r                                                                               \rGet:5 https://cloud.r-project.org/bin/linux/ubuntu bionic-cran40/ InRelease [3,626 B]\n",
            "Get:6 http://ppa.launchpad.net/c2d4u.team/c2d4u4.0+/ubuntu bionic InRelease [15.9 kB]\n",
            "Ign:7 https://developer.download.nvidia.com/compute/machine-learning/repos/ubuntu1804/x86_64  InRelease\n",
            "Hit:8 https://developer.download.nvidia.com/compute/cuda/repos/ubuntu1804/x86_64  InRelease\n",
            "Hit:9 https://developer.download.nvidia.com/compute/machine-learning/repos/ubuntu1804/x86_64  Release\n",
            "Hit:10 http://ppa.launchpad.net/cran/libgit2/ubuntu bionic InRelease\n",
            "Hit:11 http://ppa.launchpad.net/deadsnakes/ppa/ubuntu bionic InRelease\n",
            "Get:12 http://security.ubuntu.com/ubuntu bionic-security/restricted amd64 Packages [1,161 kB]\n",
            "Get:13 http://security.ubuntu.com/ubuntu bionic-security/universe amd64 Packages [1,545 kB]\n",
            "Hit:14 http://ppa.launchpad.net/graphics-drivers/ppa/ubuntu bionic InRelease\n",
            "Get:15 http://security.ubuntu.com/ubuntu bionic-security/main amd64 Packages [2,990 kB]\n",
            "Get:16 http://archive.ubuntu.com/ubuntu bionic-updates/universe amd64 Packages [2,322 kB]\n",
            "Get:17 http://archive.ubuntu.com/ubuntu bionic-updates/main amd64 Packages [3,422 kB]\n",
            "Get:18 http://archive.ubuntu.com/ubuntu bionic-updates/restricted amd64 Packages [1,202 kB]\n",
            "Get:19 https://cloud.r-project.org/bin/linux/ubuntu bionic-cran40/ Packages [92.1 kB]\n",
            "Get:20 http://ppa.launchpad.net/c2d4u.team/c2d4u4.0+/ubuntu bionic/main Sources [2,108 kB]\n",
            "Get:22 http://ppa.launchpad.net/c2d4u.team/c2d4u4.0+/ubuntu bionic/main amd64 Packages [1,080 kB]\n",
            "Fetched 16.2 MB in 4s (3,906 kB/s)\n",
            "Reading package lists... Done\n"
          ]
        }
      ],
      "source": [
        "import os\n",
        "# Find the latest version of spark 3.0 from http://www.apache.org/dist/spark/ and enter as the spark version\n",
        "# For example:\n",
        "# spark_version = 'spark-3.0.3'\n",
        "spark_version = 'spark-3.1.3'\n",
        "os.environ['SPARK_VERSION']=spark_version\n",
        "\n",
        "# Install Spark and Java\n",
        "!apt-get update\n",
        "!apt-get install openjdk-11-jdk-headless -qq > /dev/null\n",
        "!wget -q http://www.apache.org/dist/spark/$SPARK_VERSION/$SPARK_VERSION-bin-hadoop2.7.tgz\n",
        "!tar xf $SPARK_VERSION-bin-hadoop2.7.tgz\n",
        "!pip install -q findspark\n",
        "\n",
        "# Set Environment Variables\n",
        "import os\n",
        "os.environ[\"JAVA_HOME\"] = \"/usr/lib/jvm/java-11-openjdk-amd64\"\n",
        "os.environ[\"SPARK_HOME\"] = f\"/content/{spark_version}-bin-hadoop2.7\"\n",
        "\n",
        "# Start a SparkSession\n",
        "import findspark\n",
        "findspark.init()"
      ]
    },
    {
      "cell_type": "code",
      "source": [
        "# Download the Postgres driver that will allow Spark to interact with Postgres.\n",
        "!wget https://jdbc.postgresql.org/download/postgresql-42.2.16.jar"
      ],
      "metadata": {
        "colab": {
          "base_uri": "https://localhost:8080/"
        },
        "id": "ro-AbZZO4iGH",
        "outputId": "9315d5cc-0a2e-4b9c-da89-f406b852d803"
      },
      "execution_count": null,
      "outputs": [
        {
          "output_type": "stream",
          "name": "stdout",
          "text": [
            "--2022-09-23 01:07:53--  https://jdbc.postgresql.org/download/postgresql-42.2.16.jar\n",
            "Resolving jdbc.postgresql.org (jdbc.postgresql.org)... 72.32.157.228, 2001:4800:3e1:1::228\n",
            "Connecting to jdbc.postgresql.org (jdbc.postgresql.org)|72.32.157.228|:443... connected.\n",
            "HTTP request sent, awaiting response... 200 OK\n",
            "Length: 1002883 (979K) [application/java-archive]\n",
            "Saving to: ‘postgresql-42.2.16.jar’\n",
            "\n",
            "postgresql-42.2.16. 100%[===================>] 979.38K  5.36MB/s    in 0.2s    \n",
            "\n",
            "2022-09-23 01:07:53 (5.36 MB/s) - ‘postgresql-42.2.16.jar’ saved [1002883/1002883]\n",
            "\n"
          ]
        }
      ]
    },
    {
      "cell_type": "markdown",
      "source": [
        "## Reading S3 Bucket csv file to DataFrame"
      ],
      "metadata": {
        "id": "9ag7wesX5VKx"
      }
    },
    {
      "cell_type": "code",
      "source": [
        "from pyspark.sql import SparkSession\n",
        "spark = SparkSession.builder.appName(\"Recidivism_Cloud\").config(\"spark.driver.extraClassPath\",\"/content/postgresql-42.2.16.jar\").getOrCreate()"
      ],
      "metadata": {
        "id": "0rT7cegW4yz2"
      },
      "execution_count": null,
      "outputs": []
    },
    {
      "cell_type": "code",
      "source": [
        "from pyspark import SparkFiles\n",
        "url = \"https://vasudha-bucket.s3.ca-central-1.amazonaws.com/recidivism_data.csv\"\n",
        "spark.sparkContext.addFile(url)\n",
        "df = spark.read.csv(SparkFiles.get(\"\"), sep=\",\", header=True, inferSchema=True)\n",
        "df.show()"
      ],
      "metadata": {
        "colab": {
          "base_uri": "https://localhost:8080/"
        },
        "id": "wH-umDhp46yu",
        "outputId": "30d7811b-b47f-43ea-c181-4eff5bfacf3b"
      },
      "execution_count": null,
      "outputs": [
        {
          "output_type": "stream",
          "name": "stdout",
          "text": [
            "+--------------------+-------------------------+-------------------------+--------------------+--------------------+---------------+------+----------------------+------------+---------------+----------------+--------------+---------------+--------------------------+----------------+--------------------+-----------------+\n",
            "|Fiscal Year Released|Recidivism Reporting Year|Main Supervising District|        Release Type|    Race - Ethnicity|Age At Release |   Sex|Offense Classification|Offense Type|Offense Subtype|Return to Prison|Days to Return|Recidivism Type|New Offense Classification|New Offense Type|New Offense Sub Type|Target Population|\n",
            "+--------------------+-------------------------+-------------------------+--------------------+--------------------+---------------+------+----------------------+------------+---------------+----------------+--------------+---------------+--------------------------+----------------+--------------------+-----------------+\n",
            "|                2010|                     2013|                      7JD|              Parole|Black - Non-Hispanic|          25-34|  Male|              C Felony|     Violent|        Robbery|             Yes|           433|            New|                  C Felony|            Drug|         Trafficking|              Yes|\n",
            "|                2010|                     2013|                     null|Discharged – End ...|White - Non-Hispanic|          25-34|  Male|              D Felony|    Property|          Theft|             Yes|           453|           Tech|                      null|            null|                null|               No|\n",
            "|                2010|                     2013|                      5JD|              Parole|White - Non-Hispanic|          35-44|  Male|              B Felony|        Drug|    Trafficking|             Yes|           832|           Tech|                      null|            null|                null|              Yes|\n",
            "|                2010|                     2013|                      6JD|              Parole|White - Non-Hispanic|          25-34|  Male|              B Felony|       Other| Other Criminal|              No|          null|  No Recidivism|                      null|            null|                null|              Yes|\n",
            "|                2010|                     2013|                     null|Discharged – End ...|Black - Non-Hispanic|          35-44|  Male|              D Felony|     Violent|        Assault|             Yes|           116|           Tech|                      null|            null|                null|               No|\n",
            "|                2010|                     2013|                      4JD|              Parole|White - Non-Hispanic|          25-34|  Male|              C Felony|        Drug|    Trafficking|              No|          null|  No Recidivism|                      null|            null|                null|              Yes|\n",
            "|                2010|                     2013|                      4JD|              Parole|White - Non-Hispanic|          25-34|  Male|              C Felony|        Drug|    Trafficking|              No|          null|  No Recidivism|                      null|            null|                null|              Yes|\n",
            "|                2010|                     2013|                      6JD|              Parole|Black - Non-Hispanic|          35-44|  Male|              D Felony|Public Order|            OWI|             Yes|            84|           Tech|                      null|            null|                null|              Yes|\n",
            "|                2010|                     2013|                      7JD|              Parole|White - Non-Hispanic|          25-34|  Male|     Felony - Enhanced|    Property|  Forgery/Fraud|              No|          null|  No Recidivism|                      null|            null|                null|              Yes|\n",
            "|                2010|                     2013|                      1JD|              Parole|Black - Non-Hispanic|          25-34|  Male|              C Felony|     Violent|  Other Violent|             Yes|           274|           Tech|                      null|            null|                null|              Yes|\n",
            "|                2010|                     2013|                      3JD|              Parole|White - Non-Hispanic|          25-34|  Male|              C Felony|        Drug|    Trafficking|             Yes|           165|            New|                  D Felony|            Drug|          Other Drug|              Yes|\n",
            "|                2010|                     2013|                      1JD|              Parole|White - Non-Hispanic|          25-34|  Male|              C Felony|        Drug|    Trafficking|             Yes|           249|           Tech|                      null|            null|                null|              Yes|\n",
            "|                2010|                     2013|                      8JD|              Parole|Black - Non-Hispanic|          35-44|  Male|              D Felony|        Drug|Drug Possession|             Yes|         1,001|            New|      Aggravated Misdem...|    Public Order|             Traffic|              Yes|\n",
            "|                2010|                     2013|                     null|Discharged – End ...|White - Non-Hispanic|          45-54|  Male|              D Felony|        Drug|     Other Drug|              No|          null|  No Recidivism|                      null|            null|                null|               No|\n",
            "|                2010|                     2013|                     null|Discharged – End ...|White - Non-Hispanic|          45-54|  Male|              D Felony|        Drug|     Other Drug|              No|          null|  No Recidivism|                      null|            null|                null|               No|\n",
            "|                2010|                     2013|                      1JD|              Parole|Black - Non-Hispanic|       Under 25|  Male|              C Felony|    Property|       Burglary|              No|          null|  No Recidivism|                      null|            null|                null|              Yes|\n",
            "|                2010|                     2013|                     null|Discharged – End ...|White - Non-Hispanic|       Under 25|  Male|              D Felony|Public Order|            OWI|             Yes|           763|            New|       Serious Misdemeanor|         Violent|             Assault|               No|\n",
            "|                2010|                     2013|                      7JD|              Parole|White - Non-Hispanic|          35-44|Female|              D Felony|    Property|          Theft|             Yes|           598|           Tech|                      null|            null|                null|              Yes|\n",
            "|                2010|                     2013|                     null|Discharged – End ...|Black - Non-Hispanic|          25-34|Female|              C Felony|     Violent|            Sex|              No|          null|  No Recidivism|                      null|            null|                null|               No|\n",
            "|                2010|                     2013|                     null|Discharged – End ...|Black - Non-Hispanic|          25-34|  Male|  Aggravated Misdem...|    Property|          Theft|              No|          null|  No Recidivism|                      null|            null|                null|               No|\n",
            "+--------------------+-------------------------+-------------------------+--------------------+--------------------+---------------+------+----------------------+------------+---------------+----------------+--------------+---------------+--------------------------+----------------+--------------------+-----------------+\n",
            "only showing top 20 rows\n",
            "\n"
          ]
        }
      ]
    },
    {
      "cell_type": "markdown",
      "source": [
        "## Uploading DataFrame to AWS RDS Instance"
      ],
      "metadata": {
        "id": "NYoTVrQp5eia"
      }
    },
    {
      "cell_type": "code",
      "source": [
        "# Configure settings for RDS\n",
        "mode = \"append\"\n",
        "jdbc_url=\"jdbc:postgresql://database-1.clf82frcjuur.ca-central-1.rds.amazonaws.com:5432/postgres\"\n",
        "config = {\"user\":\"postgres\", \n",
        "          \"password\": \"Database_1\", \n",
        "          \"driver\":\"org.postgresql.Driver\"}"
      ],
      "metadata": {
        "id": "n61R7Due5jzs"
      },
      "execution_count": null,
      "outputs": []
    },
    {
      "cell_type": "code",
      "source": [
        "# Write df to prisoners table in postgres server\n",
        "df.write.jdbc(url=jdbc_url, table='PRISONERS', mode=mode, properties=config)"
      ],
      "metadata": {
        "id": "JkdpVrmT6udi"
      },
      "execution_count": null,
      "outputs": []
    }
  ]
}