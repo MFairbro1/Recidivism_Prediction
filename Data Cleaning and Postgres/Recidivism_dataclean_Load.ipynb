{
  "nbformat": 4,
  "nbformat_minor": 0,
  "metadata": {
    "colab": {
      "provenance": [],
      "collapsed_sections": []
    },
    "kernelspec": {
      "name": "python3",
      "display_name": "Python 3"
    },
    "language_info": {
      "name": "python"
    }
  },
  "cells": [
    {
      "cell_type": "code",
      "execution_count": 2,
      "metadata": {
        "colab": {
          "base_uri": "https://localhost:8080/"
        },
        "id": "_Z3fFDTqfqve",
        "outputId": "d59c5bdb-6146-4971-fc94-ed6188486c16"
      },
      "outputs": [
        {
          "output_type": "stream",
          "name": "stdout",
          "text": [
            "Get:1 https://cloud.r-project.org/bin/linux/ubuntu bionic-cran40/ InRelease [3,626 B]\n",
            "Hit:2 http://archive.ubuntu.com/ubuntu bionic InRelease\n",
            "Get:3 http://security.ubuntu.com/ubuntu bionic-security InRelease [88.7 kB]\n",
            "Get:4 http://archive.ubuntu.com/ubuntu bionic-updates InRelease [88.7 kB]\n",
            "Hit:5 http://ppa.launchpad.net/c2d4u.team/c2d4u4.0+/ubuntu bionic InRelease\n",
            "Ign:6 https://developer.download.nvidia.com/compute/machine-learning/repos/ubuntu1804/x86_64  InRelease\n",
            "Get:7 https://developer.download.nvidia.com/compute/cuda/repos/ubuntu1804/x86_64  InRelease [1,581 B]\n",
            "Hit:8 https://developer.download.nvidia.com/compute/machine-learning/repos/ubuntu1804/x86_64  Release\n",
            "Get:9 https://developer.download.nvidia.com/compute/cuda/repos/ubuntu1804/x86_64  Packages [913 kB]\n",
            "Hit:10 http://ppa.launchpad.net/cran/libgit2/ubuntu bionic InRelease\n",
            "Get:11 http://archive.ubuntu.com/ubuntu bionic-backports InRelease [83.3 kB]\n",
            "Get:12 http://security.ubuntu.com/ubuntu bionic-security/universe amd64 Packages [1,546 kB]\n",
            "Hit:14 http://ppa.launchpad.net/deadsnakes/ppa/ubuntu bionic InRelease\n",
            "Get:15 http://archive.ubuntu.com/ubuntu bionic-updates/universe amd64 Packages [2,323 kB]\n",
            "Get:16 http://ppa.launchpad.net/graphics-drivers/ppa/ubuntu bionic InRelease [21.3 kB]\n",
            "Get:17 http://security.ubuntu.com/ubuntu bionic-security/main amd64 Packages [2,990 kB]\n",
            "Get:18 http://archive.ubuntu.com/ubuntu bionic-updates/main amd64 Packages [3,422 kB]\n",
            "Get:19 http://ppa.launchpad.net/graphics-drivers/ppa/ubuntu bionic/main amd64 Packages [48.3 kB]\n",
            "Fetched 11.5 MB in 4s (2,955 kB/s)\n",
            "Reading package lists... Done\n"
          ]
        }
      ],
      "source": [
        "import os\n",
        "# Find the latest version of spark 3.0 from http://www.apache.org/dist/spark/ and enter as the spark version\n",
        "# For example:\n",
        "# spark_version = 'spark-3.0.3'\n",
        "spark_version = 'spark-3.1.3'\n",
        "os.environ['SPARK_VERSION']=spark_version\n",
        "\n",
        "# Install Spark and Java\n",
        "!apt-get update\n",
        "!apt-get install openjdk-11-jdk-headless -qq > /dev/null\n",
        "!wget -q http://www.apache.org/dist/spark/$SPARK_VERSION/$SPARK_VERSION-bin-hadoop2.7.tgz\n",
        "!tar xf $SPARK_VERSION-bin-hadoop2.7.tgz\n",
        "!pip install -q findspark\n",
        "\n",
        "# Set Environment Variables\n",
        "import os\n",
        "os.environ[\"JAVA_HOME\"] = \"/usr/lib/jvm/java-11-openjdk-amd64\"\n",
        "os.environ[\"SPARK_HOME\"] = f\"/content/{spark_version}-bin-hadoop2.7\"\n",
        "\n",
        "# Start a SparkSession\n",
        "import findspark\n",
        "findspark.init()"
      ]
    },
    {
      "cell_type": "code",
      "source": [
        "# Download the Postgres driver that will allow Spark to interact with Postgres.\n",
        "!wget https://jdbc.postgresql.org/download/postgresql-42.2.16.jar"
      ],
      "metadata": {
        "colab": {
          "base_uri": "https://localhost:8080/"
        },
        "id": "r9Yflq7vzKUg",
        "outputId": "b8dd9f12-1d0d-470c-9ecf-3c523b87c01d"
      },
      "execution_count": 3,
      "outputs": [
        {
          "output_type": "stream",
          "name": "stdout",
          "text": [
            "--2022-09-29 22:25:52--  https://jdbc.postgresql.org/download/postgresql-42.2.16.jar\n",
            "Resolving jdbc.postgresql.org (jdbc.postgresql.org)... 72.32.157.228, 2001:4800:3e1:1::228\n",
            "Connecting to jdbc.postgresql.org (jdbc.postgresql.org)|72.32.157.228|:443... connected.\n",
            "HTTP request sent, awaiting response... 200 OK\n",
            "Length: 1002883 (979K) [application/java-archive]\n",
            "Saving to: ‘postgresql-42.2.16.jar’\n",
            "\n",
            "postgresql-42.2.16. 100%[===================>] 979.38K  1.17MB/s    in 0.8s    \n",
            "\n",
            "2022-09-29 22:25:54 (1.17 MB/s) - ‘postgresql-42.2.16.jar’ saved [1002883/1002883]\n",
            "\n"
          ]
        }
      ]
    },
    {
      "cell_type": "code",
      "source": [
        "from pyspark.sql import SparkSession\n",
        "spark = SparkSession.builder.appName(\"Recidivism_Prediction_Cloud\").config(\"spark.driver.extraClassPath\",\"/content/postgresql-42.2.16.jar\").getOrCreate()"
      ],
      "metadata": {
        "id": "f7G23lFih9Ih"
      },
      "execution_count": 4,
      "outputs": []
    },
    {
      "cell_type": "code",
      "source": [
        "from pyspark import SparkFiles\n",
        "url = \"https://vasudha-bucket.s3.ca-central-1.amazonaws.com/recidivism_data.csv\"\n",
        "spark.sparkContext.addFile(url)\n",
        "df = spark.read.csv(SparkFiles.get(\"\"), sep=\",\", header=True, inferSchema=True)\n",
        "df.show()"
      ],
      "metadata": {
        "colab": {
          "base_uri": "https://localhost:8080/"
        },
        "id": "NyYmDqJXiCe8",
        "outputId": "d8333179-2322-491e-c4e5-ec0a5a92903c"
      },
      "execution_count": 5,
      "outputs": [
        {
          "output_type": "stream",
          "name": "stdout",
          "text": [
            "+--------------------+-------------------------+-------------------------+--------------------+--------------------+---------------+------+----------------------+------------+---------------+----------------+--------------+---------------+--------------------------+----------------+--------------------+-----------------+\n",
            "|Fiscal Year Released|Recidivism Reporting Year|Main Supervising District|        Release Type|    Race - Ethnicity|Age At Release |   Sex|Offense Classification|Offense Type|Offense Subtype|Return to Prison|Days to Return|Recidivism Type|New Offense Classification|New Offense Type|New Offense Sub Type|Target Population|\n",
            "+--------------------+-------------------------+-------------------------+--------------------+--------------------+---------------+------+----------------------+------------+---------------+----------------+--------------+---------------+--------------------------+----------------+--------------------+-----------------+\n",
            "|                2010|                     2013|                      7JD|              Parole|Black - Non-Hispanic|          25-34|  Male|              C Felony|     Violent|        Robbery|             Yes|           433|            New|                  C Felony|            Drug|         Trafficking|              Yes|\n",
            "|                2010|                     2013|                     null|Discharged – End ...|White - Non-Hispanic|          25-34|  Male|              D Felony|    Property|          Theft|             Yes|           453|           Tech|                      null|            null|                null|               No|\n",
            "|                2010|                     2013|                      5JD|              Parole|White - Non-Hispanic|          35-44|  Male|              B Felony|        Drug|    Trafficking|             Yes|           832|           Tech|                      null|            null|                null|              Yes|\n",
            "|                2010|                     2013|                      6JD|              Parole|White - Non-Hispanic|          25-34|  Male|              B Felony|       Other| Other Criminal|              No|          null|  No Recidivism|                      null|            null|                null|              Yes|\n",
            "|                2010|                     2013|                     null|Discharged – End ...|Black - Non-Hispanic|          35-44|  Male|              D Felony|     Violent|        Assault|             Yes|           116|           Tech|                      null|            null|                null|               No|\n",
            "|                2010|                     2013|                      4JD|              Parole|White - Non-Hispanic|          25-34|  Male|              C Felony|        Drug|    Trafficking|              No|          null|  No Recidivism|                      null|            null|                null|              Yes|\n",
            "|                2010|                     2013|                      4JD|              Parole|White - Non-Hispanic|          25-34|  Male|              C Felony|        Drug|    Trafficking|              No|          null|  No Recidivism|                      null|            null|                null|              Yes|\n",
            "|                2010|                     2013|                      6JD|              Parole|Black - Non-Hispanic|          35-44|  Male|              D Felony|Public Order|            OWI|             Yes|            84|           Tech|                      null|            null|                null|              Yes|\n",
            "|                2010|                     2013|                      7JD|              Parole|White - Non-Hispanic|          25-34|  Male|     Felony - Enhanced|    Property|  Forgery/Fraud|              No|          null|  No Recidivism|                      null|            null|                null|              Yes|\n",
            "|                2010|                     2013|                      1JD|              Parole|Black - Non-Hispanic|          25-34|  Male|              C Felony|     Violent|  Other Violent|             Yes|           274|           Tech|                      null|            null|                null|              Yes|\n",
            "|                2010|                     2013|                      3JD|              Parole|White - Non-Hispanic|          25-34|  Male|              C Felony|        Drug|    Trafficking|             Yes|           165|            New|                  D Felony|            Drug|          Other Drug|              Yes|\n",
            "|                2010|                     2013|                      1JD|              Parole|White - Non-Hispanic|          25-34|  Male|              C Felony|        Drug|    Trafficking|             Yes|           249|           Tech|                      null|            null|                null|              Yes|\n",
            "|                2010|                     2013|                      8JD|              Parole|Black - Non-Hispanic|          35-44|  Male|              D Felony|        Drug|Drug Possession|             Yes|         1,001|            New|      Aggravated Misdem...|    Public Order|             Traffic|              Yes|\n",
            "|                2010|                     2013|                     null|Discharged – End ...|White - Non-Hispanic|          45-54|  Male|              D Felony|        Drug|     Other Drug|              No|          null|  No Recidivism|                      null|            null|                null|               No|\n",
            "|                2010|                     2013|                     null|Discharged – End ...|White - Non-Hispanic|          45-54|  Male|              D Felony|        Drug|     Other Drug|              No|          null|  No Recidivism|                      null|            null|                null|               No|\n",
            "|                2010|                     2013|                      1JD|              Parole|Black - Non-Hispanic|       Under 25|  Male|              C Felony|    Property|       Burglary|              No|          null|  No Recidivism|                      null|            null|                null|              Yes|\n",
            "|                2010|                     2013|                     null|Discharged – End ...|White - Non-Hispanic|       Under 25|  Male|              D Felony|Public Order|            OWI|             Yes|           763|            New|       Serious Misdemeanor|         Violent|             Assault|               No|\n",
            "|                2010|                     2013|                      7JD|              Parole|White - Non-Hispanic|          35-44|Female|              D Felony|    Property|          Theft|             Yes|           598|           Tech|                      null|            null|                null|              Yes|\n",
            "|                2010|                     2013|                     null|Discharged – End ...|Black - Non-Hispanic|          25-34|Female|              C Felony|     Violent|            Sex|              No|          null|  No Recidivism|                      null|            null|                null|               No|\n",
            "|                2010|                     2013|                     null|Discharged – End ...|Black - Non-Hispanic|          25-34|  Male|  Aggravated Misdem...|    Property|          Theft|              No|          null|  No Recidivism|                      null|            null|                null|               No|\n",
            "+--------------------+-------------------------+-------------------------+--------------------+--------------------+---------------+------+----------------------+------------+---------------+----------------+--------------+---------------+--------------------------+----------------+--------------------+-----------------+\n",
            "only showing top 20 rows\n",
            "\n"
          ]
        }
      ]
    },
    {
      "cell_type": "code",
      "source": [
        "df.columns"
      ],
      "metadata": {
        "colab": {
          "base_uri": "https://localhost:8080/"
        },
        "id": "Y31uyJUYjgOt",
        "outputId": "e016ed49-ccea-4cd9-b300-0f54de7c63cc"
      },
      "execution_count": 6,
      "outputs": [
        {
          "output_type": "execute_result",
          "data": {
            "text/plain": [
              "['Fiscal Year Released',\n",
              " 'Recidivism Reporting Year',\n",
              " 'Main Supervising District',\n",
              " 'Release Type',\n",
              " 'Race - Ethnicity',\n",
              " 'Age At Release ',\n",
              " 'Sex',\n",
              " 'Offense Classification',\n",
              " 'Offense Type',\n",
              " 'Offense Subtype',\n",
              " 'Return to Prison',\n",
              " 'Days to Return',\n",
              " 'Recidivism Type',\n",
              " 'New Offense Classification',\n",
              " 'New Offense Type',\n",
              " 'New Offense Sub Type',\n",
              " 'Target Population']"
            ]
          },
          "metadata": {},
          "execution_count": 6
        }
      ]
    },
    {
      "cell_type": "code",
      "source": [
        "df.dtypes"
      ],
      "metadata": {
        "colab": {
          "base_uri": "https://localhost:8080/"
        },
        "id": "OxJVXfl7lMCl",
        "outputId": "6c9f744d-70e5-4083-8ca6-4ee48b8a892b"
      },
      "execution_count": 7,
      "outputs": [
        {
          "output_type": "execute_result",
          "data": {
            "text/plain": [
              "[('Fiscal Year Released', 'int'),\n",
              " ('Recidivism Reporting Year', 'int'),\n",
              " ('Main Supervising District', 'string'),\n",
              " ('Release Type', 'string'),\n",
              " ('Race - Ethnicity', 'string'),\n",
              " ('Age At Release ', 'string'),\n",
              " ('Sex', 'string'),\n",
              " ('Offense Classification', 'string'),\n",
              " ('Offense Type', 'string'),\n",
              " ('Offense Subtype', 'string'),\n",
              " ('Return to Prison', 'string'),\n",
              " ('Days to Return', 'string'),\n",
              " ('Recidivism Type', 'string'),\n",
              " ('New Offense Classification', 'string'),\n",
              " ('New Offense Type', 'string'),\n",
              " ('New Offense Sub Type', 'string'),\n",
              " ('Target Population', 'string')]"
            ]
          },
          "metadata": {},
          "execution_count": 7
        }
      ]
    },
    {
      "cell_type": "code",
      "source": [
        "import pandas as pd\n",
        "import numpy as np\n",
        "from pyspark.sql.functions import col"
      ],
      "metadata": {
        "id": "NjvpWk9Vw3mg"
      },
      "execution_count": 8,
      "outputs": []
    },
    {
      "cell_type": "code",
      "source": [
        "# Drop columns\n",
        "df=df.drop('Recidivism Reporting Year', 'Convicting Offense Subtype', 'Main Supervising District', 'Release type: Paroled to Detainder united', 'Part of Target Population')\n"
      ],
      "metadata": {
        "id": "h6UNMxqHx5gq"
      },
      "execution_count": 9,
      "outputs": []
    },
    {
      "cell_type": "code",
      "source": [
        "df.show()"
      ],
      "metadata": {
        "colab": {
          "base_uri": "https://localhost:8080/"
        },
        "id": "q_wYd4xl-nfO",
        "outputId": "680fb282-eeb3-421c-a102-596a4030d242"
      },
      "execution_count": 10,
      "outputs": [
        {
          "output_type": "stream",
          "name": "stdout",
          "text": [
            "+--------------------+--------------------+--------------------+---------------+------+----------------------+------------+---------------+----------------+--------------+---------------+--------------------------+----------------+--------------------+-----------------+\n",
            "|Fiscal Year Released|        Release Type|    Race - Ethnicity|Age At Release |   Sex|Offense Classification|Offense Type|Offense Subtype|Return to Prison|Days to Return|Recidivism Type|New Offense Classification|New Offense Type|New Offense Sub Type|Target Population|\n",
            "+--------------------+--------------------+--------------------+---------------+------+----------------------+------------+---------------+----------------+--------------+---------------+--------------------------+----------------+--------------------+-----------------+\n",
            "|                2010|              Parole|Black - Non-Hispanic|          25-34|  Male|              C Felony|     Violent|        Robbery|             Yes|           433|            New|                  C Felony|            Drug|         Trafficking|              Yes|\n",
            "|                2010|Discharged – End ...|White - Non-Hispanic|          25-34|  Male|              D Felony|    Property|          Theft|             Yes|           453|           Tech|                      null|            null|                null|               No|\n",
            "|                2010|              Parole|White - Non-Hispanic|          35-44|  Male|              B Felony|        Drug|    Trafficking|             Yes|           832|           Tech|                      null|            null|                null|              Yes|\n",
            "|                2010|              Parole|White - Non-Hispanic|          25-34|  Male|              B Felony|       Other| Other Criminal|              No|          null|  No Recidivism|                      null|            null|                null|              Yes|\n",
            "|                2010|Discharged – End ...|Black - Non-Hispanic|          35-44|  Male|              D Felony|     Violent|        Assault|             Yes|           116|           Tech|                      null|            null|                null|               No|\n",
            "|                2010|              Parole|White - Non-Hispanic|          25-34|  Male|              C Felony|        Drug|    Trafficking|              No|          null|  No Recidivism|                      null|            null|                null|              Yes|\n",
            "|                2010|              Parole|White - Non-Hispanic|          25-34|  Male|              C Felony|        Drug|    Trafficking|              No|          null|  No Recidivism|                      null|            null|                null|              Yes|\n",
            "|                2010|              Parole|Black - Non-Hispanic|          35-44|  Male|              D Felony|Public Order|            OWI|             Yes|            84|           Tech|                      null|            null|                null|              Yes|\n",
            "|                2010|              Parole|White - Non-Hispanic|          25-34|  Male|     Felony - Enhanced|    Property|  Forgery/Fraud|              No|          null|  No Recidivism|                      null|            null|                null|              Yes|\n",
            "|                2010|              Parole|Black - Non-Hispanic|          25-34|  Male|              C Felony|     Violent|  Other Violent|             Yes|           274|           Tech|                      null|            null|                null|              Yes|\n",
            "|                2010|              Parole|White - Non-Hispanic|          25-34|  Male|              C Felony|        Drug|    Trafficking|             Yes|           165|            New|                  D Felony|            Drug|          Other Drug|              Yes|\n",
            "|                2010|              Parole|White - Non-Hispanic|          25-34|  Male|              C Felony|        Drug|    Trafficking|             Yes|           249|           Tech|                      null|            null|                null|              Yes|\n",
            "|                2010|              Parole|Black - Non-Hispanic|          35-44|  Male|              D Felony|        Drug|Drug Possession|             Yes|         1,001|            New|      Aggravated Misdem...|    Public Order|             Traffic|              Yes|\n",
            "|                2010|Discharged – End ...|White - Non-Hispanic|          45-54|  Male|              D Felony|        Drug|     Other Drug|              No|          null|  No Recidivism|                      null|            null|                null|               No|\n",
            "|                2010|Discharged – End ...|White - Non-Hispanic|          45-54|  Male|              D Felony|        Drug|     Other Drug|              No|          null|  No Recidivism|                      null|            null|                null|               No|\n",
            "|                2010|              Parole|Black - Non-Hispanic|       Under 25|  Male|              C Felony|    Property|       Burglary|              No|          null|  No Recidivism|                      null|            null|                null|              Yes|\n",
            "|                2010|Discharged – End ...|White - Non-Hispanic|       Under 25|  Male|              D Felony|Public Order|            OWI|             Yes|           763|            New|       Serious Misdemeanor|         Violent|             Assault|               No|\n",
            "|                2010|              Parole|White - Non-Hispanic|          35-44|Female|              D Felony|    Property|          Theft|             Yes|           598|           Tech|                      null|            null|                null|              Yes|\n",
            "|                2010|Discharged – End ...|Black - Non-Hispanic|          25-34|Female|              C Felony|     Violent|            Sex|              No|          null|  No Recidivism|                      null|            null|                null|               No|\n",
            "|                2010|Discharged – End ...|Black - Non-Hispanic|          25-34|  Male|  Aggravated Misdem...|    Property|          Theft|              No|          null|  No Recidivism|                      null|            null|                null|               No|\n",
            "+--------------------+--------------------+--------------------+---------------+------+----------------------+------------+---------------+----------------+--------------+---------------+--------------------------+----------------+--------------------+-----------------+\n",
            "only showing top 20 rows\n",
            "\n"
          ]
        }
      ]
    },
    {
      "cell_type": "code",
      "source": [
        "df.where(col(\"Race - Ethnicity\")  == \"N/A -\").show()\n"
      ],
      "metadata": {
        "colab": {
          "base_uri": "https://localhost:8080/"
        },
        "id": "kKRVBR4hy8dh",
        "outputId": "94cb3d65-5e09-4196-adfd-218533505776"
      },
      "execution_count": 11,
      "outputs": [
        {
          "output_type": "stream",
          "name": "stdout",
          "text": [
            "+--------------------+--------------------+----------------+---------------+----+----------------------+------------+---------------+----------------+--------------+---------------+--------------------------+----------------+--------------------+-----------------+\n",
            "|Fiscal Year Released|        Release Type|Race - Ethnicity|Age At Release | Sex|Offense Classification|Offense Type|Offense Subtype|Return to Prison|Days to Return|Recidivism Type|New Offense Classification|New Offense Type|New Offense Sub Type|Target Population|\n",
            "+--------------------+--------------------+----------------+---------------+----+----------------------+------------+---------------+----------------+--------------+---------------+--------------------------+----------------+--------------------+-----------------+\n",
            "|                2011|Discharged – End ...|           N/A -|          25-34|Male|              D Felony|       Other| Other Criminal|              No|          null|  No Recidivism|                      null|            null|                null|               No|\n",
            "|                2012|Discharged – End ...|           N/A -|           null|null|  Aggravated Misdem...|    Property|       Burglary|              No|          null|  No Recidivism|                      null|            null|                null|               No|\n",
            "|                2012|Discharged – End ...|           N/A -|           null|null|              D Felony|Public Order|            OWI|              No|          null|  No Recidivism|                      null|            null|                null|               No|\n",
            "|                2012|Discharged – End ...|           N/A -|           null|null|  Aggravated Misdem...|    Property|  Forgery/Fraud|              No|          null|  No Recidivism|                      null|            null|                null|               No|\n",
            "|                2014|                null|           N/A -|          35-44|Male|              D Felony|        Drug|    Trafficking|              No|          null|  No Recidivism|                      null|            null|                null|               No|\n",
            "+--------------------+--------------------+----------------+---------------+----+----------------------+------------+---------------+----------------+--------------+---------------+--------------------------+----------------+--------------------+-----------------+\n",
            "\n"
          ]
        }
      ]
    },
    {
      "cell_type": "code",
      "source": [
        "df.where(col(\"Race - Ethnicity\").isNotNull())"
      ],
      "metadata": {
        "colab": {
          "base_uri": "https://localhost:8080/"
        },
        "id": "CnuranQk2TwO",
        "outputId": "d3bbf939-48b0-48b3-d048-ba8aa3fdcc01"
      },
      "execution_count": 12,
      "outputs": [
        {
          "output_type": "execute_result",
          "data": {
            "text/plain": [
              "DataFrame[Fiscal Year Released: int, Release Type: string, Race - Ethnicity: string, Age At Release : string, Sex: string, Offense Classification: string, Offense Type: string, Offense Subtype: string, Return to Prison: string, Days to Return: string, Recidivism Type: string, New Offense Classification: string, New Offense Type: string, New Offense Sub Type: string, Target Population: string]"
            ]
          },
          "metadata": {},
          "execution_count": 12
        }
      ]
    },
    {
      "cell_type": "code",
      "source": [
        "from pyspark.sql.functions import regexp_replace\n",
        "# df.withColumn(\"Race - Ethnicity\", regexp_replace(\"Race - Ethnicity\", \"White - Hispanic\", \"Hispanic\")) \\\n",
        "#   .show()\n",
        "from pyspark.sql.functions import when\n",
        "df = df.withColumn(\"Race - Ethnicity\", when(col(\"Race - Ethnicity\") == \"White - Hispanic\",\"Hispanic\") \\\n",
        "      .when(col(\"Race - Ethnicity\") == \"White - Non-Hispanic\",\"White\") \\\n",
        "      .when(col(\"Race - Ethnicity\") == \"Black - Hispanic\",\"Hispanic\") \\\n",
        "      .when(col(\"Race - Ethnicity\") == \"Black - Non-Hispanic\",\"Black\") \\\n",
        "      .when(col(\"Race - Ethnicity\") == \"Asian or Pacific Islander - Hispanic\",\"Hispanic\") \\\n",
        "      .when(col(\"Race - Ethnicity\") == \"Asian or Pacific Islander - Non-Hispanic\",\"Asian\") \\\n",
        "      .when(col(\"Race - Ethnicity\") == \"American Indian or Alaska Native - Hispanic\",\"Hispanic\") \\\n",
        "      .when(col(\"Race - Ethnicity\") == \"American Indian or Alaska Native - Non-Hispanic\",\"Native\") \\\n",
        "      .when(col(\"Race - Ethnicity\") == \"White -\",\"White\") \\\n",
        "      .when(col(\"Race - Ethnicity\") == \"Black -\",\"Black\") )\n",
        "\n",
        "df.show()\n"
      ],
      "metadata": {
        "colab": {
          "base_uri": "https://localhost:8080/"
        },
        "id": "9zWMngdg2jqF",
        "outputId": "1f659ed0-0a9b-4197-e6e7-6511a5103b2c"
      },
      "execution_count": 13,
      "outputs": [
        {
          "output_type": "stream",
          "name": "stdout",
          "text": [
            "+--------------------+--------------------+----------------+---------------+------+----------------------+------------+---------------+----------------+--------------+---------------+--------------------------+----------------+--------------------+-----------------+\n",
            "|Fiscal Year Released|        Release Type|Race - Ethnicity|Age At Release |   Sex|Offense Classification|Offense Type|Offense Subtype|Return to Prison|Days to Return|Recidivism Type|New Offense Classification|New Offense Type|New Offense Sub Type|Target Population|\n",
            "+--------------------+--------------------+----------------+---------------+------+----------------------+------------+---------------+----------------+--------------+---------------+--------------------------+----------------+--------------------+-----------------+\n",
            "|                2010|              Parole|           Black|          25-34|  Male|              C Felony|     Violent|        Robbery|             Yes|           433|            New|                  C Felony|            Drug|         Trafficking|              Yes|\n",
            "|                2010|Discharged – End ...|           White|          25-34|  Male|              D Felony|    Property|          Theft|             Yes|           453|           Tech|                      null|            null|                null|               No|\n",
            "|                2010|              Parole|           White|          35-44|  Male|              B Felony|        Drug|    Trafficking|             Yes|           832|           Tech|                      null|            null|                null|              Yes|\n",
            "|                2010|              Parole|           White|          25-34|  Male|              B Felony|       Other| Other Criminal|              No|          null|  No Recidivism|                      null|            null|                null|              Yes|\n",
            "|                2010|Discharged – End ...|           Black|          35-44|  Male|              D Felony|     Violent|        Assault|             Yes|           116|           Tech|                      null|            null|                null|               No|\n",
            "|                2010|              Parole|           White|          25-34|  Male|              C Felony|        Drug|    Trafficking|              No|          null|  No Recidivism|                      null|            null|                null|              Yes|\n",
            "|                2010|              Parole|           White|          25-34|  Male|              C Felony|        Drug|    Trafficking|              No|          null|  No Recidivism|                      null|            null|                null|              Yes|\n",
            "|                2010|              Parole|           Black|          35-44|  Male|              D Felony|Public Order|            OWI|             Yes|            84|           Tech|                      null|            null|                null|              Yes|\n",
            "|                2010|              Parole|           White|          25-34|  Male|     Felony - Enhanced|    Property|  Forgery/Fraud|              No|          null|  No Recidivism|                      null|            null|                null|              Yes|\n",
            "|                2010|              Parole|           Black|          25-34|  Male|              C Felony|     Violent|  Other Violent|             Yes|           274|           Tech|                      null|            null|                null|              Yes|\n",
            "|                2010|              Parole|           White|          25-34|  Male|              C Felony|        Drug|    Trafficking|             Yes|           165|            New|                  D Felony|            Drug|          Other Drug|              Yes|\n",
            "|                2010|              Parole|           White|          25-34|  Male|              C Felony|        Drug|    Trafficking|             Yes|           249|           Tech|                      null|            null|                null|              Yes|\n",
            "|                2010|              Parole|           Black|          35-44|  Male|              D Felony|        Drug|Drug Possession|             Yes|         1,001|            New|      Aggravated Misdem...|    Public Order|             Traffic|              Yes|\n",
            "|                2010|Discharged – End ...|           White|          45-54|  Male|              D Felony|        Drug|     Other Drug|              No|          null|  No Recidivism|                      null|            null|                null|               No|\n",
            "|                2010|Discharged – End ...|           White|          45-54|  Male|              D Felony|        Drug|     Other Drug|              No|          null|  No Recidivism|                      null|            null|                null|               No|\n",
            "|                2010|              Parole|           Black|       Under 25|  Male|              C Felony|    Property|       Burglary|              No|          null|  No Recidivism|                      null|            null|                null|              Yes|\n",
            "|                2010|Discharged – End ...|           White|       Under 25|  Male|              D Felony|Public Order|            OWI|             Yes|           763|            New|       Serious Misdemeanor|         Violent|             Assault|               No|\n",
            "|                2010|              Parole|           White|          35-44|Female|              D Felony|    Property|          Theft|             Yes|           598|           Tech|                      null|            null|                null|              Yes|\n",
            "|                2010|Discharged – End ...|           Black|          25-34|Female|              C Felony|     Violent|            Sex|              No|          null|  No Recidivism|                      null|            null|                null|               No|\n",
            "|                2010|Discharged – End ...|           Black|          25-34|  Male|  Aggravated Misdem...|    Property|          Theft|              No|          null|  No Recidivism|                      null|            null|                null|               No|\n",
            "+--------------------+--------------------+----------------+---------------+------+----------------------+------------+---------------+----------------+--------------+---------------+--------------------------+----------------+--------------------+-----------------+\n",
            "only showing top 20 rows\n",
            "\n"
          ]
        }
      ]
    },
    {
      "cell_type": "code",
      "source": [
        "df = df.withColumn(\"Release Type\", when(col(\"Release Type\") == \"Paroled to Detainer - INS\",\"Paroled to Detainer\") \\\n",
        "      .when(col(\"Release Type\") == \"Paroled to Detainer - Iowa\",\"Paroled to Detainer\") \\\n",
        "      .when(col(\"Release Type\") == \"Paroled to Detainer - Out of State\",\"Paroled to Detainer\") \\\n",
        "      .when(col(\"Release Type\") == \"Paroled to Detainer - U.S. Marshall\",\"Paroled to Detainer\") )\n",
        "\n",
        "df.show()\n"
      ],
      "metadata": {
        "colab": {
          "base_uri": "https://localhost:8080/"
        },
        "id": "nopQKRPhCjJc",
        "outputId": "6d67b45b-828c-4d07-c668-62480146e953"
      },
      "execution_count": 14,
      "outputs": [
        {
          "output_type": "stream",
          "name": "stdout",
          "text": [
            "+--------------------+------------+----------------+---------------+------+----------------------+------------+---------------+----------------+--------------+---------------+--------------------------+----------------+--------------------+-----------------+\n",
            "|Fiscal Year Released|Release Type|Race - Ethnicity|Age At Release |   Sex|Offense Classification|Offense Type|Offense Subtype|Return to Prison|Days to Return|Recidivism Type|New Offense Classification|New Offense Type|New Offense Sub Type|Target Population|\n",
            "+--------------------+------------+----------------+---------------+------+----------------------+------------+---------------+----------------+--------------+---------------+--------------------------+----------------+--------------------+-----------------+\n",
            "|                2010|        null|           Black|          25-34|  Male|              C Felony|     Violent|        Robbery|             Yes|           433|            New|                  C Felony|            Drug|         Trafficking|              Yes|\n",
            "|                2010|        null|           White|          25-34|  Male|              D Felony|    Property|          Theft|             Yes|           453|           Tech|                      null|            null|                null|               No|\n",
            "|                2010|        null|           White|          35-44|  Male|              B Felony|        Drug|    Trafficking|             Yes|           832|           Tech|                      null|            null|                null|              Yes|\n",
            "|                2010|        null|           White|          25-34|  Male|              B Felony|       Other| Other Criminal|              No|          null|  No Recidivism|                      null|            null|                null|              Yes|\n",
            "|                2010|        null|           Black|          35-44|  Male|              D Felony|     Violent|        Assault|             Yes|           116|           Tech|                      null|            null|                null|               No|\n",
            "|                2010|        null|           White|          25-34|  Male|              C Felony|        Drug|    Trafficking|              No|          null|  No Recidivism|                      null|            null|                null|              Yes|\n",
            "|                2010|        null|           White|          25-34|  Male|              C Felony|        Drug|    Trafficking|              No|          null|  No Recidivism|                      null|            null|                null|              Yes|\n",
            "|                2010|        null|           Black|          35-44|  Male|              D Felony|Public Order|            OWI|             Yes|            84|           Tech|                      null|            null|                null|              Yes|\n",
            "|                2010|        null|           White|          25-34|  Male|     Felony - Enhanced|    Property|  Forgery/Fraud|              No|          null|  No Recidivism|                      null|            null|                null|              Yes|\n",
            "|                2010|        null|           Black|          25-34|  Male|              C Felony|     Violent|  Other Violent|             Yes|           274|           Tech|                      null|            null|                null|              Yes|\n",
            "|                2010|        null|           White|          25-34|  Male|              C Felony|        Drug|    Trafficking|             Yes|           165|            New|                  D Felony|            Drug|          Other Drug|              Yes|\n",
            "|                2010|        null|           White|          25-34|  Male|              C Felony|        Drug|    Trafficking|             Yes|           249|           Tech|                      null|            null|                null|              Yes|\n",
            "|                2010|        null|           Black|          35-44|  Male|              D Felony|        Drug|Drug Possession|             Yes|         1,001|            New|      Aggravated Misdem...|    Public Order|             Traffic|              Yes|\n",
            "|                2010|        null|           White|          45-54|  Male|              D Felony|        Drug|     Other Drug|              No|          null|  No Recidivism|                      null|            null|                null|               No|\n",
            "|                2010|        null|           White|          45-54|  Male|              D Felony|        Drug|     Other Drug|              No|          null|  No Recidivism|                      null|            null|                null|               No|\n",
            "|                2010|        null|           Black|       Under 25|  Male|              C Felony|    Property|       Burglary|              No|          null|  No Recidivism|                      null|            null|                null|              Yes|\n",
            "|                2010|        null|           White|       Under 25|  Male|              D Felony|Public Order|            OWI|             Yes|           763|            New|       Serious Misdemeanor|         Violent|             Assault|               No|\n",
            "|                2010|        null|           White|          35-44|Female|              D Felony|    Property|          Theft|             Yes|           598|           Tech|                      null|            null|                null|              Yes|\n",
            "|                2010|        null|           Black|          25-34|Female|              C Felony|     Violent|            Sex|              No|          null|  No Recidivism|                      null|            null|                null|               No|\n",
            "|                2010|        null|           Black|          25-34|  Male|  Aggravated Misdem...|    Property|          Theft|              No|          null|  No Recidivism|                      null|            null|                null|               No|\n",
            "+--------------------+------------+----------------+---------------+------+----------------------+------------+---------------+----------------+--------------+---------------+--------------------------+----------------+--------------------+-----------------+\n",
            "only showing top 20 rows\n",
            "\n"
          ]
        }
      ]
    },
    {
      "cell_type": "code",
      "source": [
        "df.fillna(value='Other',subset=[\"Release Type\"])"
      ],
      "metadata": {
        "colab": {
          "base_uri": "https://localhost:8080/"
        },
        "id": "4K1EScjyDuwn",
        "outputId": "a191e304-1373-45f2-82b9-11deb5d6d4d2"
      },
      "execution_count": 15,
      "outputs": [
        {
          "output_type": "execute_result",
          "data": {
            "text/plain": [
              "DataFrame[Fiscal Year Released: int, Release Type: string, Race - Ethnicity: string, Age At Release : string, Sex: string, Offense Classification: string, Offense Type: string, Offense Subtype: string, Return to Prison: string, Days to Return: string, Recidivism Type: string, New Offense Classification: string, New Offense Type: string, New Offense Sub Type: string, Target Population: string]"
            ]
          },
          "metadata": {},
          "execution_count": 15
        }
      ]
    },
    {
      "cell_type": "code",
      "source": [
        "df = df.withColumnRenamed(\"Fiscal Year Released\",\"Year Released\")\\\n",
        "  .withColumnRenamed( \"Race - Ethnicity\",\"Race\")\\\n",
        "  .withColumnRenamed( \"Age At Release \",\"Age\")\\\n",
        "  .withColumnRenamed( \"Convicting Offense Classification\",\"Offense Classification\")\\\n",
        "  .withColumnRenamed( \"Convicting Offense Type\",\"Offense Type\")\\\n",
        "  .withColumnRenamed( \"Recidivism - Return to Prison numeric\",\"Recidivism\")\n",
        "df.printSchema()\n",
        "\n",
        "  "
      ],
      "metadata": {
        "colab": {
          "base_uri": "https://localhost:8080/"
        },
        "id": "aLCsnoM6ELkP",
        "outputId": "a128f5cb-6b37-43a3-943b-9fe7bf5c17f3"
      },
      "execution_count": 16,
      "outputs": [
        {
          "output_type": "stream",
          "name": "stdout",
          "text": [
            "root\n",
            " |-- Year Released: integer (nullable = true)\n",
            " |-- Release Type: string (nullable = true)\n",
            " |-- Race: string (nullable = true)\n",
            " |-- Age: string (nullable = true)\n",
            " |-- Sex: string (nullable = true)\n",
            " |-- Offense Classification: string (nullable = true)\n",
            " |-- Offense Type: string (nullable = true)\n",
            " |-- Offense Subtype: string (nullable = true)\n",
            " |-- Return to Prison: string (nullable = true)\n",
            " |-- Days to Return: string (nullable = true)\n",
            " |-- Recidivism Type: string (nullable = true)\n",
            " |-- New Offense Classification: string (nullable = true)\n",
            " |-- New Offense Type: string (nullable = true)\n",
            " |-- New Offense Sub Type: string (nullable = true)\n",
            " |-- Target Population: string (nullable = true)\n",
            "\n"
          ]
        }
      ]
    },
    {
      "cell_type": "code",
      "source": [
        "from pyspark.sql.window import Window\n",
        "from pyspark.sql.functions import row_number\n",
        "from pyspark.sql.functions import monotonically_increasing_id\n",
        "df1 = df.withColumn(\"ID\", row_number().over(Window.orderBy(monotonically_increasing_id())))\n"
      ],
      "metadata": {
        "id": "W7BnpcqXGrP2"
      },
      "execution_count": 17,
      "outputs": []
    },
    {
      "cell_type": "code",
      "source": [
        "df1.show()"
      ],
      "metadata": {
        "colab": {
          "base_uri": "https://localhost:8080/"
        },
        "id": "bGPOFh9wH3XV",
        "outputId": "1369235e-9baf-47ef-b8ad-62ef02d825e2"
      },
      "execution_count": 18,
      "outputs": [
        {
          "output_type": "stream",
          "name": "stdout",
          "text": [
            "+-------------+------------+-----+--------+------+----------------------+------------+---------------+----------------+--------------+---------------+--------------------------+----------------+--------------------+-----------------+---+\n",
            "|Year Released|Release Type| Race|     Age|   Sex|Offense Classification|Offense Type|Offense Subtype|Return to Prison|Days to Return|Recidivism Type|New Offense Classification|New Offense Type|New Offense Sub Type|Target Population| ID|\n",
            "+-------------+------------+-----+--------+------+----------------------+------------+---------------+----------------+--------------+---------------+--------------------------+----------------+--------------------+-----------------+---+\n",
            "|         2010|        null|Black|   25-34|  Male|              C Felony|     Violent|        Robbery|             Yes|           433|            New|                  C Felony|            Drug|         Trafficking|              Yes|  1|\n",
            "|         2010|        null|White|   25-34|  Male|              D Felony|    Property|          Theft|             Yes|           453|           Tech|                      null|            null|                null|               No|  2|\n",
            "|         2010|        null|White|   35-44|  Male|              B Felony|        Drug|    Trafficking|             Yes|           832|           Tech|                      null|            null|                null|              Yes|  3|\n",
            "|         2010|        null|White|   25-34|  Male|              B Felony|       Other| Other Criminal|              No|          null|  No Recidivism|                      null|            null|                null|              Yes|  4|\n",
            "|         2010|        null|Black|   35-44|  Male|              D Felony|     Violent|        Assault|             Yes|           116|           Tech|                      null|            null|                null|               No|  5|\n",
            "|         2010|        null|White|   25-34|  Male|              C Felony|        Drug|    Trafficking|              No|          null|  No Recidivism|                      null|            null|                null|              Yes|  6|\n",
            "|         2010|        null|White|   25-34|  Male|              C Felony|        Drug|    Trafficking|              No|          null|  No Recidivism|                      null|            null|                null|              Yes|  7|\n",
            "|         2010|        null|Black|   35-44|  Male|              D Felony|Public Order|            OWI|             Yes|            84|           Tech|                      null|            null|                null|              Yes|  8|\n",
            "|         2010|        null|White|   25-34|  Male|     Felony - Enhanced|    Property|  Forgery/Fraud|              No|          null|  No Recidivism|                      null|            null|                null|              Yes|  9|\n",
            "|         2010|        null|Black|   25-34|  Male|              C Felony|     Violent|  Other Violent|             Yes|           274|           Tech|                      null|            null|                null|              Yes| 10|\n",
            "|         2010|        null|White|   25-34|  Male|              C Felony|        Drug|    Trafficking|             Yes|           165|            New|                  D Felony|            Drug|          Other Drug|              Yes| 11|\n",
            "|         2010|        null|White|   25-34|  Male|              C Felony|        Drug|    Trafficking|             Yes|           249|           Tech|                      null|            null|                null|              Yes| 12|\n",
            "|         2010|        null|Black|   35-44|  Male|              D Felony|        Drug|Drug Possession|             Yes|         1,001|            New|      Aggravated Misdem...|    Public Order|             Traffic|              Yes| 13|\n",
            "|         2010|        null|White|   45-54|  Male|              D Felony|        Drug|     Other Drug|              No|          null|  No Recidivism|                      null|            null|                null|               No| 14|\n",
            "|         2010|        null|White|   45-54|  Male|              D Felony|        Drug|     Other Drug|              No|          null|  No Recidivism|                      null|            null|                null|               No| 15|\n",
            "|         2010|        null|Black|Under 25|  Male|              C Felony|    Property|       Burglary|              No|          null|  No Recidivism|                      null|            null|                null|              Yes| 16|\n",
            "|         2010|        null|White|Under 25|  Male|              D Felony|Public Order|            OWI|             Yes|           763|            New|       Serious Misdemeanor|         Violent|             Assault|               No| 17|\n",
            "|         2010|        null|White|   35-44|Female|              D Felony|    Property|          Theft|             Yes|           598|           Tech|                      null|            null|                null|              Yes| 18|\n",
            "|         2010|        null|Black|   25-34|Female|              C Felony|     Violent|            Sex|              No|          null|  No Recidivism|                      null|            null|                null|               No| 19|\n",
            "|         2010|        null|Black|   25-34|  Male|  Aggravated Misdem...|    Property|          Theft|              No|          null|  No Recidivism|                      null|            null|                null|               No| 20|\n",
            "+-------------+------------+-----+--------+------+----------------------+------------+---------------+----------------+--------------+---------------+--------------------------+----------------+--------------------+-----------------+---+\n",
            "only showing top 20 rows\n",
            "\n"
          ]
        }
      ]
    },
    {
      "cell_type": "code",
      "source": [
        "# prisoner_df = df.select(['Year Released','Release Type', 'Age','Race','Sex'])\n",
        "# prisoner_df.show()"
      ],
      "metadata": {
        "colab": {
          "base_uri": "https://localhost:8080/"
        },
        "id": "Kg3dqmFHJ16m",
        "outputId": "4688bf03-697d-428f-fdd6-86d0c8e18a00"
      },
      "execution_count": 19,
      "outputs": [
        {
          "output_type": "stream",
          "name": "stdout",
          "text": [
            "+-------------+------------+--------+-----+------+\n",
            "|Year Released|Release Type|     Age| Race|   Sex|\n",
            "+-------------+------------+--------+-----+------+\n",
            "|         2010|        null|   25-34|Black|  Male|\n",
            "|         2010|        null|   25-34|White|  Male|\n",
            "|         2010|        null|   35-44|White|  Male|\n",
            "|         2010|        null|   25-34|White|  Male|\n",
            "|         2010|        null|   35-44|Black|  Male|\n",
            "|         2010|        null|   25-34|White|  Male|\n",
            "|         2010|        null|   25-34|White|  Male|\n",
            "|         2010|        null|   35-44|Black|  Male|\n",
            "|         2010|        null|   25-34|White|  Male|\n",
            "|         2010|        null|   25-34|Black|  Male|\n",
            "|         2010|        null|   25-34|White|  Male|\n",
            "|         2010|        null|   25-34|White|  Male|\n",
            "|         2010|        null|   35-44|Black|  Male|\n",
            "|         2010|        null|   45-54|White|  Male|\n",
            "|         2010|        null|   45-54|White|  Male|\n",
            "|         2010|        null|Under 25|Black|  Male|\n",
            "|         2010|        null|Under 25|White|  Male|\n",
            "|         2010|        null|   35-44|White|Female|\n",
            "|         2010|        null|   25-34|Black|Female|\n",
            "|         2010|        null|   25-34|Black|  Male|\n",
            "+-------------+------------+--------+-----+------+\n",
            "only showing top 20 rows\n",
            "\n"
          ]
        }
      ]
    },
    {
      "cell_type": "code",
      "source": [
        "prisoner_df.fillna(value='Other',subset=[\"Release Type\"]).show()"
      ],
      "metadata": {
        "colab": {
          "base_uri": "https://localhost:8080/"
        },
        "id": "OAyoVNEeOuT1",
        "outputId": "25531700-4ef8-4099-eb93-38a2a88cd26d"
      },
      "execution_count": 28,
      "outputs": [
        {
          "output_type": "stream",
          "name": "stdout",
          "text": [
            "+---+-------------+------------+--------+-----+------+\n",
            "| ID|Year Released|Release Type|     Age| Race|   Sex|\n",
            "+---+-------------+------------+--------+-----+------+\n",
            "|  1|         2010|       Other|   25-34|Black|  Male|\n",
            "|  2|         2010|       Other|   25-34|White|  Male|\n",
            "|  3|         2010|       Other|   35-44|White|  Male|\n",
            "|  4|         2010|       Other|   25-34|White|  Male|\n",
            "|  5|         2010|       Other|   35-44|Black|  Male|\n",
            "|  6|         2010|       Other|   25-34|White|  Male|\n",
            "|  7|         2010|       Other|   25-34|White|  Male|\n",
            "|  8|         2010|       Other|   35-44|Black|  Male|\n",
            "|  9|         2010|       Other|   25-34|White|  Male|\n",
            "| 10|         2010|       Other|   25-34|Black|  Male|\n",
            "| 11|         2010|       Other|   25-34|White|  Male|\n",
            "| 12|         2010|       Other|   25-34|White|  Male|\n",
            "| 13|         2010|       Other|   35-44|Black|  Male|\n",
            "| 14|         2010|       Other|   45-54|White|  Male|\n",
            "| 15|         2010|       Other|   45-54|White|  Male|\n",
            "| 16|         2010|       Other|Under 25|Black|  Male|\n",
            "| 17|         2010|       Other|Under 25|White|  Male|\n",
            "| 18|         2010|       Other|   35-44|White|Female|\n",
            "| 19|         2010|       Other|   25-34|Black|Female|\n",
            "| 20|         2010|       Other|   25-34|Black|  Male|\n",
            "+---+-------------+------------+--------+-----+------+\n",
            "only showing top 20 rows\n",
            "\n"
          ]
        }
      ]
    },
    {
      "cell_type": "code",
      "source": [
        "prisoner_df = df1.select(['ID','Year Released','Release Type', 'Age','Race','Sex'])\n",
        "prisoner_df.show()"
      ],
      "metadata": {
        "colab": {
          "base_uri": "https://localhost:8080/"
        },
        "id": "y5FmQvrVPEHb",
        "outputId": "2860f632-172c-45c2-9b4f-d3c2ecd1c113"
      },
      "execution_count": 27,
      "outputs": [
        {
          "output_type": "stream",
          "name": "stdout",
          "text": [
            "+---+-------------+------------+--------+-----+------+\n",
            "| ID|Year Released|Release Type|     Age| Race|   Sex|\n",
            "+---+-------------+------------+--------+-----+------+\n",
            "|  1|         2010|        null|   25-34|Black|  Male|\n",
            "|  2|         2010|        null|   25-34|White|  Male|\n",
            "|  3|         2010|        null|   35-44|White|  Male|\n",
            "|  4|         2010|        null|   25-34|White|  Male|\n",
            "|  5|         2010|        null|   35-44|Black|  Male|\n",
            "|  6|         2010|        null|   25-34|White|  Male|\n",
            "|  7|         2010|        null|   25-34|White|  Male|\n",
            "|  8|         2010|        null|   35-44|Black|  Male|\n",
            "|  9|         2010|        null|   25-34|White|  Male|\n",
            "| 10|         2010|        null|   25-34|Black|  Male|\n",
            "| 11|         2010|        null|   25-34|White|  Male|\n",
            "| 12|         2010|        null|   25-34|White|  Male|\n",
            "| 13|         2010|        null|   35-44|Black|  Male|\n",
            "| 14|         2010|        null|   45-54|White|  Male|\n",
            "| 15|         2010|        null|   45-54|White|  Male|\n",
            "| 16|         2010|        null|Under 25|Black|  Male|\n",
            "| 17|         2010|        null|Under 25|White|  Male|\n",
            "| 18|         2010|        null|   35-44|White|Female|\n",
            "| 19|         2010|        null|   25-34|Black|Female|\n",
            "| 20|         2010|        null|   25-34|Black|  Male|\n",
            "+---+-------------+------------+--------+-----+------+\n",
            "only showing top 20 rows\n",
            "\n"
          ]
        }
      ]
    },
    {
      "cell_type": "code",
      "source": [
        "offense_type_df = df1[['ID','Offense Classification','Offense Type','Offense Subtype']]\n",
        "offense_type_df.show()"
      ],
      "metadata": {
        "colab": {
          "base_uri": "https://localhost:8080/"
        },
        "id": "jgs4RirbPMp_",
        "outputId": "3161ce24-3496-4166-eeeb-6582e930ec66"
      },
      "execution_count": 22,
      "outputs": [
        {
          "output_type": "stream",
          "name": "stdout",
          "text": [
            "+---+----------------------+------------+---------------+\n",
            "| ID|Offense Classification|Offense Type|Offense Subtype|\n",
            "+---+----------------------+------------+---------------+\n",
            "|  1|              C Felony|     Violent|        Robbery|\n",
            "|  2|              D Felony|    Property|          Theft|\n",
            "|  3|              B Felony|        Drug|    Trafficking|\n",
            "|  4|              B Felony|       Other| Other Criminal|\n",
            "|  5|              D Felony|     Violent|        Assault|\n",
            "|  6|              C Felony|        Drug|    Trafficking|\n",
            "|  7|              C Felony|        Drug|    Trafficking|\n",
            "|  8|              D Felony|Public Order|            OWI|\n",
            "|  9|     Felony - Enhanced|    Property|  Forgery/Fraud|\n",
            "| 10|              C Felony|     Violent|  Other Violent|\n",
            "| 11|              C Felony|        Drug|    Trafficking|\n",
            "| 12|              C Felony|        Drug|    Trafficking|\n",
            "| 13|              D Felony|        Drug|Drug Possession|\n",
            "| 14|              D Felony|        Drug|     Other Drug|\n",
            "| 15|              D Felony|        Drug|     Other Drug|\n",
            "| 16|              C Felony|    Property|       Burglary|\n",
            "| 17|              D Felony|Public Order|            OWI|\n",
            "| 18|              D Felony|    Property|          Theft|\n",
            "| 19|              C Felony|     Violent|            Sex|\n",
            "| 20|  Aggravated Misdem...|    Property|          Theft|\n",
            "+---+----------------------+------------+---------------+\n",
            "only showing top 20 rows\n",
            "\n"
          ]
        }
      ]
    },
    {
      "cell_type": "code",
      "source": [
        "Recidivism_details_df = df1[['ID','Days to Return','Recidivism Type','New Offense Classification','New Offense Type','New Offense Sub Type','Target Population','Return to Prison']]\n",
        "Recidivism_details_df.show()"
      ],
      "metadata": {
        "colab": {
          "base_uri": "https://localhost:8080/"
        },
        "id": "ffE6JgeMPuW2",
        "outputId": "a0bafb6a-297f-475c-9d2d-8e3b0bc3dda9"
      },
      "execution_count": 23,
      "outputs": [
        {
          "output_type": "stream",
          "name": "stdout",
          "text": [
            "+---+--------------+---------------+--------------------------+----------------+--------------------+-----------------+----------------+\n",
            "| ID|Days to Return|Recidivism Type|New Offense Classification|New Offense Type|New Offense Sub Type|Target Population|Return to Prison|\n",
            "+---+--------------+---------------+--------------------------+----------------+--------------------+-----------------+----------------+\n",
            "|  1|           433|            New|                  C Felony|            Drug|         Trafficking|              Yes|             Yes|\n",
            "|  2|           453|           Tech|                      null|            null|                null|               No|             Yes|\n",
            "|  3|           832|           Tech|                      null|            null|                null|              Yes|             Yes|\n",
            "|  4|          null|  No Recidivism|                      null|            null|                null|              Yes|              No|\n",
            "|  5|           116|           Tech|                      null|            null|                null|               No|             Yes|\n",
            "|  6|          null|  No Recidivism|                      null|            null|                null|              Yes|              No|\n",
            "|  7|          null|  No Recidivism|                      null|            null|                null|              Yes|              No|\n",
            "|  8|            84|           Tech|                      null|            null|                null|              Yes|             Yes|\n",
            "|  9|          null|  No Recidivism|                      null|            null|                null|              Yes|              No|\n",
            "| 10|           274|           Tech|                      null|            null|                null|              Yes|             Yes|\n",
            "| 11|           165|            New|                  D Felony|            Drug|          Other Drug|              Yes|             Yes|\n",
            "| 12|           249|           Tech|                      null|            null|                null|              Yes|             Yes|\n",
            "| 13|         1,001|            New|      Aggravated Misdem...|    Public Order|             Traffic|              Yes|             Yes|\n",
            "| 14|          null|  No Recidivism|                      null|            null|                null|               No|              No|\n",
            "| 15|          null|  No Recidivism|                      null|            null|                null|               No|              No|\n",
            "| 16|          null|  No Recidivism|                      null|            null|                null|              Yes|              No|\n",
            "| 17|           763|            New|       Serious Misdemeanor|         Violent|             Assault|               No|             Yes|\n",
            "| 18|           598|           Tech|                      null|            null|                null|              Yes|             Yes|\n",
            "| 19|          null|  No Recidivism|                      null|            null|                null|               No|              No|\n",
            "| 20|          null|  No Recidivism|                      null|            null|                null|               No|              No|\n",
            "+---+--------------+---------------+--------------------------+----------------+--------------------+-----------------+----------------+\n",
            "only showing top 20 rows\n",
            "\n"
          ]
        }
      ]
    },
    {
      "cell_type": "code",
      "source": [
        "prisoner_df.dtypes"
      ],
      "metadata": {
        "colab": {
          "base_uri": "https://localhost:8080/"
        },
        "id": "eUPla1EwTGnV",
        "outputId": "23478397-ae09-4b65-97ca-fd6524dcfb8d"
      },
      "execution_count": 24,
      "outputs": [
        {
          "output_type": "execute_result",
          "data": {
            "text/plain": [
              "[('Year Released', 'int'),\n",
              " ('Release Type', 'string'),\n",
              " ('Age', 'string'),\n",
              " ('Race', 'string'),\n",
              " ('Sex', 'string')]"
            ]
          },
          "metadata": {},
          "execution_count": 24
        }
      ]
    },
    {
      "cell_type": "code",
      "source": [
        "# Configure settings for RDS\n",
        "mode = \"append\"\n",
        "jdbc_url=\"jdbc:postgresql://database-1.clf82frcjuur.ca-central-1.rds.amazonaws.com:5432/postgres\"\n",
        "config = {\"user\":\"postgres\", \n",
        "          \"password\": \"Database_1\", \n",
        "          \"driver\":\"org.postgresql.Driver\"}          "
      ],
      "metadata": {
        "id": "syCsPtr_fDG-"
      },
      "execution_count": 25,
      "outputs": []
    },
    {
      "cell_type": "code",
      "source": [
        "# Write df to prisoners table in postgres server\n",
        "prisoner_df.write.jdbc(url=jdbc_url, table='PRISONERS', mode=mode, properties=config)"
      ],
      "metadata": {
        "id": "cIeotyYP6g0W"
      },
      "execution_count": 29,
      "outputs": []
    },
    {
      "cell_type": "code",
      "source": [
        "Recidivism_details_df.write.jdbc(url=jdbc_url, table='RECIDIVISM', mode=mode, properties=config)"
      ],
      "metadata": {
        "id": "F5xmPd2RXrHR"
      },
      "execution_count": 30,
      "outputs": []
    },
    {
      "cell_type": "code",
      "source": [
        "offense_type_df.write.jdbc(url=jdbc_url, table='OFFENSE', mode=mode, properties=config)"
      ],
      "metadata": {
        "id": "Z0Dz0K4uYB4f"
      },
      "execution_count": 31,
      "outputs": []
    }
  ]
}