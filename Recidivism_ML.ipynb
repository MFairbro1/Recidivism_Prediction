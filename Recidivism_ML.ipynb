{
 "cells": [
  {
   "cell_type": "markdown",
   "id": "82e8e546",
   "metadata": {},
   "source": [
    "# Recidivism Prediction"
   ]
  },
  {
   "cell_type": "markdown",
   "id": "60e181ec",
   "metadata": {},
   "source": [
    "## Importing Libraries and Dataset"
   ]
  },
  {
   "cell_type": "code",
   "execution_count": 1,
   "id": "a9c538c2",
   "metadata": {},
   "outputs": [],
   "source": [
    "# Import Libraries\n",
    "from pathlib import Path\n",
    "import pandas as pd\n",
    "from sklearn.model_selection import train_test_split\n",
    "from sklearn.linear_model import LogisticRegression\n",
    "from sklearn.preprocessing import StandardScaler\n",
    "from sklearn.model_selection import train_test_split\n",
    "from sklearn.metrics import confusion_matrix, accuracy_score, classification_report\n",
    "from sqlalchemy import create_engine\n",
    "import pymysql\n",
    "import psycopg2 as pg"
   ]
  },
  {
   "cell_type": "markdown",
   "id": "a3ac3fa6",
   "metadata": {},
   "source": [
    "## Database Connection"
   ]
  },
  {
   "cell_type": "code",
   "execution_count": 2,
   "id": "45969f70",
   "metadata": {},
   "outputs": [],
   "source": [
    "# Connecting to Amazon RDS Database\n",
    "engine = pg.connect(\"host='database-1.clf82frcjuur.ca-central-1.rds.amazonaws.com' dbname='postgres' user='postgres' password='Database_1' port='5432'\")"
   ]
  },
  {
   "cell_type": "code",
   "execution_count": 3,
   "id": "ff0b0d36",
   "metadata": {},
   "outputs": [],
   "source": [
    "# Reading PRISONERS Table to Pandas DataFrame\n",
    "prisoner_df = pd.read_sql_query('SELECT * FROM PRISONERS', con = engine)"
   ]
  },
  {
   "cell_type": "code",
   "execution_count": 4,
   "id": "cb8e5acf",
   "metadata": {},
   "outputs": [
    {
     "data": {
      "text/html": [
       "<div>\n",
       "<style scoped>\n",
       "    .dataframe tbody tr th:only-of-type {\n",
       "        vertical-align: middle;\n",
       "    }\n",
       "\n",
       "    .dataframe tbody tr th {\n",
       "        vertical-align: top;\n",
       "    }\n",
       "\n",
       "    .dataframe thead th {\n",
       "        text-align: right;\n",
       "    }\n",
       "</style>\n",
       "<table border=\"1\" class=\"dataframe\">\n",
       "  <thead>\n",
       "    <tr style=\"text-align: right;\">\n",
       "      <th></th>\n",
       "      <th>ID</th>\n",
       "      <th>Year Released</th>\n",
       "      <th>Release Type</th>\n",
       "      <th>Age</th>\n",
       "      <th>Race</th>\n",
       "      <th>Sex</th>\n",
       "    </tr>\n",
       "  </thead>\n",
       "  <tbody>\n",
       "    <tr>\n",
       "      <th>0</th>\n",
       "      <td>12471</td>\n",
       "      <td>2013</td>\n",
       "      <td>Paroled to Detainer</td>\n",
       "      <td>45-54</td>\n",
       "      <td>White</td>\n",
       "      <td>Male</td>\n",
       "    </tr>\n",
       "    <tr>\n",
       "      <th>1</th>\n",
       "      <td>12480</td>\n",
       "      <td>2013</td>\n",
       "      <td>Paroled to Detainer</td>\n",
       "      <td>Under 25</td>\n",
       "      <td>White</td>\n",
       "      <td>Male</td>\n",
       "    </tr>\n",
       "    <tr>\n",
       "      <th>2</th>\n",
       "      <td>12486</td>\n",
       "      <td>2013</td>\n",
       "      <td>Paroled to Detainer</td>\n",
       "      <td>25-34</td>\n",
       "      <td>White</td>\n",
       "      <td>Male</td>\n",
       "    </tr>\n",
       "    <tr>\n",
       "      <th>3</th>\n",
       "      <td>12659</td>\n",
       "      <td>2013</td>\n",
       "      <td>Paroled to Detainer</td>\n",
       "      <td>25-34</td>\n",
       "      <td>White</td>\n",
       "      <td>Male</td>\n",
       "    </tr>\n",
       "    <tr>\n",
       "      <th>4</th>\n",
       "      <td>12683</td>\n",
       "      <td>2013</td>\n",
       "      <td>Paroled to Detainer</td>\n",
       "      <td>35-44</td>\n",
       "      <td>White</td>\n",
       "      <td>Male</td>\n",
       "    </tr>\n",
       "  </tbody>\n",
       "</table>\n",
       "</div>"
      ],
      "text/plain": [
       "      ID  Year Released         Release Type       Age   Race   Sex\n",
       "0  12471           2013  Paroled to Detainer     45-54  White  Male\n",
       "1  12480           2013  Paroled to Detainer  Under 25  White  Male\n",
       "2  12486           2013  Paroled to Detainer     25-34  White  Male\n",
       "3  12659           2013  Paroled to Detainer     25-34  White  Male\n",
       "4  12683           2013  Paroled to Detainer     35-44  White  Male"
      ]
     },
     "execution_count": 4,
     "metadata": {},
     "output_type": "execute_result"
    }
   ],
   "source": [
    "# Viewing prisoner_df\n",
    "prisoner_df.head()"
   ]
  },
  {
   "cell_type": "code",
   "execution_count": 5,
   "id": "45b4cf8e",
   "metadata": {},
   "outputs": [],
   "source": [
    "# Reading OFFENSE Table to Pandas Dataframe\n",
    "offense_df = pd.read_sql_query('SELECT * FROM OFFENSE', con = engine)"
   ]
  },
  {
   "cell_type": "code",
   "execution_count": 6,
   "id": "6a20414b",
   "metadata": {},
   "outputs": [
    {
     "data": {
      "text/html": [
       "<div>\n",
       "<style scoped>\n",
       "    .dataframe tbody tr th:only-of-type {\n",
       "        vertical-align: middle;\n",
       "    }\n",
       "\n",
       "    .dataframe tbody tr th {\n",
       "        vertical-align: top;\n",
       "    }\n",
       "\n",
       "    .dataframe thead th {\n",
       "        text-align: right;\n",
       "    }\n",
       "</style>\n",
       "<table border=\"1\" class=\"dataframe\">\n",
       "  <thead>\n",
       "    <tr style=\"text-align: right;\">\n",
       "      <th></th>\n",
       "      <th>ID</th>\n",
       "      <th>Offense Classification</th>\n",
       "      <th>Offense Type</th>\n",
       "      <th>Offense Subtype</th>\n",
       "    </tr>\n",
       "  </thead>\n",
       "  <tbody>\n",
       "    <tr>\n",
       "      <th>0</th>\n",
       "      <td>1</td>\n",
       "      <td>C Felony</td>\n",
       "      <td>Violent</td>\n",
       "      <td>Robbery</td>\n",
       "    </tr>\n",
       "    <tr>\n",
       "      <th>1</th>\n",
       "      <td>2</td>\n",
       "      <td>D Felony</td>\n",
       "      <td>Property</td>\n",
       "      <td>Theft</td>\n",
       "    </tr>\n",
       "    <tr>\n",
       "      <th>2</th>\n",
       "      <td>3</td>\n",
       "      <td>B Felony</td>\n",
       "      <td>Drug</td>\n",
       "      <td>Trafficking</td>\n",
       "    </tr>\n",
       "    <tr>\n",
       "      <th>3</th>\n",
       "      <td>4</td>\n",
       "      <td>B Felony</td>\n",
       "      <td>Other</td>\n",
       "      <td>Other Criminal</td>\n",
       "    </tr>\n",
       "    <tr>\n",
       "      <th>4</th>\n",
       "      <td>5</td>\n",
       "      <td>D Felony</td>\n",
       "      <td>Violent</td>\n",
       "      <td>Assault</td>\n",
       "    </tr>\n",
       "  </tbody>\n",
       "</table>\n",
       "</div>"
      ],
      "text/plain": [
       "   ID Offense Classification Offense Type Offense Subtype\n",
       "0   1               C Felony      Violent         Robbery\n",
       "1   2               D Felony     Property           Theft\n",
       "2   3               B Felony         Drug     Trafficking\n",
       "3   4               B Felony        Other  Other Criminal\n",
       "4   5               D Felony      Violent         Assault"
      ]
     },
     "execution_count": 6,
     "metadata": {},
     "output_type": "execute_result"
    }
   ],
   "source": [
    "# Viewing offense_df\n",
    "offense_df.head()"
   ]
  },
  {
   "cell_type": "code",
   "execution_count": 7,
   "id": "ab0ec2eb",
   "metadata": {},
   "outputs": [],
   "source": [
    "# Reading RECIDIVISM Table to Pandas Dataframe\n",
    "recidivism_df = pd.read_sql_query('SELECT * FROM RECIDIVISM', con = engine)"
   ]
  },
  {
   "cell_type": "code",
   "execution_count": 8,
   "id": "760c7dc7",
   "metadata": {},
   "outputs": [
    {
     "data": {
      "text/html": [
       "<div>\n",
       "<style scoped>\n",
       "    .dataframe tbody tr th:only-of-type {\n",
       "        vertical-align: middle;\n",
       "    }\n",
       "\n",
       "    .dataframe tbody tr th {\n",
       "        vertical-align: top;\n",
       "    }\n",
       "\n",
       "    .dataframe thead th {\n",
       "        text-align: right;\n",
       "    }\n",
       "</style>\n",
       "<table border=\"1\" class=\"dataframe\">\n",
       "  <thead>\n",
       "    <tr style=\"text-align: right;\">\n",
       "      <th></th>\n",
       "      <th>ID</th>\n",
       "      <th>Days to Return</th>\n",
       "      <th>Recidivism Type</th>\n",
       "      <th>New Offense Classification</th>\n",
       "      <th>New Offense Type</th>\n",
       "      <th>New Offense Sub Type</th>\n",
       "      <th>Target Population</th>\n",
       "      <th>Return to Prison</th>\n",
       "    </tr>\n",
       "  </thead>\n",
       "  <tbody>\n",
       "    <tr>\n",
       "      <th>0</th>\n",
       "      <td>1</td>\n",
       "      <td>433</td>\n",
       "      <td>New</td>\n",
       "      <td>C Felony</td>\n",
       "      <td>Drug</td>\n",
       "      <td>Trafficking</td>\n",
       "      <td>Yes</td>\n",
       "      <td>Yes</td>\n",
       "    </tr>\n",
       "    <tr>\n",
       "      <th>1</th>\n",
       "      <td>2</td>\n",
       "      <td>453</td>\n",
       "      <td>Tech</td>\n",
       "      <td>None</td>\n",
       "      <td>None</td>\n",
       "      <td>None</td>\n",
       "      <td>No</td>\n",
       "      <td>Yes</td>\n",
       "    </tr>\n",
       "    <tr>\n",
       "      <th>2</th>\n",
       "      <td>3</td>\n",
       "      <td>832</td>\n",
       "      <td>Tech</td>\n",
       "      <td>None</td>\n",
       "      <td>None</td>\n",
       "      <td>None</td>\n",
       "      <td>Yes</td>\n",
       "      <td>Yes</td>\n",
       "    </tr>\n",
       "    <tr>\n",
       "      <th>3</th>\n",
       "      <td>4</td>\n",
       "      <td>None</td>\n",
       "      <td>No Recidivism</td>\n",
       "      <td>None</td>\n",
       "      <td>None</td>\n",
       "      <td>None</td>\n",
       "      <td>Yes</td>\n",
       "      <td>No</td>\n",
       "    </tr>\n",
       "    <tr>\n",
       "      <th>4</th>\n",
       "      <td>5</td>\n",
       "      <td>116</td>\n",
       "      <td>Tech</td>\n",
       "      <td>None</td>\n",
       "      <td>None</td>\n",
       "      <td>None</td>\n",
       "      <td>No</td>\n",
       "      <td>Yes</td>\n",
       "    </tr>\n",
       "  </tbody>\n",
       "</table>\n",
       "</div>"
      ],
      "text/plain": [
       "   ID Days to Return Recidivism Type New Offense Classification  \\\n",
       "0   1            433             New                   C Felony   \n",
       "1   2            453            Tech                       None   \n",
       "2   3            832            Tech                       None   \n",
       "3   4           None   No Recidivism                       None   \n",
       "4   5            116            Tech                       None   \n",
       "\n",
       "  New Offense Type New Offense Sub Type Target Population Return to Prison  \n",
       "0             Drug          Trafficking               Yes              Yes  \n",
       "1             None                 None                No              Yes  \n",
       "2             None                 None               Yes              Yes  \n",
       "3             None                 None               Yes               No  \n",
       "4             None                 None                No              Yes  "
      ]
     },
     "execution_count": 8,
     "metadata": {},
     "output_type": "execute_result"
    }
   ],
   "source": [
    "# Viewing recidivism_df\n",
    "recidivism_df.head()"
   ]
  },
  {
   "cell_type": "markdown",
   "id": "fae7052d",
   "metadata": {},
   "source": [
    "### Combining Tables to One Dataframe for ML"
   ]
  },
  {
   "cell_type": "markdown",
   "id": "fc53fe4e",
   "metadata": {},
   "source": [
    "Removed columns related to New Offense Commited (Everything in RECIDIVISM table except Return to Prison. Offense Subtype was also not included, as it would have created far too many features for the Machine Learning model. Prisoner ID was also dropped because it is a unique column."
   ]
  },
  {
   "cell_type": "code",
   "execution_count": 19,
   "id": "10a151e5",
   "metadata": {},
   "outputs": [],
   "source": [
    "df = pd.read_sql_query(\"\"\"SELECT p.\"Year Released\", p.\"Race\", p.\"Age\", o.\"Offense Classification\", o.\"Offense Type\", p.\"Release Type\", r.\"Return to Prison\" from PRISONERS p INNER JOIN OFFENSE o on p.\"ID\" = o.\"ID\" INNER JOIN RECIDIVISM r on p.\"ID\" = r.\"ID\" ;\"\"\", con = engine)"
   ]
  },
  {
   "cell_type": "code",
   "execution_count": 21,
   "id": "5a20d631",
   "metadata": {},
   "outputs": [
    {
     "data": {
      "text/html": [
       "<div>\n",
       "<style scoped>\n",
       "    .dataframe tbody tr th:only-of-type {\n",
       "        vertical-align: middle;\n",
       "    }\n",
       "\n",
       "    .dataframe tbody tr th {\n",
       "        vertical-align: top;\n",
       "    }\n",
       "\n",
       "    .dataframe thead th {\n",
       "        text-align: right;\n",
       "    }\n",
       "</style>\n",
       "<table border=\"1\" class=\"dataframe\">\n",
       "  <thead>\n",
       "    <tr style=\"text-align: right;\">\n",
       "      <th></th>\n",
       "      <th>Year Released</th>\n",
       "      <th>Race</th>\n",
       "      <th>Age</th>\n",
       "      <th>Offense Classification</th>\n",
       "      <th>Offense Type</th>\n",
       "      <th>Release Type</th>\n",
       "      <th>Return to Prison</th>\n",
       "    </tr>\n",
       "  </thead>\n",
       "  <tbody>\n",
       "    <tr>\n",
       "      <th>0</th>\n",
       "      <td>2013</td>\n",
       "      <td>White</td>\n",
       "      <td>45-54</td>\n",
       "      <td>Felony - Enhancement to Original Penalty</td>\n",
       "      <td>Other</td>\n",
       "      <td>Paroled to Detainer</td>\n",
       "      <td>Yes</td>\n",
       "    </tr>\n",
       "    <tr>\n",
       "      <th>1</th>\n",
       "      <td>2013</td>\n",
       "      <td>White</td>\n",
       "      <td>Under 25</td>\n",
       "      <td>D Felony</td>\n",
       "      <td>Drug</td>\n",
       "      <td>Paroled to Detainer</td>\n",
       "      <td>No</td>\n",
       "    </tr>\n",
       "    <tr>\n",
       "      <th>2</th>\n",
       "      <td>2013</td>\n",
       "      <td>White</td>\n",
       "      <td>25-34</td>\n",
       "      <td>C Felony</td>\n",
       "      <td>Violent</td>\n",
       "      <td>Paroled to Detainer</td>\n",
       "      <td>No</td>\n",
       "    </tr>\n",
       "    <tr>\n",
       "      <th>3</th>\n",
       "      <td>2013</td>\n",
       "      <td>White</td>\n",
       "      <td>25-34</td>\n",
       "      <td>D Felony</td>\n",
       "      <td>Property</td>\n",
       "      <td>Paroled to Detainer</td>\n",
       "      <td>No</td>\n",
       "    </tr>\n",
       "    <tr>\n",
       "      <th>4</th>\n",
       "      <td>2013</td>\n",
       "      <td>White</td>\n",
       "      <td>35-44</td>\n",
       "      <td>Aggravated Misdemeanor</td>\n",
       "      <td>Public Order</td>\n",
       "      <td>Paroled to Detainer</td>\n",
       "      <td>Yes</td>\n",
       "    </tr>\n",
       "  </tbody>\n",
       "</table>\n",
       "</div>"
      ],
      "text/plain": [
       "   Year Released   Race       Age                    Offense Classification  \\\n",
       "0           2013  White     45-54  Felony - Enhancement to Original Penalty   \n",
       "1           2013  White  Under 25                                  D Felony   \n",
       "2           2013  White     25-34                                  C Felony   \n",
       "3           2013  White     25-34                                  D Felony   \n",
       "4           2013  White     35-44                    Aggravated Misdemeanor   \n",
       "\n",
       "   Offense Type         Release Type Return to Prison  \n",
       "0         Other  Paroled to Detainer              Yes  \n",
       "1          Drug  Paroled to Detainer               No  \n",
       "2       Violent  Paroled to Detainer               No  \n",
       "3      Property  Paroled to Detainer               No  \n",
       "4  Public Order  Paroled to Detainer              Yes  "
      ]
     },
     "execution_count": 21,
     "metadata": {},
     "output_type": "execute_result"
    }
   ],
   "source": [
    "df.head()"
   ]
  },
  {
   "cell_type": "markdown",
   "id": "692dd5ea",
   "metadata": {},
   "source": [
    "## Exploring Dataset"
   ]
  },
  {
   "cell_type": "code",
   "execution_count": 22,
   "id": "deef988d",
   "metadata": {},
   "outputs": [
    {
     "data": {
      "text/plain": [
       "Year Released              int64\n",
       "Race                      object\n",
       "Age                       object\n",
       "Offense Classification    object\n",
       "Offense Type              object\n",
       "Release Type              object\n",
       "Return to Prison          object\n",
       "dtype: object"
      ]
     },
     "execution_count": 22,
     "metadata": {},
     "output_type": "execute_result"
    }
   ],
   "source": [
    "# Data Types of All Variables in DataFrame\n",
    "df.dtypes"
   ]
  },
  {
   "cell_type": "code",
   "execution_count": 23,
   "id": "7ddf3701",
   "metadata": {},
   "outputs": [
    {
     "data": {
      "text/plain": [
       "No     17339\n",
       "Yes     8681\n",
       "Name: Return to Prison, dtype: int64"
      ]
     },
     "execution_count": 23,
     "metadata": {},
     "output_type": "execute_result"
    }
   ],
   "source": [
    "df['Return to Prison'].value_counts()"
   ]
  },
  {
   "cell_type": "markdown",
   "id": "dd2a70dc",
   "metadata": {},
   "source": [
    "## Data Preprocessing"
   ]
  },
  {
   "cell_type": "markdown",
   "id": "50b62db2",
   "metadata": {},
   "source": [
    "From Segment_2_Michael/Recidivism_Cleaning.ipynb"
   ]
  },
  {
   "cell_type": "code",
   "execution_count": 27,
   "id": "b19313b3",
   "metadata": {},
   "outputs": [
    {
     "data": {
      "text/html": [
       "<div>\n",
       "<style scoped>\n",
       "    .dataframe tbody tr th:only-of-type {\n",
       "        vertical-align: middle;\n",
       "    }\n",
       "\n",
       "    .dataframe tbody tr th {\n",
       "        vertical-align: top;\n",
       "    }\n",
       "\n",
       "    .dataframe thead th {\n",
       "        text-align: right;\n",
       "    }\n",
       "</style>\n",
       "<table border=\"1\" class=\"dataframe\">\n",
       "  <thead>\n",
       "    <tr style=\"text-align: right;\">\n",
       "      <th></th>\n",
       "      <th>Race_Asian</th>\n",
       "      <th>Race_Black</th>\n",
       "      <th>Race_Hispanic</th>\n",
       "      <th>Race_Native</th>\n",
       "      <th>Race_White</th>\n",
       "      <th>Age_25-34</th>\n",
       "      <th>Age_35-44</th>\n",
       "      <th>Age_45-54</th>\n",
       "      <th>Age_55 and Older</th>\n",
       "      <th>Age_Under 25</th>\n",
       "      <th>...</th>\n",
       "      <th>Offense Classification_Sexual Predator Community Supervision</th>\n",
       "      <th>Offense Classification_Simple Misdemeanor</th>\n",
       "      <th>Offense Classification_Special Sentence 2005</th>\n",
       "      <th>Offense Type_Drug</th>\n",
       "      <th>Offense Type_Other</th>\n",
       "      <th>Offense Type_Property</th>\n",
       "      <th>Offense Type_Public Order</th>\n",
       "      <th>Offense Type_Violent</th>\n",
       "      <th>Release Type_Others</th>\n",
       "      <th>Release Type_Paroled to Detainer</th>\n",
       "    </tr>\n",
       "  </thead>\n",
       "  <tbody>\n",
       "    <tr>\n",
       "      <th>0</th>\n",
       "      <td>0</td>\n",
       "      <td>0</td>\n",
       "      <td>0</td>\n",
       "      <td>0</td>\n",
       "      <td>1</td>\n",
       "      <td>0</td>\n",
       "      <td>0</td>\n",
       "      <td>1</td>\n",
       "      <td>0</td>\n",
       "      <td>0</td>\n",
       "      <td>...</td>\n",
       "      <td>0</td>\n",
       "      <td>0</td>\n",
       "      <td>0</td>\n",
       "      <td>0</td>\n",
       "      <td>1</td>\n",
       "      <td>0</td>\n",
       "      <td>0</td>\n",
       "      <td>0</td>\n",
       "      <td>0</td>\n",
       "      <td>1</td>\n",
       "    </tr>\n",
       "    <tr>\n",
       "      <th>1</th>\n",
       "      <td>0</td>\n",
       "      <td>0</td>\n",
       "      <td>0</td>\n",
       "      <td>0</td>\n",
       "      <td>1</td>\n",
       "      <td>0</td>\n",
       "      <td>0</td>\n",
       "      <td>0</td>\n",
       "      <td>0</td>\n",
       "      <td>1</td>\n",
       "      <td>...</td>\n",
       "      <td>0</td>\n",
       "      <td>0</td>\n",
       "      <td>0</td>\n",
       "      <td>1</td>\n",
       "      <td>0</td>\n",
       "      <td>0</td>\n",
       "      <td>0</td>\n",
       "      <td>0</td>\n",
       "      <td>0</td>\n",
       "      <td>1</td>\n",
       "    </tr>\n",
       "    <tr>\n",
       "      <th>2</th>\n",
       "      <td>0</td>\n",
       "      <td>0</td>\n",
       "      <td>0</td>\n",
       "      <td>0</td>\n",
       "      <td>1</td>\n",
       "      <td>1</td>\n",
       "      <td>0</td>\n",
       "      <td>0</td>\n",
       "      <td>0</td>\n",
       "      <td>0</td>\n",
       "      <td>...</td>\n",
       "      <td>0</td>\n",
       "      <td>0</td>\n",
       "      <td>0</td>\n",
       "      <td>0</td>\n",
       "      <td>0</td>\n",
       "      <td>0</td>\n",
       "      <td>0</td>\n",
       "      <td>1</td>\n",
       "      <td>0</td>\n",
       "      <td>1</td>\n",
       "    </tr>\n",
       "    <tr>\n",
       "      <th>3</th>\n",
       "      <td>0</td>\n",
       "      <td>0</td>\n",
       "      <td>0</td>\n",
       "      <td>0</td>\n",
       "      <td>1</td>\n",
       "      <td>1</td>\n",
       "      <td>0</td>\n",
       "      <td>0</td>\n",
       "      <td>0</td>\n",
       "      <td>0</td>\n",
       "      <td>...</td>\n",
       "      <td>0</td>\n",
       "      <td>0</td>\n",
       "      <td>0</td>\n",
       "      <td>0</td>\n",
       "      <td>0</td>\n",
       "      <td>1</td>\n",
       "      <td>0</td>\n",
       "      <td>0</td>\n",
       "      <td>0</td>\n",
       "      <td>1</td>\n",
       "    </tr>\n",
       "    <tr>\n",
       "      <th>4</th>\n",
       "      <td>0</td>\n",
       "      <td>0</td>\n",
       "      <td>0</td>\n",
       "      <td>0</td>\n",
       "      <td>1</td>\n",
       "      <td>0</td>\n",
       "      <td>1</td>\n",
       "      <td>0</td>\n",
       "      <td>0</td>\n",
       "      <td>0</td>\n",
       "      <td>...</td>\n",
       "      <td>0</td>\n",
       "      <td>0</td>\n",
       "      <td>0</td>\n",
       "      <td>0</td>\n",
       "      <td>0</td>\n",
       "      <td>0</td>\n",
       "      <td>1</td>\n",
       "      <td>0</td>\n",
       "      <td>0</td>\n",
       "      <td>1</td>\n",
       "    </tr>\n",
       "  </tbody>\n",
       "</table>\n",
       "<p>5 rows × 32 columns</p>\n",
       "</div>"
      ],
      "text/plain": [
       "   Race_Asian  Race_Black  Race_Hispanic  Race_Native  Race_White  Age_25-34  \\\n",
       "0           0           0              0            0           1          0   \n",
       "1           0           0              0            0           1          0   \n",
       "2           0           0              0            0           1          1   \n",
       "3           0           0              0            0           1          1   \n",
       "4           0           0              0            0           1          0   \n",
       "\n",
       "   Age_35-44  Age_45-54  Age_55 and Older  Age_Under 25  ...  \\\n",
       "0          0          1                 0             0  ...   \n",
       "1          0          0                 0             1  ...   \n",
       "2          0          0                 0             0  ...   \n",
       "3          0          0                 0             0  ...   \n",
       "4          1          0                 0             0  ...   \n",
       "\n",
       "   Offense Classification_Sexual Predator Community Supervision  \\\n",
       "0                                                  0              \n",
       "1                                                  0              \n",
       "2                                                  0              \n",
       "3                                                  0              \n",
       "4                                                  0              \n",
       "\n",
       "   Offense Classification_Simple Misdemeanor  \\\n",
       "0                                          0   \n",
       "1                                          0   \n",
       "2                                          0   \n",
       "3                                          0   \n",
       "4                                          0   \n",
       "\n",
       "   Offense Classification_Special Sentence 2005  Offense Type_Drug  \\\n",
       "0                                             0                  0   \n",
       "1                                             0                  1   \n",
       "2                                             0                  0   \n",
       "3                                             0                  0   \n",
       "4                                             0                  0   \n",
       "\n",
       "   Offense Type_Other  Offense Type_Property  Offense Type_Public Order  \\\n",
       "0                   1                      0                          0   \n",
       "1                   0                      0                          0   \n",
       "2                   0                      0                          0   \n",
       "3                   0                      1                          0   \n",
       "4                   0                      0                          1   \n",
       "\n",
       "   Offense Type_Violent  Release Type_Others  Release Type_Paroled to Detainer  \n",
       "0                     0                    0                                 1  \n",
       "1                     0                    0                                 1  \n",
       "2                     1                    0                                 1  \n",
       "3                     0                    0                                 1  \n",
       "4                     0                    0                                 1  \n",
       "\n",
       "[5 rows x 32 columns]"
      ]
     },
     "execution_count": 27,
     "metadata": {},
     "output_type": "execute_result"
    }
   ],
   "source": [
    "# Replacing categorical variables with dummies\n",
    "cleaned_df = df.copy()\n",
    "dummies_df = pd.get_dummies(cleaned_df.drop(columns=[\"Year Released\", \"Return to Prison\"], axis=1))\n",
    "dummies_df.head()"
   ]
  },
  {
   "cell_type": "code",
   "execution_count": null,
   "id": "2ae04258",
   "metadata": {},
   "outputs": [],
   "source": []
  },
  {
   "cell_type": "code",
   "execution_count": null,
   "id": "715f9e3a",
   "metadata": {},
   "outputs": [],
   "source": []
  },
  {
   "cell_type": "code",
   "execution_count": null,
   "id": "5dc2d9b7",
   "metadata": {},
   "outputs": [],
   "source": []
  },
  {
   "cell_type": "markdown",
   "id": "78d48140",
   "metadata": {},
   "source": [
    "## Machine Learning"
   ]
  },
  {
   "cell_type": "markdown",
   "id": "3cc91492",
   "metadata": {},
   "source": [
    "### Setting Target and Feature Variables"
   ]
  },
  {
   "cell_type": "code",
   "execution_count": null,
   "id": "28490e05",
   "metadata": {},
   "outputs": [],
   "source": [
    "# Setting 'Recidivism' as the target variable for the machine learning algorithm\n",
    "y = prisoner_df[\"Recidivism\"].values.reshape(-1, 1)"
   ]
  },
  {
   "cell_type": "code",
   "execution_count": null,
   "id": "bbd5bfe2",
   "metadata": {},
   "outputs": [],
   "source": [
    "# Features\n",
    "X = prisoner_df.copy()\n",
    "X = X.drop(\"Recidivism\", axis = 1)\n",
    "X.head()"
   ]
  },
  {
   "cell_type": "markdown",
   "id": "c52ec711",
   "metadata": {},
   "source": [
    "### Splitting Training and Testing Data"
   ]
  },
  {
   "cell_type": "code",
   "execution_count": null,
   "id": "f6945176",
   "metadata": {},
   "outputs": [],
   "source": [
    "# Splitting into Train and Test sets\n",
    "X_train, X_test, y_train, y_test = train_test_split(X, y, random_state=21, test_size=0.2)"
   ]
  },
  {
   "cell_type": "code",
   "execution_count": null,
   "id": "92c1ff0f",
   "metadata": {},
   "outputs": [],
   "source": [
    "print(X_train.shape)\n",
    "print(X_test.shape)\n",
    "print(y_train.shape)\n",
    "print(y_test.shape)"
   ]
  },
  {
   "cell_type": "code",
   "execution_count": null,
   "id": "9593af66",
   "metadata": {},
   "outputs": [],
   "source": [
    "# Creating StandardScaler instance\n",
    "scaler = StandardScaler()"
   ]
  },
  {
   "cell_type": "code",
   "execution_count": null,
   "id": "65171210",
   "metadata": {},
   "outputs": [],
   "source": [
    "# Fitting Standard Scaller\n",
    "X_scaler = scaler.fit(X_train)"
   ]
  },
  {
   "cell_type": "code",
   "execution_count": null,
   "id": "91ba49c4",
   "metadata": {},
   "outputs": [],
   "source": [
    "# Scaling data\n",
    "X_train_scaled = X_scaler.transform(X_train)\n",
    "X_test_scaled = X_scaler.transform(X_test)"
   ]
  }
 ],
 "metadata": {
  "kernelspec": {
   "display_name": "mlnev",
   "language": "python",
   "name": "mlnev"
  },
  "language_info": {
   "codemirror_mode": {
    "name": "ipython",
    "version": 3
   },
   "file_extension": ".py",
   "mimetype": "text/x-python",
   "name": "python",
   "nbconvert_exporter": "python",
   "pygments_lexer": "ipython3",
   "version": "3.7.13"
  }
 },
 "nbformat": 4,
 "nbformat_minor": 5
}
