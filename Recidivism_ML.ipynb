{
 "cells": [
  {
   "cell_type": "markdown",
   "id": "82e8e546",
   "metadata": {},
   "source": [
    "# Recidivism Prediction"
   ]
  },
  {
   "cell_type": "markdown",
   "id": "60e181ec",
   "metadata": {},
   "source": [
    "## Importing Libraries and Dataset"
   ]
  },
  {
   "cell_type": "code",
   "execution_count": 1,
   "id": "a9c538c2",
   "metadata": {},
   "outputs": [],
   "source": [
    "# Import Libraries\n",
    "from pathlib import Path\n",
    "import pandas as pd\n",
    "from sklearn.model_selection import train_test_split\n",
    "from sklearn.linear_model import LogisticRegression\n",
    "from sqlalchemy import create_engine\n",
    "import pymysql\n",
    "import psycopg2 as pg"
   ]
  },
  {
   "cell_type": "code",
   "execution_count": 2,
   "id": "25bbd357",
   "metadata": {},
   "outputs": [],
   "source": [
    "# Creating sql connection and Engine\n",
    "engine = pg.connect(\"host='database-1.clf82frcjuur.ca-central-1.rds.amazonaws.com' dbname='postgres' user='postgres' password='Database_1' port='5432'\")"
   ]
  },
  {
   "cell_type": "code",
   "execution_count": 3,
   "id": "94dd9cdf",
   "metadata": {},
   "outputs": [],
   "source": [
    "# Reading Table to Pandas DataFrame\n",
    "prisoner_df = pd.read_sql_query('SELECT * FROM PRISONERS', con = engine)"
   ]
  },
  {
   "cell_type": "code",
   "execution_count": 4,
   "id": "5cc5816f",
   "metadata": {},
   "outputs": [
    {
     "data": {
      "text/html": [
       "<div>\n",
       "<style scoped>\n",
       "    .dataframe tbody tr th:only-of-type {\n",
       "        vertical-align: middle;\n",
       "    }\n",
       "\n",
       "    .dataframe tbody tr th {\n",
       "        vertical-align: top;\n",
       "    }\n",
       "\n",
       "    .dataframe thead th {\n",
       "        text-align: right;\n",
       "    }\n",
       "</style>\n",
       "<table border=\"1\" class=\"dataframe\">\n",
       "  <thead>\n",
       "    <tr style=\"text-align: right;\">\n",
       "      <th></th>\n",
       "      <th>Fiscal Year Released</th>\n",
       "      <th>Recidivism Reporting Year</th>\n",
       "      <th>Main Supervising District</th>\n",
       "      <th>Release Type</th>\n",
       "      <th>Race - Ethnicity</th>\n",
       "      <th>Age At Release</th>\n",
       "      <th>Sex</th>\n",
       "      <th>Offense Classification</th>\n",
       "      <th>Offense Type</th>\n",
       "      <th>Offense Subtype</th>\n",
       "      <th>Return to Prison</th>\n",
       "      <th>Days to Return</th>\n",
       "      <th>Recidivism Type</th>\n",
       "      <th>New Offense Classification</th>\n",
       "      <th>New Offense Type</th>\n",
       "      <th>New Offense Sub Type</th>\n",
       "      <th>Target Population</th>\n",
       "    </tr>\n",
       "  </thead>\n",
       "  <tbody>\n",
       "    <tr>\n",
       "      <th>0</th>\n",
       "      <td>2010</td>\n",
       "      <td>2013</td>\n",
       "      <td>7JD</td>\n",
       "      <td>Parole</td>\n",
       "      <td>Black - Non-Hispanic</td>\n",
       "      <td>25-34</td>\n",
       "      <td>Male</td>\n",
       "      <td>C Felony</td>\n",
       "      <td>Violent</td>\n",
       "      <td>Robbery</td>\n",
       "      <td>Yes</td>\n",
       "      <td>433</td>\n",
       "      <td>New</td>\n",
       "      <td>C Felony</td>\n",
       "      <td>Drug</td>\n",
       "      <td>Trafficking</td>\n",
       "      <td>Yes</td>\n",
       "    </tr>\n",
       "    <tr>\n",
       "      <th>1</th>\n",
       "      <td>2010</td>\n",
       "      <td>2013</td>\n",
       "      <td>None</td>\n",
       "      <td>Discharged – End of Sentence</td>\n",
       "      <td>White - Non-Hispanic</td>\n",
       "      <td>25-34</td>\n",
       "      <td>Male</td>\n",
       "      <td>D Felony</td>\n",
       "      <td>Property</td>\n",
       "      <td>Theft</td>\n",
       "      <td>Yes</td>\n",
       "      <td>453</td>\n",
       "      <td>Tech</td>\n",
       "      <td>None</td>\n",
       "      <td>None</td>\n",
       "      <td>None</td>\n",
       "      <td>No</td>\n",
       "    </tr>\n",
       "    <tr>\n",
       "      <th>2</th>\n",
       "      <td>2010</td>\n",
       "      <td>2013</td>\n",
       "      <td>5JD</td>\n",
       "      <td>Parole</td>\n",
       "      <td>White - Non-Hispanic</td>\n",
       "      <td>35-44</td>\n",
       "      <td>Male</td>\n",
       "      <td>B Felony</td>\n",
       "      <td>Drug</td>\n",
       "      <td>Trafficking</td>\n",
       "      <td>Yes</td>\n",
       "      <td>832</td>\n",
       "      <td>Tech</td>\n",
       "      <td>None</td>\n",
       "      <td>None</td>\n",
       "      <td>None</td>\n",
       "      <td>Yes</td>\n",
       "    </tr>\n",
       "    <tr>\n",
       "      <th>3</th>\n",
       "      <td>2010</td>\n",
       "      <td>2013</td>\n",
       "      <td>6JD</td>\n",
       "      <td>Parole</td>\n",
       "      <td>White - Non-Hispanic</td>\n",
       "      <td>25-34</td>\n",
       "      <td>Male</td>\n",
       "      <td>B Felony</td>\n",
       "      <td>Other</td>\n",
       "      <td>Other Criminal</td>\n",
       "      <td>No</td>\n",
       "      <td>None</td>\n",
       "      <td>No Recidivism</td>\n",
       "      <td>None</td>\n",
       "      <td>None</td>\n",
       "      <td>None</td>\n",
       "      <td>Yes</td>\n",
       "    </tr>\n",
       "    <tr>\n",
       "      <th>4</th>\n",
       "      <td>2010</td>\n",
       "      <td>2013</td>\n",
       "      <td>None</td>\n",
       "      <td>Discharged – End of Sentence</td>\n",
       "      <td>Black - Non-Hispanic</td>\n",
       "      <td>35-44</td>\n",
       "      <td>Male</td>\n",
       "      <td>D Felony</td>\n",
       "      <td>Violent</td>\n",
       "      <td>Assault</td>\n",
       "      <td>Yes</td>\n",
       "      <td>116</td>\n",
       "      <td>Tech</td>\n",
       "      <td>None</td>\n",
       "      <td>None</td>\n",
       "      <td>None</td>\n",
       "      <td>No</td>\n",
       "    </tr>\n",
       "  </tbody>\n",
       "</table>\n",
       "</div>"
      ],
      "text/plain": [
       "   Fiscal Year Released  Recidivism Reporting Year Main Supervising District  \\\n",
       "0                  2010                       2013                       7JD   \n",
       "1                  2010                       2013                      None   \n",
       "2                  2010                       2013                       5JD   \n",
       "3                  2010                       2013                       6JD   \n",
       "4                  2010                       2013                      None   \n",
       "\n",
       "                   Release Type      Race - Ethnicity Age At Release    Sex  \\\n",
       "0                        Parole  Black - Non-Hispanic           25-34  Male   \n",
       "1  Discharged – End of Sentence  White - Non-Hispanic           25-34  Male   \n",
       "2                        Parole  White - Non-Hispanic           35-44  Male   \n",
       "3                        Parole  White - Non-Hispanic           25-34  Male   \n",
       "4  Discharged – End of Sentence  Black - Non-Hispanic           35-44  Male   \n",
       "\n",
       "  Offense Classification Offense Type Offense Subtype Return to Prison  \\\n",
       "0               C Felony      Violent         Robbery              Yes   \n",
       "1               D Felony     Property           Theft              Yes   \n",
       "2               B Felony         Drug     Trafficking              Yes   \n",
       "3               B Felony        Other  Other Criminal               No   \n",
       "4               D Felony      Violent         Assault              Yes   \n",
       "\n",
       "  Days to Return Recidivism Type New Offense Classification New Offense Type  \\\n",
       "0            433             New                   C Felony             Drug   \n",
       "1            453            Tech                       None             None   \n",
       "2            832            Tech                       None             None   \n",
       "3           None   No Recidivism                       None             None   \n",
       "4            116            Tech                       None             None   \n",
       "\n",
       "  New Offense Sub Type Target Population  \n",
       "0          Trafficking               Yes  \n",
       "1                 None                No  \n",
       "2                 None               Yes  \n",
       "3                 None               Yes  \n",
       "4                 None                No  "
      ]
     },
     "execution_count": 4,
     "metadata": {},
     "output_type": "execute_result"
    }
   ],
   "source": [
    "# Top 5 Rows of DataFrame\n",
    "prisoner_df.head()"
   ]
  },
  {
   "cell_type": "markdown",
   "id": "692dd5ea",
   "metadata": {},
   "source": [
    "## Exploring Dataset"
   ]
  },
  {
   "cell_type": "code",
   "execution_count": 5,
   "id": "deef988d",
   "metadata": {},
   "outputs": [
    {
     "data": {
      "text/plain": [
       "Fiscal Year Released           int64\n",
       "Recidivism Reporting Year      int64\n",
       "Main Supervising District     object\n",
       "Release Type                  object\n",
       "Race - Ethnicity              object\n",
       "Age At Release                object\n",
       "Sex                           object\n",
       "Offense Classification        object\n",
       "Offense Type                  object\n",
       "Offense Subtype               object\n",
       "Return to Prison              object\n",
       "Days to Return                object\n",
       "Recidivism Type               object\n",
       "New Offense Classification    object\n",
       "New Offense Type              object\n",
       "New Offense Sub Type          object\n",
       "Target Population             object\n",
       "dtype: object"
      ]
     },
     "execution_count": 5,
     "metadata": {},
     "output_type": "execute_result"
    }
   ],
   "source": [
    "# Data Types of All Variables in DataFrame\n",
    "prisoner_df.dtypes"
   ]
  },
  {
   "cell_type": "code",
   "execution_count": 6,
   "id": "7ddf3701",
   "metadata": {},
   "outputs": [
    {
     "data": {
      "text/plain": [
       "No     17339\n",
       "Yes     8681\n",
       "Name: Return to Prison, dtype: int64"
      ]
     },
     "execution_count": 6,
     "metadata": {},
     "output_type": "execute_result"
    }
   ],
   "source": [
    "prisoner_df['Return to Prison'].value_counts()"
   ]
  },
  {
   "cell_type": "markdown",
   "id": "78d48140",
   "metadata": {},
   "source": [
    "## Machine Learning"
   ]
  },
  {
   "cell_type": "code",
   "execution_count": 7,
   "id": "28490e05",
   "metadata": {},
   "outputs": [
    {
     "data": {
      "text/plain": [
       "array([['Yes'],\n",
       "       ['Yes'],\n",
       "       ['Yes'],\n",
       "       ...,\n",
       "       ['No'],\n",
       "       ['No'],\n",
       "       ['Yes']], dtype=object)"
      ]
     },
     "execution_count": 7,
     "metadata": {},
     "output_type": "execute_result"
    }
   ],
   "source": [
    "# Setting 'Return to Prison' as the target variable for the machine learning algorithm\n",
    "y = prisoner_df[\"Return to Prison\"].values.reshape(-1, 1)\n",
    "\n",
    "y"
   ]
  }
 ],
 "metadata": {
  "kernelspec": {
   "display_name": "mlnev",
   "language": "python",
   "name": "mlnev"
  },
  "language_info": {
   "codemirror_mode": {
    "name": "ipython",
    "version": 3
   },
   "file_extension": ".py",
   "mimetype": "text/x-python",
   "name": "python",
   "nbconvert_exporter": "python",
   "pygments_lexer": "ipython3",
   "version": "3.7.13"
  }
 },
 "nbformat": 4,
 "nbformat_minor": 5
}
