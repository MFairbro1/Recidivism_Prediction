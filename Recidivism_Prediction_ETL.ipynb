{
  "nbformat": 4,
  "nbformat_minor": 0,
  "metadata": {
    "colab": {
      "provenance": []
    },
    "kernelspec": {
      "name": "python3",
      "display_name": "Python 3"
    },
    "language_info": {
      "name": "python"
    }
  },
  "cells": [
    {
      "cell_type": "code",
      "execution_count": 1,
      "metadata": {
        "id": "pVyE_Otu7Ff2"
      },
      "outputs": [],
      "source": [
        "# Dependencies\n",
        "import pandas as pd"
      ]
    },
    {
      "cell_type": "code",
      "source": [
        "import os\n",
        "# Find the latest version of spark 3.0 from http://www.apache.org/dist/spark/ and enter as the spark version\n",
        "# For example:\n",
        "# spark_version = 'spark-3.0.3'\n",
        "spark_version = 'spark-3.1.3'\n",
        "os.environ['SPARK_VERSION']=spark_version\n",
        "\n",
        "# Install Spark and Java\n",
        "!apt-get update\n",
        "!apt-get install openjdk-11-jdk-headless -qq > /dev/null\n",
        "!wget -q http://www.apache.org/dist/spark/$SPARK_VERSION/$SPARK_VERSION-bin-hadoop2.7.tgz\n",
        "!tar xf $SPARK_VERSION-bin-hadoop2.7.tgz\n",
        "!pip install -q findspark\n",
        "\n",
        "# Set Environment Variables\n",
        "import os\n",
        "os.environ[\"JAVA_HOME\"] = \"/usr/lib/jvm/java-11-openjdk-amd64\"\n",
        "os.environ[\"SPARK_HOME\"] = f\"/content/{spark_version}-bin-hadoop2.7\"\n",
        "\n",
        "# Start a SparkSession\n",
        "import findspark\n",
        "findspark.init()"
      ],
      "metadata": {
        "colab": {
          "base_uri": "https://localhost:8080/"
        },
        "id": "wk-9sy-L7Trk",
        "outputId": "7dacac7b-6b36-4baf-9e0c-c439ae731e4c"
      },
      "execution_count": 2,
      "outputs": [
        {
          "output_type": "stream",
          "name": "stdout",
          "text": [
            "Ign:1 https://developer.download.nvidia.com/compute/machine-learning/repos/ubuntu1804/x86_64  InRelease\n",
            "Get:2 https://cloud.r-project.org/bin/linux/ubuntu bionic-cran40/ InRelease [3,626 B]\n",
            "Get:3 https://developer.download.nvidia.com/compute/cuda/repos/ubuntu1804/x86_64  InRelease [1,581 B]\n",
            "Hit:4 https://developer.download.nvidia.com/compute/machine-learning/repos/ubuntu1804/x86_64  Release\n",
            "Hit:5 http://archive.ubuntu.com/ubuntu bionic InRelease\n",
            "Get:6 http://security.ubuntu.com/ubuntu bionic-security InRelease [88.7 kB]\n",
            "Hit:7 http://ppa.launchpad.net/c2d4u.team/c2d4u4.0+/ubuntu bionic InRelease\n",
            "Get:8 http://archive.ubuntu.com/ubuntu bionic-updates InRelease [88.7 kB]\n",
            "Get:9 http://archive.ubuntu.com/ubuntu bionic-backports InRelease [83.3 kB]\n",
            "Hit:10 http://ppa.launchpad.net/cran/libgit2/ubuntu bionic InRelease\n",
            "Get:11 https://developer.download.nvidia.com/compute/cuda/repos/ubuntu1804/x86_64  Packages [913 kB]\n",
            "Hit:12 http://ppa.launchpad.net/deadsnakes/ppa/ubuntu bionic InRelease\n",
            "Get:14 http://ppa.launchpad.net/graphics-drivers/ppa/ubuntu bionic InRelease [21.3 kB]\n",
            "Get:15 http://archive.ubuntu.com/ubuntu bionic-updates/universe amd64 Packages [2,323 kB]\n",
            "Get:16 http://archive.ubuntu.com/ubuntu bionic-updates/main amd64 Packages [3,422 kB]\n",
            "Get:17 http://security.ubuntu.com/ubuntu bionic-security/universe amd64 Packages [1,546 kB]\n",
            "Get:18 http://ppa.launchpad.net/graphics-drivers/ppa/ubuntu bionic/main amd64 Packages [48.3 kB]\n",
            "Get:19 http://security.ubuntu.com/ubuntu bionic-security/main amd64 Packages [2,990 kB]\n",
            "Fetched 11.5 MB in 4s (2,950 kB/s)\n",
            "Reading package lists... Done\n"
          ]
        }
      ]
    },
    {
      "cell_type": "code",
      "source": [
        "# Download the Postgres driver that will allow Spark to interact with Postgres.\n",
        "!wget https://jdbc.postgresql.org/download/postgresql-42.2.16.jar"
      ],
      "metadata": {
        "colab": {
          "base_uri": "https://localhost:8080/"
        },
        "id": "1CePy7h_Fdkc",
        "outputId": "285f47d2-4419-4188-b44d-d6b16d541414"
      },
      "execution_count": 3,
      "outputs": [
        {
          "output_type": "stream",
          "name": "stdout",
          "text": [
            "--2022-09-30 01:50:10--  https://jdbc.postgresql.org/download/postgresql-42.2.16.jar\n",
            "Resolving jdbc.postgresql.org (jdbc.postgresql.org)... 72.32.157.228, 2001:4800:3e1:1::228\n",
            "Connecting to jdbc.postgresql.org (jdbc.postgresql.org)|72.32.157.228|:443... connected.\n",
            "HTTP request sent, awaiting response... 200 OK\n",
            "Length: 1002883 (979K) [application/java-archive]\n",
            "Saving to: ‘postgresql-42.2.16.jar’\n",
            "\n",
            "postgresql-42.2.16. 100%[===================>] 979.38K  4.90MB/s    in 0.2s    \n",
            "\n",
            "2022-09-30 01:50:11 (4.90 MB/s) - ‘postgresql-42.2.16.jar’ saved [1002883/1002883]\n",
            "\n"
          ]
        }
      ]
    },
    {
      "cell_type": "code",
      "source": [
        "from pyspark.sql import SparkSession\n",
        "spark = SparkSession.builder.appName(\"Recidivism_Prediction_Cloud\").config(\"spark.driver.extraClassPath\",\"/content/postgresql-42.2.16.jar\").getOrCreate()"
      ],
      "metadata": {
        "id": "Jxwe7cpVFePY"
      },
      "execution_count": 26,
      "outputs": []
    },
    {
      "cell_type": "code",
      "source": [
        "from pyspark import SparkFiles\n",
        "url = \"https://vasudha-bucket.s3.ca-central-1.amazonaws.com/recidivism_data.csv\"\n",
        "spark.sparkContext.addFile(url)\n",
        "df = spark.read.csv(SparkFiles.get(\"\"), sep=\",\", header=True, inferSchema=True)\n",
        "df.show()"
      ],
      "metadata": {
        "colab": {
          "base_uri": "https://localhost:8080/"
        },
        "id": "uOSrFDnJFhFH",
        "outputId": "79c2ffb9-b399-4385-fa8f-0c911cd5272d"
      },
      "execution_count": 27,
      "outputs": [
        {
          "output_type": "stream",
          "name": "stdout",
          "text": [
            "+--------------------+-------------------------+-------------------------+--------------------+--------------------+---------------+------+----------------------+------------+---------------+----------------+--------------+---------------+--------------------------+----------------+--------------------+-----------------+\n",
            "|Fiscal Year Released|Recidivism Reporting Year|Main Supervising District|        Release Type|    Race - Ethnicity|Age At Release |   Sex|Offense Classification|Offense Type|Offense Subtype|Return to Prison|Days to Return|Recidivism Type|New Offense Classification|New Offense Type|New Offense Sub Type|Target Population|\n",
            "+--------------------+-------------------------+-------------------------+--------------------+--------------------+---------------+------+----------------------+------------+---------------+----------------+--------------+---------------+--------------------------+----------------+--------------------+-----------------+\n",
            "|                2010|                     2013|                      7JD|              Parole|Black - Non-Hispanic|          25-34|  Male|              C Felony|     Violent|        Robbery|             Yes|           433|            New|                  C Felony|            Drug|         Trafficking|              Yes|\n",
            "|                2010|                     2013|                     null|Discharged – End ...|White - Non-Hispanic|          25-34|  Male|              D Felony|    Property|          Theft|             Yes|           453|           Tech|                      null|            null|                null|               No|\n",
            "|                2010|                     2013|                      5JD|              Parole|White - Non-Hispanic|          35-44|  Male|              B Felony|        Drug|    Trafficking|             Yes|           832|           Tech|                      null|            null|                null|              Yes|\n",
            "|                2010|                     2013|                      6JD|              Parole|White - Non-Hispanic|          25-34|  Male|              B Felony|       Other| Other Criminal|              No|          null|  No Recidivism|                      null|            null|                null|              Yes|\n",
            "|                2010|                     2013|                     null|Discharged – End ...|Black - Non-Hispanic|          35-44|  Male|              D Felony|     Violent|        Assault|             Yes|           116|           Tech|                      null|            null|                null|               No|\n",
            "|                2010|                     2013|                      4JD|              Parole|White - Non-Hispanic|          25-34|  Male|              C Felony|        Drug|    Trafficking|              No|          null|  No Recidivism|                      null|            null|                null|              Yes|\n",
            "|                2010|                     2013|                      4JD|              Parole|White - Non-Hispanic|          25-34|  Male|              C Felony|        Drug|    Trafficking|              No|          null|  No Recidivism|                      null|            null|                null|              Yes|\n",
            "|                2010|                     2013|                      6JD|              Parole|Black - Non-Hispanic|          35-44|  Male|              D Felony|Public Order|            OWI|             Yes|            84|           Tech|                      null|            null|                null|              Yes|\n",
            "|                2010|                     2013|                      7JD|              Parole|White - Non-Hispanic|          25-34|  Male|     Felony - Enhanced|    Property|  Forgery/Fraud|              No|          null|  No Recidivism|                      null|            null|                null|              Yes|\n",
            "|                2010|                     2013|                      1JD|              Parole|Black - Non-Hispanic|          25-34|  Male|              C Felony|     Violent|  Other Violent|             Yes|           274|           Tech|                      null|            null|                null|              Yes|\n",
            "|                2010|                     2013|                      3JD|              Parole|White - Non-Hispanic|          25-34|  Male|              C Felony|        Drug|    Trafficking|             Yes|           165|            New|                  D Felony|            Drug|          Other Drug|              Yes|\n",
            "|                2010|                     2013|                      1JD|              Parole|White - Non-Hispanic|          25-34|  Male|              C Felony|        Drug|    Trafficking|             Yes|           249|           Tech|                      null|            null|                null|              Yes|\n",
            "|                2010|                     2013|                      8JD|              Parole|Black - Non-Hispanic|          35-44|  Male|              D Felony|        Drug|Drug Possession|             Yes|         1,001|            New|      Aggravated Misdem...|    Public Order|             Traffic|              Yes|\n",
            "|                2010|                     2013|                     null|Discharged – End ...|White - Non-Hispanic|          45-54|  Male|              D Felony|        Drug|     Other Drug|              No|          null|  No Recidivism|                      null|            null|                null|               No|\n",
            "|                2010|                     2013|                     null|Discharged – End ...|White - Non-Hispanic|          45-54|  Male|              D Felony|        Drug|     Other Drug|              No|          null|  No Recidivism|                      null|            null|                null|               No|\n",
            "|                2010|                     2013|                      1JD|              Parole|Black - Non-Hispanic|       Under 25|  Male|              C Felony|    Property|       Burglary|              No|          null|  No Recidivism|                      null|            null|                null|              Yes|\n",
            "|                2010|                     2013|                     null|Discharged – End ...|White - Non-Hispanic|       Under 25|  Male|              D Felony|Public Order|            OWI|             Yes|           763|            New|       Serious Misdemeanor|         Violent|             Assault|               No|\n",
            "|                2010|                     2013|                      7JD|              Parole|White - Non-Hispanic|          35-44|Female|              D Felony|    Property|          Theft|             Yes|           598|           Tech|                      null|            null|                null|              Yes|\n",
            "|                2010|                     2013|                     null|Discharged – End ...|Black - Non-Hispanic|          25-34|Female|              C Felony|     Violent|            Sex|              No|          null|  No Recidivism|                      null|            null|                null|               No|\n",
            "|                2010|                     2013|                     null|Discharged – End ...|Black - Non-Hispanic|          25-34|  Male|  Aggravated Misdem...|    Property|          Theft|              No|          null|  No Recidivism|                      null|            null|                null|               No|\n",
            "+--------------------+-------------------------+-------------------------+--------------------+--------------------+---------------+------+----------------------+------------+---------------+----------------+--------------+---------------+--------------------------+----------------+--------------------+-----------------+\n",
            "only showing top 20 rows\n",
            "\n"
          ]
        }
      ]
    },
    {
      "cell_type": "code",
      "source": [
        "raw_df = df.toPandas()"
      ],
      "metadata": {
        "id": "W-LlPtKvFp9j"
      },
      "execution_count": 28,
      "outputs": []
    },
    {
      "cell_type": "code",
      "source": [
        "# Dropping unnecessary columns\n",
        "raw_df = raw_df.drop(['Recidivism Reporting Year', 'Offense Subtype', 'Main Supervising District', 'Target Population'], axis = 1)\n",
        "raw_df.head()"
      ],
      "metadata": {
        "colab": {
          "base_uri": "https://localhost:8080/",
          "height": 441
        },
        "id": "zCow3TKKFvgS",
        "outputId": "c1fd4325-52f5-45ea-9d44-faad63d9faa2"
      },
      "execution_count": 29,
      "outputs": [
        {
          "output_type": "execute_result",
          "data": {
            "text/plain": [
              "   Fiscal Year Released                  Release Type      Race - Ethnicity  \\\n",
              "0                  2010                        Parole  Black - Non-Hispanic   \n",
              "1                  2010  Discharged – End of Sentence  White - Non-Hispanic   \n",
              "2                  2010                        Parole  White - Non-Hispanic   \n",
              "3                  2010                        Parole  White - Non-Hispanic   \n",
              "4                  2010  Discharged – End of Sentence  Black - Non-Hispanic   \n",
              "\n",
              "  Age At Release    Sex Offense Classification Offense Type Return to Prison  \\\n",
              "0           25-34  Male               C Felony      Violent              Yes   \n",
              "1           25-34  Male               D Felony     Property              Yes   \n",
              "2           35-44  Male               B Felony         Drug              Yes   \n",
              "3           25-34  Male               B Felony        Other               No   \n",
              "4           35-44  Male               D Felony      Violent              Yes   \n",
              "\n",
              "  Days to Return Recidivism Type New Offense Classification New Offense Type  \\\n",
              "0            433             New                   C Felony             Drug   \n",
              "1            453            Tech                       None             None   \n",
              "2            832            Tech                       None             None   \n",
              "3           None   No Recidivism                       None             None   \n",
              "4            116            Tech                       None             None   \n",
              "\n",
              "  New Offense Sub Type  \n",
              "0          Trafficking  \n",
              "1                 None  \n",
              "2                 None  \n",
              "3                 None  \n",
              "4                 None  "
            ],
            "text/html": [
              "\n",
              "  <div id=\"df-ebcc76af-af91-4327-9b4a-dd9499f8fcda\">\n",
              "    <div class=\"colab-df-container\">\n",
              "      <div>\n",
              "<style scoped>\n",
              "    .dataframe tbody tr th:only-of-type {\n",
              "        vertical-align: middle;\n",
              "    }\n",
              "\n",
              "    .dataframe tbody tr th {\n",
              "        vertical-align: top;\n",
              "    }\n",
              "\n",
              "    .dataframe thead th {\n",
              "        text-align: right;\n",
              "    }\n",
              "</style>\n",
              "<table border=\"1\" class=\"dataframe\">\n",
              "  <thead>\n",
              "    <tr style=\"text-align: right;\">\n",
              "      <th></th>\n",
              "      <th>Fiscal Year Released</th>\n",
              "      <th>Release Type</th>\n",
              "      <th>Race - Ethnicity</th>\n",
              "      <th>Age At Release</th>\n",
              "      <th>Sex</th>\n",
              "      <th>Offense Classification</th>\n",
              "      <th>Offense Type</th>\n",
              "      <th>Return to Prison</th>\n",
              "      <th>Days to Return</th>\n",
              "      <th>Recidivism Type</th>\n",
              "      <th>New Offense Classification</th>\n",
              "      <th>New Offense Type</th>\n",
              "      <th>New Offense Sub Type</th>\n",
              "    </tr>\n",
              "  </thead>\n",
              "  <tbody>\n",
              "    <tr>\n",
              "      <th>0</th>\n",
              "      <td>2010</td>\n",
              "      <td>Parole</td>\n",
              "      <td>Black - Non-Hispanic</td>\n",
              "      <td>25-34</td>\n",
              "      <td>Male</td>\n",
              "      <td>C Felony</td>\n",
              "      <td>Violent</td>\n",
              "      <td>Yes</td>\n",
              "      <td>433</td>\n",
              "      <td>New</td>\n",
              "      <td>C Felony</td>\n",
              "      <td>Drug</td>\n",
              "      <td>Trafficking</td>\n",
              "    </tr>\n",
              "    <tr>\n",
              "      <th>1</th>\n",
              "      <td>2010</td>\n",
              "      <td>Discharged – End of Sentence</td>\n",
              "      <td>White - Non-Hispanic</td>\n",
              "      <td>25-34</td>\n",
              "      <td>Male</td>\n",
              "      <td>D Felony</td>\n",
              "      <td>Property</td>\n",
              "      <td>Yes</td>\n",
              "      <td>453</td>\n",
              "      <td>Tech</td>\n",
              "      <td>None</td>\n",
              "      <td>None</td>\n",
              "      <td>None</td>\n",
              "    </tr>\n",
              "    <tr>\n",
              "      <th>2</th>\n",
              "      <td>2010</td>\n",
              "      <td>Parole</td>\n",
              "      <td>White - Non-Hispanic</td>\n",
              "      <td>35-44</td>\n",
              "      <td>Male</td>\n",
              "      <td>B Felony</td>\n",
              "      <td>Drug</td>\n",
              "      <td>Yes</td>\n",
              "      <td>832</td>\n",
              "      <td>Tech</td>\n",
              "      <td>None</td>\n",
              "      <td>None</td>\n",
              "      <td>None</td>\n",
              "    </tr>\n",
              "    <tr>\n",
              "      <th>3</th>\n",
              "      <td>2010</td>\n",
              "      <td>Parole</td>\n",
              "      <td>White - Non-Hispanic</td>\n",
              "      <td>25-34</td>\n",
              "      <td>Male</td>\n",
              "      <td>B Felony</td>\n",
              "      <td>Other</td>\n",
              "      <td>No</td>\n",
              "      <td>None</td>\n",
              "      <td>No Recidivism</td>\n",
              "      <td>None</td>\n",
              "      <td>None</td>\n",
              "      <td>None</td>\n",
              "    </tr>\n",
              "    <tr>\n",
              "      <th>4</th>\n",
              "      <td>2010</td>\n",
              "      <td>Discharged – End of Sentence</td>\n",
              "      <td>Black - Non-Hispanic</td>\n",
              "      <td>35-44</td>\n",
              "      <td>Male</td>\n",
              "      <td>D Felony</td>\n",
              "      <td>Violent</td>\n",
              "      <td>Yes</td>\n",
              "      <td>116</td>\n",
              "      <td>Tech</td>\n",
              "      <td>None</td>\n",
              "      <td>None</td>\n",
              "      <td>None</td>\n",
              "    </tr>\n",
              "  </tbody>\n",
              "</table>\n",
              "</div>\n",
              "      <button class=\"colab-df-convert\" onclick=\"convertToInteractive('df-ebcc76af-af91-4327-9b4a-dd9499f8fcda')\"\n",
              "              title=\"Convert this dataframe to an interactive table.\"\n",
              "              style=\"display:none;\">\n",
              "        \n",
              "  <svg xmlns=\"http://www.w3.org/2000/svg\" height=\"24px\"viewBox=\"0 0 24 24\"\n",
              "       width=\"24px\">\n",
              "    <path d=\"M0 0h24v24H0V0z\" fill=\"none\"/>\n",
              "    <path d=\"M18.56 5.44l.94 2.06.94-2.06 2.06-.94-2.06-.94-.94-2.06-.94 2.06-2.06.94zm-11 1L8.5 8.5l.94-2.06 2.06-.94-2.06-.94L8.5 2.5l-.94 2.06-2.06.94zm10 10l.94 2.06.94-2.06 2.06-.94-2.06-.94-.94-2.06-.94 2.06-2.06.94z\"/><path d=\"M17.41 7.96l-1.37-1.37c-.4-.4-.92-.59-1.43-.59-.52 0-1.04.2-1.43.59L10.3 9.45l-7.72 7.72c-.78.78-.78 2.05 0 2.83L4 21.41c.39.39.9.59 1.41.59.51 0 1.02-.2 1.41-.59l7.78-7.78 2.81-2.81c.8-.78.8-2.07 0-2.86zM5.41 20L4 18.59l7.72-7.72 1.47 1.35L5.41 20z\"/>\n",
              "  </svg>\n",
              "      </button>\n",
              "      \n",
              "  <style>\n",
              "    .colab-df-container {\n",
              "      display:flex;\n",
              "      flex-wrap:wrap;\n",
              "      gap: 12px;\n",
              "    }\n",
              "\n",
              "    .colab-df-convert {\n",
              "      background-color: #E8F0FE;\n",
              "      border: none;\n",
              "      border-radius: 50%;\n",
              "      cursor: pointer;\n",
              "      display: none;\n",
              "      fill: #1967D2;\n",
              "      height: 32px;\n",
              "      padding: 0 0 0 0;\n",
              "      width: 32px;\n",
              "    }\n",
              "\n",
              "    .colab-df-convert:hover {\n",
              "      background-color: #E2EBFA;\n",
              "      box-shadow: 0px 1px 2px rgba(60, 64, 67, 0.3), 0px 1px 3px 1px rgba(60, 64, 67, 0.15);\n",
              "      fill: #174EA6;\n",
              "    }\n",
              "\n",
              "    [theme=dark] .colab-df-convert {\n",
              "      background-color: #3B4455;\n",
              "      fill: #D2E3FC;\n",
              "    }\n",
              "\n",
              "    [theme=dark] .colab-df-convert:hover {\n",
              "      background-color: #434B5C;\n",
              "      box-shadow: 0px 1px 3px 1px rgba(0, 0, 0, 0.15);\n",
              "      filter: drop-shadow(0px 1px 2px rgba(0, 0, 0, 0.3));\n",
              "      fill: #FFFFFF;\n",
              "    }\n",
              "  </style>\n",
              "\n",
              "      <script>\n",
              "        const buttonEl =\n",
              "          document.querySelector('#df-ebcc76af-af91-4327-9b4a-dd9499f8fcda button.colab-df-convert');\n",
              "        buttonEl.style.display =\n",
              "          google.colab.kernel.accessAllowed ? 'block' : 'none';\n",
              "\n",
              "        async function convertToInteractive(key) {\n",
              "          const element = document.querySelector('#df-ebcc76af-af91-4327-9b4a-dd9499f8fcda');\n",
              "          const dataTable =\n",
              "            await google.colab.kernel.invokeFunction('convertToInteractive',\n",
              "                                                     [key], {});\n",
              "          if (!dataTable) return;\n",
              "\n",
              "          const docLinkHtml = 'Like what you see? Visit the ' +\n",
              "            '<a target=\"_blank\" href=https://colab.research.google.com/notebooks/data_table.ipynb>data table notebook</a>'\n",
              "            + ' to learn more about interactive tables.';\n",
              "          element.innerHTML = '';\n",
              "          dataTable['output_type'] = 'display_data';\n",
              "          await google.colab.output.renderOutput(dataTable, element);\n",
              "          const docLink = document.createElement('div');\n",
              "          docLink.innerHTML = docLinkHtml;\n",
              "          element.appendChild(docLink);\n",
              "        }\n",
              "      </script>\n",
              "    </div>\n",
              "  </div>\n",
              "  "
            ]
          },
          "metadata": {},
          "execution_count": 29
        }
      ]
    },
    {
      "cell_type": "code",
      "source": [
        "# Dropping rows with blanks in race column\n",
        "import numpy as np\n",
        "raw_df[\"Race - Ethnicity\"].replace(\"\", np.nan, inplace=True)\n",
        "raw_df = raw_df.dropna(subset=[\"Race - Ethnicity\"])"
      ],
      "metadata": {
        "id": "6dvNEsAsFxEG"
      },
      "execution_count": 30,
      "outputs": []
    },
    {
      "cell_type": "code",
      "source": [
        "raw_df.head()"
      ],
      "metadata": {
        "colab": {
          "base_uri": "https://localhost:8080/",
          "height": 441
        },
        "id": "WgCr6bgJF6rm",
        "outputId": "d5982246-d374-471e-a814-48ddce87c6aa"
      },
      "execution_count": 31,
      "outputs": [
        {
          "output_type": "execute_result",
          "data": {
            "text/plain": [
              "   Fiscal Year Released                  Release Type      Race - Ethnicity  \\\n",
              "0                  2010                        Parole  Black - Non-Hispanic   \n",
              "1                  2010  Discharged – End of Sentence  White - Non-Hispanic   \n",
              "2                  2010                        Parole  White - Non-Hispanic   \n",
              "3                  2010                        Parole  White - Non-Hispanic   \n",
              "4                  2010  Discharged – End of Sentence  Black - Non-Hispanic   \n",
              "\n",
              "  Age At Release    Sex Offense Classification Offense Type Return to Prison  \\\n",
              "0           25-34  Male               C Felony      Violent              Yes   \n",
              "1           25-34  Male               D Felony     Property              Yes   \n",
              "2           35-44  Male               B Felony         Drug              Yes   \n",
              "3           25-34  Male               B Felony        Other               No   \n",
              "4           35-44  Male               D Felony      Violent              Yes   \n",
              "\n",
              "  Days to Return Recidivism Type New Offense Classification New Offense Type  \\\n",
              "0            433             New                   C Felony             Drug   \n",
              "1            453            Tech                       None             None   \n",
              "2            832            Tech                       None             None   \n",
              "3           None   No Recidivism                       None             None   \n",
              "4            116            Tech                       None             None   \n",
              "\n",
              "  New Offense Sub Type  \n",
              "0          Trafficking  \n",
              "1                 None  \n",
              "2                 None  \n",
              "3                 None  \n",
              "4                 None  "
            ],
            "text/html": [
              "\n",
              "  <div id=\"df-7f98537b-43ba-4891-9a6c-899020a2b094\">\n",
              "    <div class=\"colab-df-container\">\n",
              "      <div>\n",
              "<style scoped>\n",
              "    .dataframe tbody tr th:only-of-type {\n",
              "        vertical-align: middle;\n",
              "    }\n",
              "\n",
              "    .dataframe tbody tr th {\n",
              "        vertical-align: top;\n",
              "    }\n",
              "\n",
              "    .dataframe thead th {\n",
              "        text-align: right;\n",
              "    }\n",
              "</style>\n",
              "<table border=\"1\" class=\"dataframe\">\n",
              "  <thead>\n",
              "    <tr style=\"text-align: right;\">\n",
              "      <th></th>\n",
              "      <th>Fiscal Year Released</th>\n",
              "      <th>Release Type</th>\n",
              "      <th>Race - Ethnicity</th>\n",
              "      <th>Age At Release</th>\n",
              "      <th>Sex</th>\n",
              "      <th>Offense Classification</th>\n",
              "      <th>Offense Type</th>\n",
              "      <th>Return to Prison</th>\n",
              "      <th>Days to Return</th>\n",
              "      <th>Recidivism Type</th>\n",
              "      <th>New Offense Classification</th>\n",
              "      <th>New Offense Type</th>\n",
              "      <th>New Offense Sub Type</th>\n",
              "    </tr>\n",
              "  </thead>\n",
              "  <tbody>\n",
              "    <tr>\n",
              "      <th>0</th>\n",
              "      <td>2010</td>\n",
              "      <td>Parole</td>\n",
              "      <td>Black - Non-Hispanic</td>\n",
              "      <td>25-34</td>\n",
              "      <td>Male</td>\n",
              "      <td>C Felony</td>\n",
              "      <td>Violent</td>\n",
              "      <td>Yes</td>\n",
              "      <td>433</td>\n",
              "      <td>New</td>\n",
              "      <td>C Felony</td>\n",
              "      <td>Drug</td>\n",
              "      <td>Trafficking</td>\n",
              "    </tr>\n",
              "    <tr>\n",
              "      <th>1</th>\n",
              "      <td>2010</td>\n",
              "      <td>Discharged – End of Sentence</td>\n",
              "      <td>White - Non-Hispanic</td>\n",
              "      <td>25-34</td>\n",
              "      <td>Male</td>\n",
              "      <td>D Felony</td>\n",
              "      <td>Property</td>\n",
              "      <td>Yes</td>\n",
              "      <td>453</td>\n",
              "      <td>Tech</td>\n",
              "      <td>None</td>\n",
              "      <td>None</td>\n",
              "      <td>None</td>\n",
              "    </tr>\n",
              "    <tr>\n",
              "      <th>2</th>\n",
              "      <td>2010</td>\n",
              "      <td>Parole</td>\n",
              "      <td>White - Non-Hispanic</td>\n",
              "      <td>35-44</td>\n",
              "      <td>Male</td>\n",
              "      <td>B Felony</td>\n",
              "      <td>Drug</td>\n",
              "      <td>Yes</td>\n",
              "      <td>832</td>\n",
              "      <td>Tech</td>\n",
              "      <td>None</td>\n",
              "      <td>None</td>\n",
              "      <td>None</td>\n",
              "    </tr>\n",
              "    <tr>\n",
              "      <th>3</th>\n",
              "      <td>2010</td>\n",
              "      <td>Parole</td>\n",
              "      <td>White - Non-Hispanic</td>\n",
              "      <td>25-34</td>\n",
              "      <td>Male</td>\n",
              "      <td>B Felony</td>\n",
              "      <td>Other</td>\n",
              "      <td>No</td>\n",
              "      <td>None</td>\n",
              "      <td>No Recidivism</td>\n",
              "      <td>None</td>\n",
              "      <td>None</td>\n",
              "      <td>None</td>\n",
              "    </tr>\n",
              "    <tr>\n",
              "      <th>4</th>\n",
              "      <td>2010</td>\n",
              "      <td>Discharged – End of Sentence</td>\n",
              "      <td>Black - Non-Hispanic</td>\n",
              "      <td>35-44</td>\n",
              "      <td>Male</td>\n",
              "      <td>D Felony</td>\n",
              "      <td>Violent</td>\n",
              "      <td>Yes</td>\n",
              "      <td>116</td>\n",
              "      <td>Tech</td>\n",
              "      <td>None</td>\n",
              "      <td>None</td>\n",
              "      <td>None</td>\n",
              "    </tr>\n",
              "  </tbody>\n",
              "</table>\n",
              "</div>\n",
              "      <button class=\"colab-df-convert\" onclick=\"convertToInteractive('df-7f98537b-43ba-4891-9a6c-899020a2b094')\"\n",
              "              title=\"Convert this dataframe to an interactive table.\"\n",
              "              style=\"display:none;\">\n",
              "        \n",
              "  <svg xmlns=\"http://www.w3.org/2000/svg\" height=\"24px\"viewBox=\"0 0 24 24\"\n",
              "       width=\"24px\">\n",
              "    <path d=\"M0 0h24v24H0V0z\" fill=\"none\"/>\n",
              "    <path d=\"M18.56 5.44l.94 2.06.94-2.06 2.06-.94-2.06-.94-.94-2.06-.94 2.06-2.06.94zm-11 1L8.5 8.5l.94-2.06 2.06-.94-2.06-.94L8.5 2.5l-.94 2.06-2.06.94zm10 10l.94 2.06.94-2.06 2.06-.94-2.06-.94-.94-2.06-.94 2.06-2.06.94z\"/><path d=\"M17.41 7.96l-1.37-1.37c-.4-.4-.92-.59-1.43-.59-.52 0-1.04.2-1.43.59L10.3 9.45l-7.72 7.72c-.78.78-.78 2.05 0 2.83L4 21.41c.39.39.9.59 1.41.59.51 0 1.02-.2 1.41-.59l7.78-7.78 2.81-2.81c.8-.78.8-2.07 0-2.86zM5.41 20L4 18.59l7.72-7.72 1.47 1.35L5.41 20z\"/>\n",
              "  </svg>\n",
              "      </button>\n",
              "      \n",
              "  <style>\n",
              "    .colab-df-container {\n",
              "      display:flex;\n",
              "      flex-wrap:wrap;\n",
              "      gap: 12px;\n",
              "    }\n",
              "\n",
              "    .colab-df-convert {\n",
              "      background-color: #E8F0FE;\n",
              "      border: none;\n",
              "      border-radius: 50%;\n",
              "      cursor: pointer;\n",
              "      display: none;\n",
              "      fill: #1967D2;\n",
              "      height: 32px;\n",
              "      padding: 0 0 0 0;\n",
              "      width: 32px;\n",
              "    }\n",
              "\n",
              "    .colab-df-convert:hover {\n",
              "      background-color: #E2EBFA;\n",
              "      box-shadow: 0px 1px 2px rgba(60, 64, 67, 0.3), 0px 1px 3px 1px rgba(60, 64, 67, 0.15);\n",
              "      fill: #174EA6;\n",
              "    }\n",
              "\n",
              "    [theme=dark] .colab-df-convert {\n",
              "      background-color: #3B4455;\n",
              "      fill: #D2E3FC;\n",
              "    }\n",
              "\n",
              "    [theme=dark] .colab-df-convert:hover {\n",
              "      background-color: #434B5C;\n",
              "      box-shadow: 0px 1px 3px 1px rgba(0, 0, 0, 0.15);\n",
              "      filter: drop-shadow(0px 1px 2px rgba(0, 0, 0, 0.3));\n",
              "      fill: #FFFFFF;\n",
              "    }\n",
              "  </style>\n",
              "\n",
              "      <script>\n",
              "        const buttonEl =\n",
              "          document.querySelector('#df-7f98537b-43ba-4891-9a6c-899020a2b094 button.colab-df-convert');\n",
              "        buttonEl.style.display =\n",
              "          google.colab.kernel.accessAllowed ? 'block' : 'none';\n",
              "\n",
              "        async function convertToInteractive(key) {\n",
              "          const element = document.querySelector('#df-7f98537b-43ba-4891-9a6c-899020a2b094');\n",
              "          const dataTable =\n",
              "            await google.colab.kernel.invokeFunction('convertToInteractive',\n",
              "                                                     [key], {});\n",
              "          if (!dataTable) return;\n",
              "\n",
              "          const docLinkHtml = 'Like what you see? Visit the ' +\n",
              "            '<a target=\"_blank\" href=https://colab.research.google.com/notebooks/data_table.ipynb>data table notebook</a>'\n",
              "            + ' to learn more about interactive tables.';\n",
              "          element.innerHTML = '';\n",
              "          dataTable['output_type'] = 'display_data';\n",
              "          await google.colab.output.renderOutput(dataTable, element);\n",
              "          const docLink = document.createElement('div');\n",
              "          docLink.innerHTML = docLinkHtml;\n",
              "          element.appendChild(docLink);\n",
              "        }\n",
              "      </script>\n",
              "    </div>\n",
              "  </div>\n",
              "  "
            ]
          },
          "metadata": {},
          "execution_count": 31
        }
      ]
    },
    {
      "cell_type": "code",
      "source": [
        "# Dropping rows with \"N/A -\" in race column\n",
        "raw_df.drop(raw_df.loc[raw_df[\"Race - Ethnicity\"] == \"N/A -\"].index, inplace=True)"
      ],
      "metadata": {
        "id": "eYreUyaoHu4G"
      },
      "execution_count": 38,
      "outputs": []
    },
    {
      "cell_type": "code",
      "source": [
        "# Simplifying race/ethnic categories\n",
        "raw_df.loc[(raw_df[\"Race - Ethnicity\"] == \"White - Hispanic\"), \"Race - Ethnicity\"] = \"Hispanic\"\n",
        "raw_df.loc[(raw_df[\"Race - Ethnicity\"] == \"White - Non-Hispanic\"), \"Race - Ethnicity\"] = \"White\"\n",
        "raw_df.loc[(raw_df[\"Race - Ethnicity\"] == \"Black - Hispanic\"), \"Race - Ethnicity\"] = \"Hispanic\"\n",
        "raw_df.loc[(raw_df[\"Race - Ethnicity\"] == \"Black - Non-Hispanic\"), \"Race - Ethnicity\"] = \"Black\"\n",
        "raw_df.loc[(raw_df[\"Race - Ethnicity\"] == \"Asian or Pacific Islander - Hispanic\"), \"Race - Ethnicity\"] = \"Hispanic\"\n",
        "raw_df.loc[(raw_df[\"Race - Ethnicity\"] == \"Asian or Pacific Islander - Non-Hispanic\"), \"Race - Ethnicity\"] = \"Asian\"\n",
        "raw_df.loc[(raw_df[\"Race - Ethnicity\"] == \"American Indian or Alaska Native - Hispanic\"), \"Race - Ethnicity\"] = \"Hispanic\"\n",
        "raw_df.loc[(raw_df[\"Race - Ethnicity\"] == \"American Indian or Alaska Native - Non-Hispanic\"), \"Race - Ethnicity\"] = \"Native\"\n",
        "raw_df.loc[(raw_df[\"Race - Ethnicity\"] == \"White -\"), \"Race - Ethnicity\"] = \"White\"\n",
        "raw_df.loc[(raw_df[\"Race - Ethnicity\"] == \"Black -\"), \"Race - Ethnicity\"] = \"Black\""
      ],
      "metadata": {
        "id": "5vD2uSTnHJjA"
      },
      "execution_count": 33,
      "outputs": []
    },
    {
      "cell_type": "code",
      "source": [
        "# Combining \"Paroled at Detainer\" columns into single column\n",
        "raw_df.loc[(raw_df[\"Release Type\"] == \"Paroled to Detainer - INS\"), \"Release Type\"] = \"Paroled to Detainer\"\n",
        "raw_df.loc[(raw_df[\"Release Type\"] == \"Paroled to Detainer - Iowa\"), \"Release Type\"] = \"Paroled to Detainer\"\n",
        "raw_df.loc[(raw_df[\"Release Type\"] == \"Paroled to Detainer - Out of State\"), \"Release Type\"] = \"Paroled to Detainer\"\n",
        "raw_df.loc[(raw_df[\"Release Type\"] == \"Paroled to Detainer - U.S. Marshall\"), \"Release Type\"] = \"Paroled to Detainer\"\n",
        "raw_df['Release Type'] = raw_df['Release Type'].fillna('Other')\n",
        "raw_df = raw_df.rename({\"Fiscal Year Released\": \"Year Released\", \"Race - Ethnicity\": \"Race\", \"Age At Release \": \"Age\", \"Convicting Offense Classification\": \"Offense Classification\", \"Convicting Offense Type\": \"Offense Type\", \"Recidivism - Return to Prison numeric\": \"Recidivism\"}, axis=1)"
      ],
      "metadata": {
        "id": "Jpgxcy0oHtKx"
      },
      "execution_count": 40,
      "outputs": []
    },
    {
      "cell_type": "code",
      "source": [
        "spark_df = spark.createDataFrame(raw_df)\n",
        "spark_df.show()"
      ],
      "metadata": {
        "colab": {
          "base_uri": "https://localhost:8080/"
        },
        "id": "rb-almhhIOWR",
        "outputId": "8e63fd47-9e3b-4a12-be58-b15d38ffdcd1"
      },
      "execution_count": 41,
      "outputs": [
        {
          "output_type": "stream",
          "name": "stdout",
          "text": [
            "+-------------+--------------------+-----+--------+------+----------------------+------------+----------------+--------------+---------------+--------------------------+----------------+--------------------+\n",
            "|Year Released|        Release Type| Race|     Age|   Sex|Offense Classification|Offense Type|Return to Prison|Days to Return|Recidivism Type|New Offense Classification|New Offense Type|New Offense Sub Type|\n",
            "+-------------+--------------------+-----+--------+------+----------------------+------------+----------------+--------------+---------------+--------------------------+----------------+--------------------+\n",
            "|         2010|              Parole|Black|   25-34|  Male|              C Felony|     Violent|             Yes|           433|            New|                  C Felony|            Drug|         Trafficking|\n",
            "|         2010|Discharged – End ...|White|   25-34|  Male|              D Felony|    Property|             Yes|           453|           Tech|                      null|            null|                null|\n",
            "|         2010|              Parole|White|   35-44|  Male|              B Felony|        Drug|             Yes|           832|           Tech|                      null|            null|                null|\n",
            "|         2010|              Parole|White|   25-34|  Male|              B Felony|       Other|              No|          null|  No Recidivism|                      null|            null|                null|\n",
            "|         2010|Discharged – End ...|Black|   35-44|  Male|              D Felony|     Violent|             Yes|           116|           Tech|                      null|            null|                null|\n",
            "|         2010|              Parole|White|   25-34|  Male|              C Felony|        Drug|              No|          null|  No Recidivism|                      null|            null|                null|\n",
            "|         2010|              Parole|White|   25-34|  Male|              C Felony|        Drug|              No|          null|  No Recidivism|                      null|            null|                null|\n",
            "|         2010|              Parole|Black|   35-44|  Male|              D Felony|Public Order|             Yes|            84|           Tech|                      null|            null|                null|\n",
            "|         2010|              Parole|White|   25-34|  Male|     Felony - Enhanced|    Property|              No|          null|  No Recidivism|                      null|            null|                null|\n",
            "|         2010|              Parole|Black|   25-34|  Male|              C Felony|     Violent|             Yes|           274|           Tech|                      null|            null|                null|\n",
            "|         2010|              Parole|White|   25-34|  Male|              C Felony|        Drug|             Yes|           165|            New|                  D Felony|            Drug|          Other Drug|\n",
            "|         2010|              Parole|White|   25-34|  Male|              C Felony|        Drug|             Yes|           249|           Tech|                      null|            null|                null|\n",
            "|         2010|              Parole|Black|   35-44|  Male|              D Felony|        Drug|             Yes|         1,001|            New|      Aggravated Misdem...|    Public Order|             Traffic|\n",
            "|         2010|Discharged – End ...|White|   45-54|  Male|              D Felony|        Drug|              No|          null|  No Recidivism|                      null|            null|                null|\n",
            "|         2010|Discharged – End ...|White|   45-54|  Male|              D Felony|        Drug|              No|          null|  No Recidivism|                      null|            null|                null|\n",
            "|         2010|              Parole|Black|Under 25|  Male|              C Felony|    Property|              No|          null|  No Recidivism|                      null|            null|                null|\n",
            "|         2010|Discharged – End ...|White|Under 25|  Male|              D Felony|Public Order|             Yes|           763|            New|       Serious Misdemeanor|         Violent|             Assault|\n",
            "|         2010|              Parole|White|   35-44|Female|              D Felony|    Property|             Yes|           598|           Tech|                      null|            null|                null|\n",
            "|         2010|Discharged – End ...|Black|   25-34|Female|              C Felony|     Violent|              No|          null|  No Recidivism|                      null|            null|                null|\n",
            "|         2010|Discharged – End ...|Black|   25-34|  Male|  Aggravated Misdem...|    Property|              No|          null|  No Recidivism|                      null|            null|                null|\n",
            "+-------------+--------------------+-----+--------+------+----------------------+------------+----------------+--------------+---------------+--------------------------+----------------+--------------------+\n",
            "only showing top 20 rows\n",
            "\n"
          ]
        }
      ]
    },
    {
      "cell_type": "code",
      "source": [
        "from pyspark.sql.window import Window\n",
        "from pyspark.sql.functions import row_number\n",
        "from pyspark.sql.functions import monotonically_increasing_id\n",
        "df1 = spark_df.withColumn(\"ID\", row_number().over(Window.orderBy(monotonically_increasing_id())))"
      ],
      "metadata": {
        "id": "YZQqP2zHIvDv"
      },
      "execution_count": 43,
      "outputs": []
    },
    {
      "cell_type": "code",
      "source": [
        "prisoner_df = df1.select(['ID','Year Released','Release Type', 'Age','Race','Sex'])\n",
        "prisoner_df.show()"
      ],
      "metadata": {
        "colab": {
          "base_uri": "https://localhost:8080/"
        },
        "id": "tKiyDcfDIcrR",
        "outputId": "b9ad8f35-7a7f-4229-a0ea-025261897922"
      },
      "execution_count": 44,
      "outputs": [
        {
          "output_type": "stream",
          "name": "stdout",
          "text": [
            "+---+-------------+--------------------+--------+-----+------+\n",
            "| ID|Year Released|        Release Type|     Age| Race|   Sex|\n",
            "+---+-------------+--------------------+--------+-----+------+\n",
            "|  1|         2010|              Parole|   25-34|Black|  Male|\n",
            "|  2|         2010|Discharged – End ...|   25-34|White|  Male|\n",
            "|  3|         2010|              Parole|   35-44|White|  Male|\n",
            "|  4|         2010|              Parole|   25-34|White|  Male|\n",
            "|  5|         2010|Discharged – End ...|   35-44|Black|  Male|\n",
            "|  6|         2010|              Parole|   25-34|White|  Male|\n",
            "|  7|         2010|              Parole|   25-34|White|  Male|\n",
            "|  8|         2010|              Parole|   35-44|Black|  Male|\n",
            "|  9|         2010|              Parole|   25-34|White|  Male|\n",
            "| 10|         2010|              Parole|   25-34|Black|  Male|\n",
            "| 11|         2010|              Parole|   25-34|White|  Male|\n",
            "| 12|         2010|              Parole|   25-34|White|  Male|\n",
            "| 13|         2010|              Parole|   35-44|Black|  Male|\n",
            "| 14|         2010|Discharged – End ...|   45-54|White|  Male|\n",
            "| 15|         2010|Discharged – End ...|   45-54|White|  Male|\n",
            "| 16|         2010|              Parole|Under 25|Black|  Male|\n",
            "| 17|         2010|Discharged – End ...|Under 25|White|  Male|\n",
            "| 18|         2010|              Parole|   35-44|White|Female|\n",
            "| 19|         2010|Discharged – End ...|   25-34|Black|Female|\n",
            "| 20|         2010|Discharged – End ...|   25-34|Black|  Male|\n",
            "+---+-------------+--------------------+--------+-----+------+\n",
            "only showing top 20 rows\n",
            "\n"
          ]
        }
      ]
    },
    {
      "cell_type": "code",
      "source": [
        "offense_type_df = df1[['ID','Offense Classification','Offense Type']]\n",
        "offense_type_df.show()"
      ],
      "metadata": {
        "colab": {
          "base_uri": "https://localhost:8080/"
        },
        "id": "OztQBdpGI0_m",
        "outputId": "f47a0438-8dfc-47ad-f8cc-e633e2b976b4"
      },
      "execution_count": 46,
      "outputs": [
        {
          "output_type": "stream",
          "name": "stdout",
          "text": [
            "+---+----------------------+------------+\n",
            "| ID|Offense Classification|Offense Type|\n",
            "+---+----------------------+------------+\n",
            "|  1|              C Felony|     Violent|\n",
            "|  2|              D Felony|    Property|\n",
            "|  3|              B Felony|        Drug|\n",
            "|  4|              B Felony|       Other|\n",
            "|  5|              D Felony|     Violent|\n",
            "|  6|              C Felony|        Drug|\n",
            "|  7|              C Felony|        Drug|\n",
            "|  8|              D Felony|Public Order|\n",
            "|  9|     Felony - Enhanced|    Property|\n",
            "| 10|              C Felony|     Violent|\n",
            "| 11|              C Felony|        Drug|\n",
            "| 12|              C Felony|        Drug|\n",
            "| 13|              D Felony|        Drug|\n",
            "| 14|              D Felony|        Drug|\n",
            "| 15|              D Felony|        Drug|\n",
            "| 16|              C Felony|    Property|\n",
            "| 17|              D Felony|Public Order|\n",
            "| 18|              D Felony|    Property|\n",
            "| 19|              C Felony|     Violent|\n",
            "| 20|  Aggravated Misdem...|    Property|\n",
            "+---+----------------------+------------+\n",
            "only showing top 20 rows\n",
            "\n"
          ]
        }
      ]
    },
    {
      "cell_type": "code",
      "source": [
        "Recidivism_details_df = df1[['ID','Days to Return','Recidivism Type','New Offense Classification','New Offense Type','Return to Prison']]\n",
        "Recidivism_details_df.show()"
      ],
      "metadata": {
        "colab": {
          "base_uri": "https://localhost:8080/"
        },
        "id": "0SVlI6cXJDuO",
        "outputId": "362fe3a6-5e02-40ca-c301-04736788b3e1"
      },
      "execution_count": 48,
      "outputs": [
        {
          "output_type": "stream",
          "name": "stdout",
          "text": [
            "+---+--------------+---------------+--------------------------+----------------+----------------+\n",
            "| ID|Days to Return|Recidivism Type|New Offense Classification|New Offense Type|Return to Prison|\n",
            "+---+--------------+---------------+--------------------------+----------------+----------------+\n",
            "|  1|           433|            New|                  C Felony|            Drug|             Yes|\n",
            "|  2|           453|           Tech|                      null|            null|             Yes|\n",
            "|  3|           832|           Tech|                      null|            null|             Yes|\n",
            "|  4|          null|  No Recidivism|                      null|            null|              No|\n",
            "|  5|           116|           Tech|                      null|            null|             Yes|\n",
            "|  6|          null|  No Recidivism|                      null|            null|              No|\n",
            "|  7|          null|  No Recidivism|                      null|            null|              No|\n",
            "|  8|            84|           Tech|                      null|            null|             Yes|\n",
            "|  9|          null|  No Recidivism|                      null|            null|              No|\n",
            "| 10|           274|           Tech|                      null|            null|             Yes|\n",
            "| 11|           165|            New|                  D Felony|            Drug|             Yes|\n",
            "| 12|           249|           Tech|                      null|            null|             Yes|\n",
            "| 13|         1,001|            New|      Aggravated Misdem...|    Public Order|             Yes|\n",
            "| 14|          null|  No Recidivism|                      null|            null|              No|\n",
            "| 15|          null|  No Recidivism|                      null|            null|              No|\n",
            "| 16|          null|  No Recidivism|                      null|            null|              No|\n",
            "| 17|           763|            New|       Serious Misdemeanor|         Violent|             Yes|\n",
            "| 18|           598|           Tech|                      null|            null|             Yes|\n",
            "| 19|          null|  No Recidivism|                      null|            null|              No|\n",
            "| 20|          null|  No Recidivism|                      null|            null|              No|\n",
            "+---+--------------+---------------+--------------------------+----------------+----------------+\n",
            "only showing top 20 rows\n",
            "\n"
          ]
        }
      ]
    },
    {
      "cell_type": "code",
      "source": [
        "# Configure settings for RDS\n",
        "mode = \"append\"\n",
        "jdbc_url=\"jdbc:postgresql://database-1.clf82frcjuur.ca-central-1.rds.amazonaws.com:5432/postgres\"\n",
        "config = {\"user\":\"postgres\", \n",
        "          \"password\": \"Database_1\", \n",
        "          \"driver\":\"org.postgresql.Driver\"}    "
      ],
      "metadata": {
        "id": "g0CVN6tkJRCJ"
      },
      "execution_count": 49,
      "outputs": []
    },
    {
      "cell_type": "code",
      "source": [
        "# Write df to prisoners table in postgres server\n",
        "prisoner_df.write.jdbc(url=jdbc_url, table='PRISONERS', mode=mode, properties=config)"
      ],
      "metadata": {
        "id": "ZHObGPR3JbPz"
      },
      "execution_count": 50,
      "outputs": []
    },
    {
      "cell_type": "code",
      "source": [
        "Recidivism_details_df.write.jdbc(url=jdbc_url, table='RECIDIVISM', mode=mode, properties=config)"
      ],
      "metadata": {
        "id": "VSDdXMBzJhFX"
      },
      "execution_count": 51,
      "outputs": []
    },
    {
      "cell_type": "code",
      "source": [
        "offense_type_df.write.jdbc(url=jdbc_url, table='OFFENSE', mode=mode, properties=config)"
      ],
      "metadata": {
        "id": "Bpb6InQvJmuj"
      },
      "execution_count": 52,
      "outputs": []
    }
  ]
}